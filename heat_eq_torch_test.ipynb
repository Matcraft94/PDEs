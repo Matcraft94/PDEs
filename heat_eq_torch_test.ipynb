{
 "cells": [
  {
   "attachments": {},
   "cell_type": "markdown",
   "metadata": {},
   "source": [
    "# Elementos Finitos en Torch"
   ]
  },
  {
   "cell_type": "code",
   "execution_count": 1,
   "metadata": {},
   "outputs": [],
   "source": [
    "import warnings\n",
    "warnings.filterwarnings('ignore', category=DeprecationWarning)"
   ]
  },
  {
   "cell_type": "code",
   "execution_count": 2,
   "metadata": {},
   "outputs": [],
   "source": [
    "import torch\n",
    "import torchgeometry"
   ]
  },
  {
   "attachments": {},
   "cell_type": "markdown",
   "metadata": {},
   "source": [
    "Definimos la geometria de la placa y la malla de elementos finitos:"
   ]
  },
  {
   "cell_type": "code",
   "execution_count": 3,
   "metadata": {},
   "outputs": [
    {
     "name": "stderr",
     "output_type": "stream",
     "text": [
      "c:\\Users\\Det-Pc\\anaconda3\\envs\\pytorch-C-DL\\lib\\site-packages\\torch\\functional.py:504: UserWarning: torch.meshgrid: in an upcoming release, it will be required to pass the indexing argument. (Triggered internally at C:\\cb\\pytorch_1000000000000\\work\\aten\\src\\ATen\\native\\TensorShape.cpp:3191.)\n",
      "  return _VF.meshgrid(tensors, **kwargs)  # type: ignore[attr-defined]\n"
     ]
    }
   ],
   "source": [
    "M = 50  # número de nodos en la dirección x\n",
    "L = 100  # número de nodos en la dirección y\n",
    "\n",
    "# Tamaño de los elementos\n",
    "delta_x = 1.0 / (M-1)  # tamaño del paso en la dirección x\n",
    "delta_y = 1.0 / (L-1)  # tamaño del paso en la dirección y\n",
    "\n",
    "# Definir la geometría de la placa rectangular\n",
    "x = torch.linspace(0, M-1, M) * delta_x\n",
    "y = torch.linspace(0, L-1, L) * delta_y\n",
    "# X, Y = torchgeometry.meshgrid(x, y)\n",
    "X, Y = torch.meshgrid(x, y)\n",
    "\n",
    "# Crear la malla de elementos finitos uniforme en la placa rectangular\n",
    "nodes = torch.stack((X.reshape(-1), Y.reshape(-1)), dim=1)\n",
    "elems = torch.zeros((2, (M-1)*(L-1), 3), dtype=torch.long)\n",
    "idx = 0\n",
    "for i in range(L-1):\n",
    "    for j in range(M-1):\n",
    "        p1 = i*M + j\n",
    "        p2 = i*M + j + 1\n",
    "        p3 = (i+1)*M + j\n",
    "        p4 = (i+1)*M + j + 1\n",
    "        elems[:, idx, :] = torch.tensor([[p1, p2, p3], [p4, p3, p2]])\n",
    "        idx += 1"
   ]
  },
  {
   "attachments": {},
   "cell_type": "markdown",
   "metadata": {},
   "source": [
    "Definir la función de forma y la matriz de rigidez:"
   ]
  },
  {
   "cell_type": "code",
   "execution_count": 4,
   "metadata": {},
   "outputs": [],
   "source": [
    "# # Definir la función de forma (usando elementos lineales)\n",
    "# def shape_functions(p):\n",
    "#     \"\"\"Calcular las funciones de forma para un punto p.\"\"\"\n",
    "#     N = torch.zeros(3)\n",
    "#     N[0] = 1.0 - p[0] - p[1]\n",
    "#     N[1] = p[0]\n",
    "#     N[2] = p[1]\n",
    "#     return N\n",
    "\n",
    "# # # Definir la matriz de rigidez y el vector de carga para cada elemento\n",
    "# # K_elem = torch.zeros((3, 3))\n",
    "# # K_elem[0, :] = torch.tensor([1, -1, 0])\n",
    "# # K_elem[1, :] = torch.tensor([-1, 1, 0])\n",
    "# # K_elem[2, :] = torch.tensor([0, 0, 0.5])\n",
    "# # K_elem *= 1.0  # conductividad térmica\n",
    "# # K_elem *= delta_x * delta_y / 2.0  # tamaño del elemento\n",
    "# # F_elem = torch.zeros(3)\n",
    "# # F_elem[2] = 1.0  # fuente de calor uniforme\n",
    "# # F_elem *= delta_x * delta_y / 3.0  # tamaño del elemento\n",
    "# # Definir la matriz de rigidez y el vector de carga para cada elemento\n",
    "# K_elem = torch.zeros((3, 3))\n",
    "# K_elem[0, :] = torch.tensor([1, -1, 0])\n",
    "# K_elem[1, :] = torch.tensor([-1, 1, 0])\n",
    "# K_elem[2, :] = torch.tensor([0, 0, 0.5])\n",
    "# K_elem *= 1.0  # conductividad térmica\n",
    "# K_elem *= delta_x * delta_y / 2.0  # tamaño del elemento\n",
    "# F_elem = torch.zeros(3)\n",
    "# F_elem[2] = 1.0  # fuente de calor uniforme\n",
    "# F_elem *= delta_x * delta_y / 3.0  # tamaño del elemento\n",
    "\n",
    "# # # Definir la matriz de rigidez y el vector de carga para toda la placa\n",
    "# # K = torch.zeros((M*L, M*L))\n",
    "# # F = torch.zeros(M*L)\n",
    "# # for i in range(elems.shape[1]):\n",
    "# #     p1 = nodes[elems[0, i, 0]]\n",
    "# #     p2 = nodes[elems[0, i, 1]]\n",
    "# #     p3 = nodes[elems[0, i, 2]]\n",
    "# #     J = torch.stack((p2-p1, p3-p1), dim=1)\n",
    "# #     J_inv = torch.inverse(J)\n",
    "# #     detJ = torch.det(J)\n",
    "# #     B = J_inv @ torch.tensor([[-1, 1, 0], [-1, 0, 1]])\n",
    "# #     K_e = B.T @ K_elem @ B * detJ\n",
    "# #     F_e = shape_functions(torch.tensor([1/3, 1/3])) @ F_elem * detJ\n",
    "# #     for a in range(3):\n",
    "# #         for b in range(3):\n",
    "# #             i_a = elems[0, i, a]\n",
    "# #             i_b = elems[0, i, b]\n",
    "# #             K[i_a, i_b] += K_e[a, b]\n",
    "# #         F[i_a] += F_e[a]\n",
    "# # Definir la matriz de rigidez y el vector de carga para toda la placa\n",
    "# K = torch.zeros((M*L, M*L))\n",
    "# F = torch.zeros(M*L)\n",
    "# for i in range(elems.shape[1]):\n",
    "#     p1 = nodes[elems[0, i, 0]]\n",
    "#     p2 = nodes[elems[0, i, 1]]\n",
    "#     p3 = nodes[elems[0, i, 2]]\n",
    "#     J = torch.stack((p2-p1, p3-p1), dim=1)\n",
    "#     detJ = torch.det(J)\n",
    "#     if detJ == 0:\n",
    "#         continue\n",
    "#     J_inv = torch.inverse(J)\n",
    "#     # # # B = J_inv @ torch.tensor([[-1, 1, 0], [-1, 0, 1]])\n",
    "    \n",
    "#     B = J_inv @ torch.tensor([[-1, 1, 0], [-1, 0, 1]], dtype=torch.float32)\n",
    "#     K_elem = B @ K_elem @ B.T * detJ\n",
    "    \n",
    "#     # # B = J_inv @ torch.tensor([[-1, 1], [-1, 0], [0, 1]], dtype=torch.float32)\n",
    "#     # # K_elem = B.T @ K_elem.T @ B * detJ\n",
    "#     # B = J_inv @ torch.tensor([[-1, 1], [-1, 0], [0, 1]], dtype=torch.float32)\n",
    "#     # K_elem = B.T @ K_elem.T @ B * detJ\n",
    "    \n",
    "#     # B = J_inv @ torch.tensor([[-1, -1], [1, 0], [0, 1]], dtype=torch.float32)\n",
    "#     # K_elem = B.T @ K_elem @ B * detJ\n",
    "\n",
    "#     # F_elem_local = shape_functions(torch.mean(torch.stack((p1, p2, p3)), dim=0)) * F_elem\n",
    "#     F_elem_local = shape_functions(torch.mean(torch.stack((p1, p2, p3)), dim=0)) * F_elem\n",
    "#     F_elem_global = torch.zeros(M*L)\n",
    "#     node_indices = elems[0, i]\n",
    "#     for j in range(3):\n",
    "#         F_elem_global[2*node_indices[j]:2*node_indices[j]+2] += F_elem_local[j*2:j*2+2]\n",
    "#     K[node_indices.repeat(2), node_indices.repeat(2, 1)] += K_elem\n",
    "#     F[node_indices.repeat(2)] += F_elem_global\n"
   ]
  },
  {
   "cell_type": "code",
   "execution_count": 8,
   "metadata": {},
   "outputs": [
    {
     "name": "stdout",
     "output_type": "stream",
     "text": [
      "torch.Size([3])\n"
     ]
    },
    {
     "ename": "IndexError",
     "evalue": "index 2 is out of bounds for dimension 1 with size 2",
     "output_type": "error",
     "traceback": [
      "\u001b[1;31m---------------------------------------------------------------------------\u001b[0m",
      "\u001b[1;31mIndexError\u001b[0m                                Traceback (most recent call last)",
      "Cell \u001b[1;32mIn [8], line 43\u001b[0m\n\u001b[0;32m     41\u001b[0m F_elem_global[\u001b[39m2\u001b[39m\u001b[39m*\u001b[39mnode_indices[j]:\u001b[39m2\u001b[39m\u001b[39m*\u001b[39mnode_indices[j]\u001b[39m+\u001b[39m\u001b[39m2\u001b[39m] \u001b[39m+\u001b[39m\u001b[39m=\u001b[39m F_elem_local[j]\n\u001b[0;32m     42\u001b[0m \u001b[39mfor\u001b[39;00m k \u001b[39min\u001b[39;00m \u001b[39mrange\u001b[39m(\u001b[39m3\u001b[39m):\n\u001b[1;32m---> 43\u001b[0m     K[\u001b[39m2\u001b[39m\u001b[39m*\u001b[39mnode_indices[j]:\u001b[39m2\u001b[39m\u001b[39m*\u001b[39mnode_indices[j]\u001b[39m+\u001b[39m\u001b[39m2\u001b[39m, \u001b[39m2\u001b[39m\u001b[39m*\u001b[39mnode_indices[k]:\u001b[39m2\u001b[39m\u001b[39m*\u001b[39mnode_indices[k]\u001b[39m+\u001b[39m\u001b[39m2\u001b[39m] \u001b[39m+\u001b[39m\u001b[39m=\u001b[39m K_elem_local[j, k]\n\u001b[0;32m     44\u001b[0m F[\u001b[39m2\u001b[39m\u001b[39m*\u001b[39mnode_indices[j]:\u001b[39m2\u001b[39m\u001b[39m*\u001b[39mnode_indices[j]\u001b[39m+\u001b[39m\u001b[39m2\u001b[39m] \u001b[39m+\u001b[39m\u001b[39m=\u001b[39m F_elem_local[j]\n",
      "\u001b[1;31mIndexError\u001b[0m: index 2 is out of bounds for dimension 1 with size 2"
     ]
    }
   ],
   "source": [
    "# Definir la función de forma (usando elementos lineales)\n",
    "def shape_functions(p):\n",
    "    \"\"\"Calcular las funciones de forma para un punto p.\"\"\"\n",
    "    N = torch.zeros(3)\n",
    "    N[0] = 1.0 - p[0] - p[1]\n",
    "    N[1] = p[0]\n",
    "    N[2] = p[1]\n",
    "    return N\n",
    "\n",
    "# Definir la matriz de rigidez y el vector de carga para cada elemento\n",
    "K_elem = torch.zeros((3, 3))\n",
    "K_elem[0, :] = torch.tensor([1, -1, 0], dtype=torch.float32)\n",
    "K_elem[1, :] = torch.tensor([-1, 1, 0], dtype=torch.float32)\n",
    "K_elem[2, :] = torch.tensor([0, 0, 0.5], dtype=torch.float32)\n",
    "K_elem *= 1.0  # conductividad térmica\n",
    "K_elem *= delta_x * delta_y / 2.0  # tamaño del elemento\n",
    "F_elem = torch.zeros(3, dtype=torch.float32)\n",
    "F_elem[2] = 1.0  # fuente de calor uniforme\n",
    "F_elem *= delta_x * delta_y / 3.0  # tamaño del elemento\n",
    "\n",
    "# Definir la matriz de rigidez y el vector de carga para toda la placa\n",
    "K = torch.zeros((M*L, M*L), dtype=torch.float32)\n",
    "F = torch.zeros(M*L, dtype=torch.float32)\n",
    "for i in range(elems.shape[1]):\n",
    "    p1 = nodes[elems[0, i, 0]]\n",
    "    p2 = nodes[elems[0, i, 1]]\n",
    "    p3 = nodes[elems[0, i, 2]]\n",
    "    J = torch.stack((p2-p1, p3-p1), dim=1)\n",
    "    detJ = torch.det(J)\n",
    "    if detJ == 0:\n",
    "        continue\n",
    "    J_inv = torch.inverse(J)\n",
    "    \n",
    "    B = J_inv @ torch.tensor([[-1, 1, 0], [-1, 0, 1]], dtype=torch.float32)\n",
    "    K_elem_local = B @ K_elem @ B.T * detJ\n",
    "    F_elem_local = shape_functions(torch.mean(torch.stack((p1, p2, p3)), dim=0)) * F_elem\n",
    "    F_elem_global = torch.zeros(M*L, dtype=torch.float32)\n",
    "    node_indices = elems[0, i]\n",
    "    print(node_indices.shape)\n",
    "    for j in range(3):\n",
    "        F_elem_global[2*node_indices[j]:2*node_indices[j]+2] += F_elem_local[j]\n",
    "        for k in range(3):\n",
    "            K[2*node_indices[j]:2*node_indices[j]+2, 2*node_indices[k]:2*node_indices[k]+2] += K_elem_local[j, k]\n",
    "        F[2*node_indices[j]:2*node_indices[j]+2] += F_elem_local[j]\n"
   ]
  },
  {
   "cell_type": "code",
   "execution_count": null,
   "metadata": {},
   "outputs": [],
   "source": []
  }
 ],
 "metadata": {
  "kernelspec": {
   "display_name": "pytorch-C-DL",
   "language": "python",
   "name": "python3"
  },
  "language_info": {
   "codemirror_mode": {
    "name": "ipython",
    "version": 3
   },
   "file_extension": ".py",
   "mimetype": "text/x-python",
   "name": "python",
   "nbconvert_exporter": "python",
   "pygments_lexer": "ipython3",
   "version": "3.10.6"
  },
  "orig_nbformat": 4,
  "vscode": {
   "interpreter": {
    "hash": "85b52fbe45fd3d3f6426508f2b1ceb63e7294645d1a7097c9a6e2bd314b42ccf"
   }
  }
 },
 "nbformat": 4,
 "nbformat_minor": 2
}
