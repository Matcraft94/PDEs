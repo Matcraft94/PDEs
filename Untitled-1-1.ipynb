{
 "cells": [
  {
   "attachments": {},
   "cell_type": "markdown",
   "metadata": {},
   "source": [
    "# N-body Problemm simulated with PINN"
   ]
  },
  {
   "cell_type": "code",
   "execution_count": 25,
   "metadata": {},
   "outputs": [],
   "source": [
    "import torch\n",
    "import numpy as np\n",
    "import matplotlib.pyplot as plt\n",
    "import os\n",
    "from matplotlib.animation import FuncAnimation"
   ]
  },
  {
   "cell_type": "code",
   "execution_count": 31,
   "metadata": {},
   "outputs": [],
   "source": [
    "def exact_solution(t, y0):\n",
    "    n_bodies = len(y0) // 4\n",
    "    y_exact = np.zeros((len(t), len(y0)))\n",
    "    y_exact[0] = y0\n",
    "    \n",
    "    # Calcular la solución exacta utilizando el método de Euler\n",
    "    for i in range(len(t)-1):\n",
    "        y = y_exact[i].copy()\n",
    "        dt = t[i+1] - t[i]\n",
    "        for j in range(n_bodies):\n",
    "            for k in range(n_bodies):\n",
    "                if j != k:\n",
    "                    r = np.sqrt((y[k*4] - y[j*4])**2 + (y[k*4+2] - y[j*4+2])**2)\n",
    "                    y[j*4+1] += dt * (y[k*4] - y[j*4]) / r**3\n",
    "                    y[j*4+3] += dt * (y[k*4+2] - y[j*4+2]) / r**3\n",
    "        y_exact[i+1] = y\n",
    "        \n",
    "    return y_exact"
   ]
  },
  {
   "cell_type": "code",
   "execution_count": 26,
   "metadata": {},
   "outputs": [],
   "source": [
    "def gravitational_force(m1, m2, r):\n",
    "    G = 6.67430e-11  # Constante gravitatoria\n",
    "    f = G * m1 * m2 / (r ** 2 + 1e-6)  # Fuerza gravitatoria\n",
    "    return f"
   ]
  },
  {
   "cell_type": "code",
   "execution_count": 27,
   "metadata": {},
   "outputs": [],
   "source": [
    "class PINN(torch.nn.Module):\n",
    "    def __init__(self, n_bodies, n_layers, n_neurons):\n",
    "        super().__init__()\n",
    "        self.n_bodies = n_bodies\n",
    "        self.n_layers = n_layers\n",
    "        self.n_neurons = n_neurons\n",
    "        \n",
    "        # Capa de entrada\n",
    "        self.input_layer = torch.nn.Linear(self.n_bodies * 4, self.n_neurons)\n",
    "        \n",
    "        # Capas ocultas\n",
    "        self.hidden_layers = torch.nn.ModuleList()\n",
    "        for i in range(self.n_layers):\n",
    "            self.hidden_layers.append(torch.nn.Linear(self.n_neurons, self.n_neurons))\n",
    "        \n",
    "        # Capa de salida\n",
    "        self.output_layer = torch.nn.Linear(self.n_neurons, self.n_bodies * 2)\n",
    "    \n",
    "    def forward(self, x):\n",
    "        # Capa de entrada\n",
    "        h = torch.relu(self.input_layer(x))\n",
    "        \n",
    "        # Capas ocultas\n",
    "        for i in range(self.n_layers):\n",
    "            h = torch.relu(self.hidden_layers[i](h))\n",
    "        \n",
    "        # Capa de salida\n",
    "        y = self.output_layer(h)\n",
    "        \n",
    "        return y"
   ]
  },
  {
   "cell_type": "code",
   "execution_count": 28,
   "metadata": {},
   "outputs": [],
   "source": [
    "def loss_fn(model, x_ic, y_ic, x, y_exact):\n",
    "    # Ecuación diferencial\n",
    "    y = model(x)\n",
    "    dy_dt = torch.autograd.grad(y.sum(), x, create_graph=True)[0]\n",
    "    dy2_dx2 = torch.autograd.grad(dy_dt[:, 1], x, create_graph=True)[0][:, 0]\n",
    "    f = dy2_dx2 + gravitational_force(y[:, 3], y[:, 7], y[:, 1] - y[:, 5])\n",
    "    loss_pde = torch.mean(torch.square(f))\n",
    "    \n",
    "    # Condición inicial\n",
    "    loss_ic = torch.mean(torch.square(model(x_ic) - y_ic))\n",
    "    \n",
    "    # Condición de borde\n",
    "    loss_bc = torch.mean(torch.square(y[0, :2] - y_exact[0, :2]))\n",
    "    \n",
    "    # Pérdida total\n",
    "    loss = loss_pde + loss_ic + loss_bc\n",
    "    \n",
    "    return loss\n"
   ]
  },
  {
   "cell_type": "code",
   "execution_count": 29,
   "metadata": {},
   "outputs": [],
   "source": [
    "def train(model, x_ic, y_ic, x_bc, y_bc, x_test, y_test, epochs, batch_size, lr):\n",
    "    optimizer = torch.optim.Adam(model.parameters(), lr=lr)\n",
    "    \n",
    "    # Crear directorio para guardar los resultados\n",
    "    if not os.path.exists('results'):\n",
    "        os.makedirs('results')\n",
    "    \n",
    "    # Listas para almacenar los resultados\n",
    "    losses = []\n",
    "    errors = []\n",
    "    \n",
    "    # Entrenamiento\n",
    "    for epoch in range(epochs):\n",
    "        # Generar un batch aleatorio de puntos\n",
    "        idx = np.random.choice(x_bc.shape[0], batch_size, replace=False)\n",
    "        x_batch = x_bc[idx]\n",
    "        y_batch = y_bc[idx]\n",
    "        \n",
    "        # Calcular la pérdida y realizar la retropropagación\n",
    "        model.train()\n",
    "        optimizer.zero_grad()\n",
    "        loss = loss_fn(model, x_ic, y_ic, x_batch, y_batch)\n",
    "        loss.backward()\n",
    "        optimizer.step()\n",
    "        \n",
    "        # Calcular el error en el conjunto de prueba\n",
    "        model.eval()\n",
    "        y_pred = model(x_test)\n",
    "        error = torch.mean(torch.square(y_pred - y_test))\n",
    "        \n",
    "        # Imprimir y guardar los resultados\n",
    "        if epoch % 100 == 0:\n",
    "            print(f'Epoch {epoch}, Loss: {loss.item()}, Error: {error.item()}')\n",
    "            losses.append(loss.item())\n",
    "            errors.append(error.item())\n",
    "            # Graficar la solución\n",
    "            y_exact = np.load('exact_solution.npy')[epoch]\n",
    "            y_pred_np = y_pred.detach().numpy()\n",
    "            plt.figure()\n",
    "            plt.plot(y_exact[:, 0], y_exact[:, 1], 'b-', label='Exact solution')\n",
    "            plt.plot(y_pred_np[:, 0], y_pred_np[:, 1], 'r--', label='PINN solution')\n",
    "            plt.legend()\n",
    "            plt.savefig(f'results/solution_{epoch}.png')\n",
    "            plt.close()\n",
    "    \n",
    "    # Guardar los resultados\n",
    "    np.savetxt('losses.txt', np.array(losses))\n",
    "    np.savetxt('errors.txt', np.array(errors))\n"
   ]
  },
  {
   "cell_type": "code",
   "execution_count": 30,
   "metadata": {},
   "outputs": [
    {
     "name": "stderr",
     "output_type": "stream",
     "text": [
      "C:\\Users\\Det-Pc\\AppData\\Local\\Temp\\ipykernel_35244\\562193699.py:15: RuntimeWarning: invalid value encountered in double_scalars\n",
      "  y[j*2+1] += dt * (y[k*2] - y[j*2]) / r**3\n"
     ]
    },
    {
     "ename": "IndexError",
     "evalue": "index 9 is out of bounds for axis 0 with size 8",
     "output_type": "error",
     "traceback": [
      "\u001b[1;31m---------------------------------------------------------------------------\u001b[0m",
      "\u001b[1;31mIndexError\u001b[0m                                Traceback (most recent call last)",
      "Cell \u001b[1;32mIn [30], line 16\u001b[0m\n\u001b[0;32m     14\u001b[0m                 r \u001b[39m=\u001b[39m np\u001b[39m.\u001b[39msqrt((y[k\u001b[39m*\u001b[39m\u001b[39m2\u001b[39m] \u001b[39m-\u001b[39m y[j\u001b[39m*\u001b[39m\u001b[39m2\u001b[39m])\u001b[39m*\u001b[39m\u001b[39m*\u001b[39m\u001b[39m2\u001b[39m \u001b[39m+\u001b[39m (y[k\u001b[39m*\u001b[39m\u001b[39m2\u001b[39m\u001b[39m+\u001b[39m\u001b[39m1\u001b[39m] \u001b[39m-\u001b[39m y[j\u001b[39m*\u001b[39m\u001b[39m2\u001b[39m\u001b[39m+\u001b[39m\u001b[39m1\u001b[39m])\u001b[39m*\u001b[39m\u001b[39m*\u001b[39m\u001b[39m2\u001b[39m)\n\u001b[0;32m     15\u001b[0m                 y[j\u001b[39m*\u001b[39m\u001b[39m2\u001b[39m\u001b[39m+\u001b[39m\u001b[39m1\u001b[39m] \u001b[39m+\u001b[39m\u001b[39m=\u001b[39m dt \u001b[39m*\u001b[39m (y[k\u001b[39m*\u001b[39m\u001b[39m2\u001b[39m] \u001b[39m-\u001b[39m y[j\u001b[39m*\u001b[39m\u001b[39m2\u001b[39m]) \u001b[39m/\u001b[39m r\u001b[39m*\u001b[39m\u001b[39m*\u001b[39m\u001b[39m3\u001b[39m\n\u001b[1;32m---> 16\u001b[0m                 y[j\u001b[39m*\u001b[39m\u001b[39m2\u001b[39m\u001b[39m+\u001b[39m\u001b[39m3\u001b[39m] \u001b[39m+\u001b[39m\u001b[39m=\u001b[39m dt \u001b[39m*\u001b[39m (y[k\u001b[39m*\u001b[39m\u001b[39m2\u001b[39m\u001b[39m+\u001b[39m\u001b[39m1\u001b[39m] \u001b[39m-\u001b[39m y[j\u001b[39m*\u001b[39m\u001b[39m2\u001b[39m\u001b[39m+\u001b[39m\u001b[39m1\u001b[39m]) \u001b[39m/\u001b[39m r\u001b[39m*\u001b[39m\u001b[39m*\u001b[39m\u001b[39m3\u001b[39m\n\u001b[0;32m     17\u001b[0m     y_exact[i\u001b[39m+\u001b[39m\u001b[39m1\u001b[39m] \u001b[39m=\u001b[39m y\n\u001b[0;32m     19\u001b[0m \u001b[39m# Escalar los datos\u001b[39;00m\n",
      "\u001b[1;31mIndexError\u001b[0m: index 9 is out of bounds for axis 0 with size 8"
     ]
    }
   ],
   "source": [
    "# Parámetros del problema\n",
    "n_bodies = 4  # Número de cuerpos\n",
    "n_steps = 10000  # Número de pasos de integración\n",
    "dt = 0.01  # Paso de integración\n",
    "\n",
    "# Generar la solución exacta utilizando el método de Euler\n",
    "y_exact = np.zeros((n_steps + 1, n_bodies * 2))\n",
    "y_exact[0] = np.array([0, 0, 0, 0, 1, 0, 1, 1])  # Posición y velocidad inicial\n",
    "for i in range(n_steps):\n",
    "    y = y_exact[i].copy()\n",
    "    for j in range(n_bodies):\n",
    "        for k in range(n_bodies):\n",
    "            if j != k:\n",
    "                r = np.sqrt((y[k*2] - y[j*2])**2 + (y[k*2+1] - y[j*2+1])**2)\n",
    "                y[j*2+1] += dt * (y[k*2] - y[j*2]) / r**3\n",
    "                y[j*2+3] += dt * (y[k*2+1] - y[j*2+1]) / r**3\n",
    "    y_exact[i+1] = y\n",
    "\n",
    "# Escalar los datos\n",
    "scaler = StandardScaler()\n",
    "y_exact_scaled = scaler.fit_transform(y_exact)\n",
    "\n",
    "# Dividir los datos en entrenamiento y prueba\n",
    "n_train = int(0.8 * n_steps)\n",
    "x_train = np.arange(n_train).reshape(-1, 1)\n",
    "y_train = y_exact_scaled[:n_train]\n",
    "x_test = np.arange(n_train, n_steps+1).reshape(-1, 1)\n",
    "y_test = y_exact_scaled[n_train:]\n",
    "\n",
    "# Generar los datos para la condición inicial y las condiciones de borde\n",
    "x_ic = np.zeros((n_bodies, 1))\n",
    "y_ic = np.zeros((n_bodies, 2))\n",
    "for i in range(n_bodies):\n",
    "    x_ic[i] = i\n",
    "    y_ic[i, 0] = y_exact_scaled[0, i*2]\n",
    "    y_ic[i, 1] = y_exact_scaled[0, i*2+1]\n",
    "x_bc = np.vstack((x_train, x_train, x_train))\n",
    "y_bc = np.vstack((y_train[:, [0]], y_train[:, [2]], y_train[:, [4]]))\n"
   ]
  },
  {
   "cell_type": "code",
   "execution_count": null,
   "metadata": {},
   "outputs": [],
   "source": [
    "# Parámetros de entrenamiento\n",
    "epochs = 2000\n",
    "batch_size = 32\n",
    "lr = 0.001\n",
    "\n",
    "# Entrenar el modelo\n",
    "model = PINN()\n",
    "train(model, x_ic, y_ic, x_bc, y_bc, x_test, y_test, epochs, batch_size, lr)"
   ]
  },
  {
   "cell_type": "code",
   "execution_count": null,
   "metadata": {},
   "outputs": [],
   "source": [
    "# Cargar las imágenes y generar la animación\n",
    "images = []\n",
    "for i in range(0, epochs, 10):\n",
    "    # Cargar la imagen\n",
    "    filename = os.path.join(\"results\", f\"epoch_{i:04d}.png\")\n",
    "    image = Image.open(filename)\n",
    "    images.append(image)\n",
    "\n",
    "# Guardar la animación\n",
    "images[0].save(os.path.join(\"results\", \"animation.gif\"), save_all=True, append_images=images[1:], duration=50, loop=0)"
   ]
  }
 ],
 "metadata": {
  "kernelspec": {
   "display_name": "pytorch-C-DL",
   "language": "python",
   "name": "python3"
  },
  "language_info": {
   "codemirror_mode": {
    "name": "ipython",
    "version": 3
   },
   "file_extension": ".py",
   "mimetype": "text/x-python",
   "name": "python",
   "nbconvert_exporter": "python",
   "pygments_lexer": "ipython3",
   "version": "3.10.6"
  },
  "orig_nbformat": 4,
  "vscode": {
   "interpreter": {
    "hash": "85b52fbe45fd3d3f6426508f2b1ceb63e7294645d1a7097c9a6e2bd314b42ccf"
   }
  }
 },
 "nbformat": 4,
 "nbformat_minor": 2
}
