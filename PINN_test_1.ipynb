{
 "cells": [
  {
   "attachments": {},
   "cell_type": "markdown",
   "metadata": {},
   "source": [
    "# PINN applied to the N-body Problem"
   ]
  },
  {
   "cell_type": "code",
   "execution_count": null,
   "metadata": {},
   "outputs": [],
   "source": []
  },
  {
   "cell_type": "code",
   "execution_count": 1,
   "metadata": {},
   "outputs": [],
   "source": [
    "import numpy as np\n",
    "\n",
    "import torch\n",
    "import torch.nn as nn\n",
    "from torch.utils.data import DataLoader, Dataset, TensorDataset\n",
    "\n",
    "import matplotlib.pyplot as plt\n",
    "from matplotlib.animation import FuncAnimation\n",
    "%matplotlib inline\n",
    "\n",
    "import imageio\n",
    "import os"
   ]
  },
  {
   "cell_type": "code",
   "execution_count": 2,
   "metadata": {},
   "outputs": [],
   "source": [
    "import numpy as np\n",
    "\n",
    "def generate_nbody_data(n_bodies, masses):\n",
    "    # Generar posiciones y velocidades aleatorias para los cuerpos\n",
    "    positions = np.random.uniform(-1, 1, size=(n_bodies, 2))\n",
    "    velocities = np.random.normal(scale=0.1, size=(n_bodies, 2))\n",
    "\n",
    "    # Calcular la aceleración inicial para cada cuerpo\n",
    "    G = 1\n",
    "    acceleration = np.zeros((n_bodies, 2))\n",
    "    for i in range(n_bodies):\n",
    "        for j in range(n_bodies):\n",
    "            if i != j:\n",
    "                r_ij = positions[j] - positions[i]\n",
    "                acceleration[i] += G * masses[j] * r_ij / np.linalg.norm(r_ij)**3\n",
    "\n",
    "    return positions, velocities, acceleration\n"
   ]
  },
  {
   "cell_type": "code",
   "execution_count": 3,
   "metadata": {},
   "outputs": [],
   "source": [
    "class NBodyDataset(Dataset):\n",
    "    def __init__(self, n_bodies, masses, n_points=100):\n",
    "        self.positions, self.velocities, self.accelerations = generate_nbody_data(n_bodies, masses)\n",
    "        self.times = torch.linspace(0, 1, n_points)\n",
    "\n",
    "    def __len__(self):\n",
    "        return len(self.times)\n",
    "\n",
    "    def __getitem__(self, idx):\n",
    "        t = self.times[idx]\n",
    "        x = self.positions + self.velocities * t.unsqueeze(1) + 0.5 * self.accelerations * t.unsqueeze(1)**2\n",
    "        v = self.velocities + self.accelerations * t.unsqueeze(1)\n",
    "        a = self.accelerations\n",
    "        return x, v, a\n"
   ]
  },
  {
   "cell_type": "code",
   "execution_count": 4,
   "metadata": {},
   "outputs": [
    {
     "ename": "TypeError",
     "evalue": "Concatenation operation is not implemented for NumPy arrays, use np.concatenate() instead. Please do not rely on this error; it may not be given on all Python implementations.",
     "output_type": "error",
     "traceback": [
      "\u001b[1;31m---------------------------------------------------------------------------\u001b[0m",
      "\u001b[1;31mTypeError\u001b[0m                                 Traceback (most recent call last)",
      "Cell \u001b[1;32mIn [4], line 15\u001b[0m\n\u001b[0;32m     12\u001b[0m masses \u001b[39m=\u001b[39m torch\u001b[39m.\u001b[39mrand(n_bodies)\n\u001b[0;32m     13\u001b[0m n_points \u001b[39m=\u001b[39m \u001b[39m1000\u001b[39m\n\u001b[1;32m---> 15\u001b[0m dataset \u001b[39m=\u001b[39m NBodyDataset(n_bodies, masses, n_points)\n\u001b[0;32m     16\u001b[0m dataloader \u001b[39m=\u001b[39m DataLoader(dataset, batch_size\u001b[39m=\u001b[39m\u001b[39m100\u001b[39m, shuffle\u001b[39m=\u001b[39m\u001b[39mTrue\u001b[39;00m)\n",
      "Cell \u001b[1;32mIn [3], line 3\u001b[0m, in \u001b[0;36mNBodyDataset.__init__\u001b[1;34m(self, n_bodies, masses, n_points)\u001b[0m\n\u001b[0;32m      2\u001b[0m \u001b[39mdef\u001b[39;00m \u001b[39m__init__\u001b[39m(\u001b[39mself\u001b[39m, n_bodies, masses, n_points\u001b[39m=\u001b[39m\u001b[39m100\u001b[39m):\n\u001b[1;32m----> 3\u001b[0m     \u001b[39mself\u001b[39m\u001b[39m.\u001b[39mpositions, \u001b[39mself\u001b[39m\u001b[39m.\u001b[39mvelocities, \u001b[39mself\u001b[39m\u001b[39m.\u001b[39maccelerations \u001b[39m=\u001b[39m generate_nbody_data(n_bodies, masses)\n\u001b[0;32m      4\u001b[0m     \u001b[39mself\u001b[39m\u001b[39m.\u001b[39mtimes \u001b[39m=\u001b[39m torch\u001b[39m.\u001b[39mlinspace(\u001b[39m0\u001b[39m, \u001b[39m1\u001b[39m, n_points)\n",
      "Cell \u001b[1;32mIn [2], line 15\u001b[0m, in \u001b[0;36mgenerate_nbody_data\u001b[1;34m(n_bodies, masses)\u001b[0m\n\u001b[0;32m     13\u001b[0m         \u001b[39mif\u001b[39;00m i \u001b[39m!=\u001b[39m j:\n\u001b[0;32m     14\u001b[0m             r_ij \u001b[39m=\u001b[39m positions[j] \u001b[39m-\u001b[39m positions[i]\n\u001b[1;32m---> 15\u001b[0m             acceleration[i] \u001b[39m+\u001b[39m\u001b[39m=\u001b[39m G \u001b[39m*\u001b[39m masses[j] \u001b[39m*\u001b[39m r_ij \u001b[39m/\u001b[39m np\u001b[39m.\u001b[39mlinalg\u001b[39m.\u001b[39mnorm(r_ij)\u001b[39m*\u001b[39m\u001b[39m*\u001b[39m\u001b[39m3\u001b[39m\n\u001b[0;32m     17\u001b[0m \u001b[39mreturn\u001b[39;00m positions, velocities, acceleration\n",
      "\u001b[1;31mTypeError\u001b[0m: Concatenation operation is not implemented for NumPy arrays, use np.concatenate() instead. Please do not rely on this error; it may not be given on all Python implementations."
     ]
    }
   ],
   "source": [
    "# n_points = 1000\n",
    "# n_bodies = 5\n",
    "# m_min, m_max = 1.0, 10.0\n",
    "# x_min, x_max = -1.0, 1.0\n",
    "# v_max = 0.1\n",
    "# dt = 0.01\n",
    "\n",
    "# dataset = NBodyDataset(n_points, n_bodies, m_min, m_max, x_min, x_max, v_max, dt)\n",
    "# dataloader = torch.utils.data.DataLoader(dataset, batch_size=100, shuffle=True)\n",
    "\n",
    "n_bodies = 5\n",
    "masses = torch.rand(n_bodies)\n",
    "n_points = 1000\n",
    "\n",
    "dataset = NBodyDataset(n_bodies, masses, n_points)\n",
    "dataloader = DataLoader(dataset, batch_size=100, shuffle=True)\n"
   ]
  },
  {
   "cell_type": "code",
   "execution_count": null,
   "metadata": {},
   "outputs": [],
   "source": [
    "class NBodyPINN(torch.nn.Module):\n",
    "    def __init__(self, n_bodies, n_hidden):\n",
    "        super().__init__()\n",
    "        self.n_bodies = n_bodies\n",
    "        self.n_hidden = n_hidden\n",
    "        self.fc1 = torch.nn.Linear(3 * n_bodies, n_hidden)\n",
    "        self.fc2 = torch.nn.Linear(n_hidden, n_hidden)\n",
    "        self.fc3 = torch.nn.Linear(n_hidden, n_hidden)\n",
    "        self.fc4 = torch.nn.Linear(n_hidden, 3 * n_bodies)\n",
    "    \n",
    "    def forward(self, x):\n",
    "        x = x.view(-1, 3 * self.n_bodies)\n",
    "        x = torch.relu(self.fc1(x))\n",
    "        x = torch.relu(self.fc2(x))\n",
    "        x = torch.relu(self.fc3(x))\n",
    "        x = self.fc4(x)\n",
    "        return x.view(-1, self.n_bodies, 3)\n"
   ]
  },
  {
   "cell_type": "code",
   "execution_count": null,
   "metadata": {},
   "outputs": [],
   "source": [
    "model = NBodyPINN(n_bodies, n_hidden=50)\n",
    "criterion = torch.nn.MSELoss()\n",
    "optimizer = torch.optim.Adam(model.parameters(), lr=1e-3)"
   ]
  },
  {
   "cell_type": "code",
   "execution_count": null,
   "metadata": {},
   "outputs": [
    {
     "name": "stderr",
     "output_type": "stream",
     "text": [
      "c:\\Users\\Det-Pc\\anaconda3\\envs\\pytorch-C-DL\\lib\\site-packages\\torch\\nn\\modules\\loss.py:536: UserWarning: Using a target size (torch.Size([100, 100, 3])) that is different to the input size (torch.Size([100, 5, 3])). This will likely lead to incorrect results due to broadcasting. Please ensure they have the same size.\n",
      "  return F.mse_loss(input, target, reduction=self.reduction)\n"
     ]
    },
    {
     "ename": "RuntimeError",
     "evalue": "The size of tensor a (5) must match the size of tensor b (100) at non-singleton dimension 1",
     "output_type": "error",
     "traceback": [
      "\u001b[1;31m---------------------------------------------------------------------------\u001b[0m",
      "\u001b[1;31mRuntimeError\u001b[0m                              Traceback (most recent call last)",
      "Cell \u001b[1;32mIn [19], line 15\u001b[0m\n\u001b[0;32m     13\u001b[0m pred_a \u001b[39m=\u001b[39m torch\u001b[39m.\u001b[39mautograd\u001b[39m.\u001b[39mgrad(pred_v\u001b[39m.\u001b[39msum(), x, create_graph\u001b[39m=\u001b[39m\u001b[39mTrue\u001b[39;00m)[\u001b[39m0\u001b[39m]\n\u001b[0;32m     14\u001b[0m true_a \u001b[39m=\u001b[39m \u001b[39m-\u001b[39m(\u001b[39m1.0\u001b[39m \u001b[39m/\u001b[39m torch\u001b[39m.\u001b[39mnorm(x\u001b[39m.\u001b[39munsqueeze(\u001b[39m1\u001b[39m) \u001b[39m-\u001b[39m x\u001b[39m.\u001b[39munsqueeze(\u001b[39m0\u001b[39m), dim\u001b[39m=\u001b[39m\u001b[39m-\u001b[39m\u001b[39m1\u001b[39m)\u001b[39m*\u001b[39m\u001b[39m*\u001b[39m\u001b[39m3\u001b[39m) \u001b[39m@\u001b[39m x\n\u001b[1;32m---> 15\u001b[0m loss \u001b[39m=\u001b[39m criterion(pred_a, true_a) \u001b[39m+\u001b[39m criterion(pred_v, v)\n\u001b[0;32m     16\u001b[0m loss\u001b[39m.\u001b[39mbackward()\n\u001b[0;32m     17\u001b[0m optimizer\u001b[39m.\u001b[39mstep()\n",
      "File \u001b[1;32mc:\\Users\\Det-Pc\\anaconda3\\envs\\pytorch-C-DL\\lib\\site-packages\\torch\\nn\\modules\\module.py:1190\u001b[0m, in \u001b[0;36mModule._call_impl\u001b[1;34m(self, *input, **kwargs)\u001b[0m\n\u001b[0;32m   1186\u001b[0m \u001b[39m# If we don't have any hooks, we want to skip the rest of the logic in\u001b[39;00m\n\u001b[0;32m   1187\u001b[0m \u001b[39m# this function, and just call forward.\u001b[39;00m\n\u001b[0;32m   1188\u001b[0m \u001b[39mif\u001b[39;00m \u001b[39mnot\u001b[39;00m (\u001b[39mself\u001b[39m\u001b[39m.\u001b[39m_backward_hooks \u001b[39mor\u001b[39;00m \u001b[39mself\u001b[39m\u001b[39m.\u001b[39m_forward_hooks \u001b[39mor\u001b[39;00m \u001b[39mself\u001b[39m\u001b[39m.\u001b[39m_forward_pre_hooks \u001b[39mor\u001b[39;00m _global_backward_hooks\n\u001b[0;32m   1189\u001b[0m         \u001b[39mor\u001b[39;00m _global_forward_hooks \u001b[39mor\u001b[39;00m _global_forward_pre_hooks):\n\u001b[1;32m-> 1190\u001b[0m     \u001b[39mreturn\u001b[39;00m forward_call(\u001b[39m*\u001b[39m\u001b[39minput\u001b[39m, \u001b[39m*\u001b[39m\u001b[39m*\u001b[39mkwargs)\n\u001b[0;32m   1191\u001b[0m \u001b[39m# Do not call functions when jit is used\u001b[39;00m\n\u001b[0;32m   1192\u001b[0m full_backward_hooks, non_full_backward_hooks \u001b[39m=\u001b[39m [], []\n",
      "File \u001b[1;32mc:\\Users\\Det-Pc\\anaconda3\\envs\\pytorch-C-DL\\lib\\site-packages\\torch\\nn\\modules\\loss.py:536\u001b[0m, in \u001b[0;36mMSELoss.forward\u001b[1;34m(self, input, target)\u001b[0m\n\u001b[0;32m    535\u001b[0m \u001b[39mdef\u001b[39;00m \u001b[39mforward\u001b[39m(\u001b[39mself\u001b[39m, \u001b[39minput\u001b[39m: Tensor, target: Tensor) \u001b[39m-\u001b[39m\u001b[39m>\u001b[39m Tensor:\n\u001b[1;32m--> 536\u001b[0m     \u001b[39mreturn\u001b[39;00m F\u001b[39m.\u001b[39;49mmse_loss(\u001b[39minput\u001b[39;49m, target, reduction\u001b[39m=\u001b[39;49m\u001b[39mself\u001b[39;49m\u001b[39m.\u001b[39;49mreduction)\n",
      "File \u001b[1;32mc:\\Users\\Det-Pc\\anaconda3\\envs\\pytorch-C-DL\\lib\\site-packages\\torch\\nn\\functional.py:3291\u001b[0m, in \u001b[0;36mmse_loss\u001b[1;34m(input, target, size_average, reduce, reduction)\u001b[0m\n\u001b[0;32m   3288\u001b[0m \u001b[39mif\u001b[39;00m size_average \u001b[39mis\u001b[39;00m \u001b[39mnot\u001b[39;00m \u001b[39mNone\u001b[39;00m \u001b[39mor\u001b[39;00m reduce \u001b[39mis\u001b[39;00m \u001b[39mnot\u001b[39;00m \u001b[39mNone\u001b[39;00m:\n\u001b[0;32m   3289\u001b[0m     reduction \u001b[39m=\u001b[39m _Reduction\u001b[39m.\u001b[39mlegacy_get_string(size_average, reduce)\n\u001b[1;32m-> 3291\u001b[0m expanded_input, expanded_target \u001b[39m=\u001b[39m torch\u001b[39m.\u001b[39;49mbroadcast_tensors(\u001b[39minput\u001b[39;49m, target)\n\u001b[0;32m   3292\u001b[0m \u001b[39mreturn\u001b[39;00m torch\u001b[39m.\u001b[39m_C\u001b[39m.\u001b[39m_nn\u001b[39m.\u001b[39mmse_loss(expanded_input, expanded_target, _Reduction\u001b[39m.\u001b[39mget_enum(reduction))\n",
      "File \u001b[1;32mc:\\Users\\Det-Pc\\anaconda3\\envs\\pytorch-C-DL\\lib\\site-packages\\torch\\functional.py:74\u001b[0m, in \u001b[0;36mbroadcast_tensors\u001b[1;34m(*tensors)\u001b[0m\n\u001b[0;32m     72\u001b[0m \u001b[39mif\u001b[39;00m has_torch_function(tensors):\n\u001b[0;32m     73\u001b[0m     \u001b[39mreturn\u001b[39;00m handle_torch_function(broadcast_tensors, tensors, \u001b[39m*\u001b[39mtensors)\n\u001b[1;32m---> 74\u001b[0m \u001b[39mreturn\u001b[39;00m _VF\u001b[39m.\u001b[39;49mbroadcast_tensors(tensors)\n",
      "\u001b[1;31mRuntimeError\u001b[0m: The size of tensor a (5) must match the size of tensor b (100) at non-singleton dimension 1"
     ]
    }
   ],
   "source": [
    "n_epochs = 100\n",
    "train_losses = []\n",
    "valid_losses = []\n",
    "\n",
    "for epoch in range(n_epochs):\n",
    "    model.train()\n",
    "    train_loss = 0.0\n",
    "    for i, (x, v) in enumerate(dataloader):\n",
    "        optimizer.zero_grad()\n",
    "        x.requires_grad = True\n",
    "        v.requires_grad = True\n",
    "        pred_v = model(x)\n",
    "        pred_a = torch.autograd.grad(pred_v.sum(), x, create_graph=True)[0]\n",
    "        true_a = -(1.0 / torch.norm(x.unsqueeze(1) - x.unsqueeze(0), dim=-1)**3) @ x\n",
    "        loss = criterion(pred_a, true_a) + criterion(pred_v, v)\n",
    "        loss.backward()\n",
    "        optimizer.step()\n",
    "        train_loss += loss.item()\n",
    "        \n",
    "    train_loss /= len(dataloader)\n",
    "    train_losses.append(train_loss)\n",
    "    model.eval()\n",
    "    valid_loss = 0.0\n",
    "    with torch.no_grad():\n",
    "        for i, (x, v) in enumerate(dataloader):\n",
    "            x.requires_grad = True\n",
    "            v.requires_grad = True\n",
    "            pred_v = model(x)\n",
    "            pred_a = torch.autograd.grad(pred_v.sum(), x, create_graph=True)[0]\n",
    "            true_a = -(1.0 / torch.norm(x.unsqueeze(1) - x.unsqueeze(0), dim=-1)**3) @ x\n",
    "            loss = criterion(pred_a, true_a) + criterion(pred_v, v)\n",
    "            valid_loss += loss.item()\n",
    "        valid_loss /= len(dataloader)\n",
    "        valid_losses.append(valid_loss)\n",
    "    print(f\"Epoch {epoch + 1}/{n_epochs}, Train Loss: {train_loss:.6f}, Valid Loss: {valid_loss:.6f}\")\n"
   ]
  }
 ],
 "metadata": {
  "kernelspec": {
   "display_name": "pytorch-C-DL",
   "language": "python",
   "name": "python3"
  },
  "language_info": {
   "codemirror_mode": {
    "name": "ipython",
    "version": 3
   },
   "file_extension": ".py",
   "mimetype": "text/x-python",
   "name": "python",
   "nbconvert_exporter": "python",
   "pygments_lexer": "ipython3",
   "version": "3.10.6"
  },
  "orig_nbformat": 4,
  "vscode": {
   "interpreter": {
    "hash": "85b52fbe45fd3d3f6426508f2b1ceb63e7294645d1a7097c9a6e2bd314b42ccf"
   }
  }
 },
 "nbformat": 4,
 "nbformat_minor": 2
}
