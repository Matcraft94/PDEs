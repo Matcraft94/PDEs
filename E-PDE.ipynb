{
 "cells": [
  {
   "cell_type": "markdown",
   "metadata": {},
   "source": [
    "# Una EDP evolutiva\n",
    "\n",
    "$$\\begin{align*} \\dot{u}-\\text{div}(a(x)\\nabla u)&=&f(u) && \\text{en }\\Omega\\times[0,T], \\\\ u&=&g_1 &&\\text{sobre }\\Gamma_1\\times[0,1], \\\\ \\dfrac{\\partial u}{\\partial\\vec{n}}&=&0 && \\text{sobre }\\Gamma_2\\cup\\Gamma_3\\times[0,T], \\\\ u&=&u_0 && \\text{en }\\Omega\\times\\{0\\} \\end{align*}$$"
   ]
  },
  {
   "cell_type": "code",
   "execution_count": null,
   "metadata": {},
   "outputs": [],
   "source": [
    "import numpy as np\n",
    "\n",
    "from dolfin import *\n",
    "\n",
    "from mshr import *\n",
    "\n",
    "import matplotlib.pyplot as plt\n",
    "%matplotlib inline"
   ]
  }
 ],
 "metadata": {
  "kernelspec": {
   "display_name": "Python 3.8.10 64-bit",
   "language": "python",
   "name": "python3"
  },
  "language_info": {
   "name": "python",
   "version": "3.8.10"
  },
  "orig_nbformat": 4,
  "vscode": {
   "interpreter": {
    "hash": "916dbcbb3f70747c44a77c7bcd40155683ae19c65e1c03b4aa3499c5328201f1"
   }
  }
 },
 "nbformat": 4,
 "nbformat_minor": 2
}
