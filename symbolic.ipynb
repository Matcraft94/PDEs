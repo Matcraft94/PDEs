{
 "cells": [
  {
   "cell_type": "markdown",
   "metadata": {},
   "source": [
    "# Calculo Simbolico"
   ]
  },
  {
   "cell_type": "code",
   "execution_count": 32,
   "metadata": {},
   "outputs": [],
   "source": [
    "import sympy\n",
    "sympy.init_printing()"
   ]
  },
  {
   "cell_type": "code",
   "execution_count": 33,
   "metadata": {},
   "outputs": [
    {
     "data": {
      "image/png": "[encoded data removed]",
      "text/latex": [
       "$\\displaystyle \\sqrt{x^{2}}$"
      ],
      "text/plain": [
       "   ____\n",
       "  ╱  2 \n",
       "╲╱  x  "
      ]
     },
     "execution_count": 33,
     "metadata": {},
     "output_type": "execute_result"
    }
   ],
   "source": [
    "# Evaluacion de dxpresiones\n",
    "x = sympy.Symbol('x')\n",
    "sympy.sqrt(x**2) # sympy botara un error porque no hay informacion de x"
   ]
  },
  {
   "cell_type": "code",
   "execution_count": 34,
   "metadata": {},
   "outputs": [
    {
     "data": {
      "image/png": "[encoded data removed]",
      "text/latex": [
       "$\\displaystyle y$"
      ],
      "text/plain": [
       "y"
      ]
     },
     "execution_count": 34,
     "metadata": {},
     "output_type": "execute_result"
    }
   ],
   "source": [
    "# Especificando y como un numero positivo ayuda a evaluar\n",
    "y = sympy.Symbol('y', positive=True)\n",
    "sympy.sqrt(y**2)"
   ]
  },
  {
   "cell_type": "code",
   "execution_count": 35,
   "metadata": {},
   "outputs": [
    {
     "data": {
      "image/png": "[encoded data removed]",
      "text/latex": [
       "$\\displaystyle \\frac{8}{15}$"
      ],
      "text/plain": [
       "8/15"
      ]
     },
     "execution_count": 35,
     "metadata": {},
     "output_type": "execute_result"
    }
   ],
   "source": [
    "# Expresiones racionales\n",
    "\n",
    "r1 = sympy.Rational(2, 3)\n",
    "r2 = sympy.Rational(4, 5)\n",
    "r1 * r2"
   ]
  },
  {
   "cell_type": "code",
   "execution_count": 36,
   "metadata": {},
   "outputs": [
    {
     "data": {
      "image/png": "[encoded data removed]",
      "text/latex": [
       "$\\displaystyle \\frac{5}{6}$"
      ],
      "text/plain": [
       "5/6"
      ]
     },
     "execution_count": 36,
     "metadata": {},
     "output_type": "execute_result"
    }
   ],
   "source": [
    "r1/r2"
   ]
  },
  {
   "cell_type": "code",
   "execution_count": 37,
   "metadata": {},
   "outputs": [
    {
     "data": {
      "image/png": "[encoded data removed]",
      "text/latex": [
       "$\\displaystyle e^{- \\frac{i E_{2} t}{h}} \\sin^{2}{\\left(\\theta \\right)} + e^{- \\frac{i E_{1} t}{h}} \\cos^{2}{\\left(\\theta \\right)}$"
      ],
      "text/plain": [
       " -ⅈ⋅E₂⋅t             -ⅈ⋅E₁⋅t         \n",
       " ────────            ────────        \n",
       "    h        2          h        2   \n",
       "ℯ        ⋅sin (θ) + ℯ        ⋅cos (θ)"
      ]
     },
     "execution_count": 37,
     "metadata": {},
     "output_type": "execute_result"
    }
   ],
   "source": [
    "theta,t,E1,E2,h = sympy.symbols('theta,t,E_1,E_2,h', real=True)\n",
    "v = sympy.cos(theta)**2*sympy.exp(-sympy.I*t*E1/h) + sympy.sin(theta)**2*sympy.exp(-sympy.I*t*E2/h)\n",
    "v"
   ]
  },
  {
   "cell_type": "code",
   "execution_count": 38,
   "metadata": {},
   "outputs": [
    {
     "data": {
      "image/png": "[encoded data removed]",
      "text/latex": [
       "$\\displaystyle \\frac{c^{3} \\left(m_{1}^{2} - m_{2}^{2}\\right)}{2 p}$"
      ],
      "text/plain": [
       " 3 ⎛  2     2⎞\n",
       "c ⋅⎝m₁  - m₂ ⎠\n",
       "──────────────\n",
       "     2⋅p      "
      ]
     },
     "execution_count": 38,
     "metadata": {},
     "output_type": "execute_result"
    }
   ],
   "source": [
    "# Simplificacion\n",
    "\n",
    "c,p,m = sympy.symbols('c,p,m')\n",
    "m1,m2 =sympy.symbols('m_1,m_2')\n",
    "E = p*c*(1+m**2*c**2/(2*p**2))\n",
    "E\n",
    "sympy.simplify(E.subs({m:m1})-E.subs({m:m2}))"
   ]
  },
  {
   "cell_type": "markdown",
   "metadata": {},
   "source": [
    "## Integracion"
   ]
  },
  {
   "cell_type": "code",
   "execution_count": 39,
   "metadata": {},
   "outputs": [
    {
     "data": {
      "image/png": "[encoded data removed]",
      "text/latex": [
       "$\\displaystyle \\pi$"
      ],
      "text/plain": [
       "π"
      ]
     },
     "execution_count": 39,
     "metadata": {},
     "output_type": "execute_result"
    }
   ],
   "source": [
    "x = sympy.symbols('x')\n",
    "f = 2 * sympy.sqrt(1-x**2)\n",
    "a,b = -1,1\n",
    "sympy.integrate(f, (x,a,b))"
   ]
  },
  {
   "cell_type": "code",
   "execution_count": 40,
   "metadata": {},
   "outputs": [],
   "source": [
    "t,x,y = sympy.symbols('t,x,y')\n",
    "C = sympy.Curve([sympy.cos(t), sympy.sin(t)], (t, 0, 2*sympy.pi))"
   ]
  },
  {
   "cell_type": "code",
   "execution_count": 41,
   "metadata": {},
   "outputs": [
    {
     "data": {
      "image/png": "[encoded data removed]",
      "text/latex": [
       "$\\displaystyle 2 \\pi$"
      ],
      "text/plain": [
       "2⋅π"
      ]
     },
     "execution_count": 41,
     "metadata": {},
     "output_type": "execute_result"
    }
   ],
   "source": [
    "sympy.line_integrate(1,C,[x,y])"
   ]
  },
  {
   "cell_type": "code",
   "execution_count": 42,
   "metadata": {},
   "outputs": [
    {
     "data": {
      "image/png": "[encoded data removed]",
      "text/latex": [
       "$\\displaystyle \\frac{\\pi}{4}$"
      ],
      "text/plain": [
       "π\n",
       "─\n",
       "4"
      ]
     },
     "execution_count": 42,
     "metadata": {},
     "output_type": "execute_result"
    }
   ],
   "source": [
    "sympy.line_integrate(x**2*y**2,C,[x,y])"
   ]
  },
  {
   "cell_type": "markdown",
   "metadata": {},
   "source": [
    "## Transformada de Laplace"
   ]
  },
  {
   "cell_type": "code",
   "execution_count": 43,
   "metadata": {},
   "outputs": [],
   "source": [
    "s = sympy.symbols('s')\n",
    "a,t = sympy.symbols('a,t', positive=True)\n",
    "f = sympy.sin(a*t)"
   ]
  },
  {
   "cell_type": "code",
   "execution_count": 44,
   "metadata": {},
   "outputs": [
    {
     "data": {
      "image/png": "[encoded data removed]",
      "text/latex": [
       "$\\displaystyle \\left( \\frac{a}{a^{2} + s^{2}}, \\  -\\infty, \\  \\operatorname{re}{\\left(s\\right)} > 0\\right)$"
      ],
      "text/plain": [
       "⎛   a                  ⎞\n",
       "⎜───────, -∞, re(s) > 0⎟\n",
       "⎜ 2    2               ⎟\n",
       "⎝a  + s                ⎠"
      ]
     },
     "execution_count": 44,
     "metadata": {},
     "output_type": "execute_result"
    }
   ],
   "source": [
    "sympy.laplace_transform(f,t,s)"
   ]
  },
  {
   "cell_type": "code",
   "execution_count": 45,
   "metadata": {},
   "outputs": [
    {
     "data": {
      "image/png": "[encoded data removed]",
      "text/latex": [
       "$\\displaystyle \\frac{a}{a^{2} + s^{2}}$"
      ],
      "text/plain": [
       "   a   \n",
       "───────\n",
       " 2    2\n",
       "a  + s "
      ]
     },
     "execution_count": 45,
     "metadata": {},
     "output_type": "execute_result"
    }
   ],
   "source": [
    "sympy.laplace_transform(f,t,s, noconds=True)"
   ]
  },
  {
   "cell_type": "code",
   "execution_count": 46,
   "metadata": {},
   "outputs": [
    {
     "data": {
      "image/png": "[encoded data removed]",
      "text/latex": [
       "$\\displaystyle \\left[ \\frac{1}{s^{2}}, \\  \\frac{2}{s^{3}}, \\  \\frac{6}{s^{4}}, \\  \\frac{24}{s^{5}}\\right]$"
      ],
      "text/plain": [
       "⎡1   2   6   24⎤\n",
       "⎢──, ──, ──, ──⎥\n",
       "⎢ 2   3   4   5⎥\n",
       "⎣s   s   s   s ⎦"
      ]
     },
     "execution_count": 46,
     "metadata": {},
     "output_type": "execute_result"
    }
   ],
   "source": [
    "\n",
    "[sympy.laplace_transform(f,t,s, noconds=True) for f in [t,t**2, t**3, t**4]]"
   ]
  },
  {
   "cell_type": "code",
   "execution_count": 47,
   "metadata": {},
   "outputs": [
    {
     "data": {
      "image/png": "[encoded data removed]",
      "text/latex": [
       "$\\displaystyle s^{- n - 1} \\Gamma\\left(n + 1\\right)$"
      ],
      "text/plain": [
       " -n - 1         \n",
       "s      ⋅Γ(n + 1)"
      ]
     },
     "execution_count": 47,
     "metadata": {},
     "output_type": "execute_result"
    }
   ],
   "source": [
    "n = sympy.symbols('n', positive=True)\n",
    "sympy.laplace_transform(t**n,t,s, noconds=True)"
   ]
  },
  {
   "cell_type": "code",
   "execution_count": 48,
   "metadata": {},
   "outputs": [
    {
     "data": {
      "image/png": "[encoded data removed]",
      "text/latex": [
       "$\\displaystyle s^{- n - 1} n!$"
      ],
      "text/plain": [
       " -n - 1   \n",
       "s      ⋅n!"
      ]
     },
     "execution_count": 48,
     "metadata": {},
     "output_type": "execute_result"
    }
   ],
   "source": [
    "n = sympy.symbols('n', integer = True, positive=True)\n",
    "sympy.laplace_transform(t**n,t,s, noconds=True)"
   ]
  },
  {
   "cell_type": "code",
   "execution_count": 49,
   "metadata": {},
   "outputs": [
    {
     "data": {
      "image/png": "[encoded data removed]",
      "text/latex": [
       "$\\displaystyle \\frac{\\sqrt{\\pi} e^{- \\frac{\\pi^{2} \\omega^{2}}{a}}}{\\sqrt{a}}$"
      ],
      "text/plain": [
       "      2  2 \n",
       "    -π ⋅ω  \n",
       "    ───────\n",
       "       a   \n",
       "√π⋅ℯ       \n",
       "───────────\n",
       "     √a    "
      ]
     },
     "execution_count": 49,
     "metadata": {},
     "output_type": "execute_result"
    }
   ],
   "source": [
    "a = sympy.symbols('a', positive=True)\n",
    "t,w = sympy.symbols('t, omega')\n",
    "f = sympy.exp(-a*(t**2))\n",
    "sympy.fourier_transform(f,t,w)"
   ]
  },
  {
   "cell_type": "markdown",
   "metadata": {},
   "source": [
    "## Resolviendo EDOs"
   ]
  },
  {
   "cell_type": "code",
   "execution_count": 50,
   "metadata": {},
   "outputs": [
    {
     "data": {
      "image/png": "[encoded data removed]",
      "text/latex": [
       "$\\displaystyle k \\left(- T_{a} + T{\\left(t \\right)}\\right) + \\frac{d}{d t} T{\\left(t \\right)} = 0$"
      ],
      "text/plain": [
       "                 d           \n",
       "k⋅(-Tₐ + T(t)) + ──(T(t)) = 0\n",
       "                 dt          "
      ]
     },
     "execution_count": 50,
     "metadata": {},
     "output_type": "execute_result"
    }
   ],
   "source": [
    "t,k,T0,Ta = sympy.symbols('t,k,T_0, T_a')\n",
    "T = sympy.Function('T')\n",
    "ode = T(t).diff(t) + k*(T(t)-Ta)\n",
    "sympy.Eq(ode,0)"
   ]
  },
  {
   "cell_type": "code",
   "execution_count": 51,
   "metadata": {},
   "outputs": [
    {
     "data": {
      "image/png": "[encoded data removed]",
      "text/latex": [
       "$\\displaystyle T{\\left(t \\right)} = C_{1} e^{- k t} + T_{a}$"
      ],
      "text/plain": [
       "           -k⋅t     \n",
       "T(t) = C₁⋅ℯ     + Tₐ"
      ]
     },
     "execution_count": 51,
     "metadata": {},
     "output_type": "execute_result"
    }
   ],
   "source": [
    "ode_solution = sympy.dsolve(ode)\n",
    "ode_solution"
   ]
  },
  {
   "cell_type": "code",
   "execution_count": 52,
   "metadata": {},
   "outputs": [
    {
     "data": {
      "image/png": "[encoded data removed]",
      "text/latex": [
       "$\\displaystyle T_{0} = C_{1} + T_{a}$"
      ],
      "text/plain": [
       "T₀ = C₁ + Tₐ"
      ]
     },
     "execution_count": 52,
     "metadata": {},
     "output_type": "execute_result"
    }
   ],
   "source": [
    "ics = {T(0):T0}\n",
    "# Obtenemos la ecuacion resultante subsituyendo t por 0 y T(0) por T0\n",
    "C_eq = ode_solution.subs(t,0).subs(ics)\n",
    "C_eq"
   ]
  },
  {
   "cell_type": "code",
   "execution_count": 53,
   "metadata": {},
   "outputs": [
    {
     "data": {
      "image/png": "[encoded data removed]",
      "text/latex": [
       "$\\displaystyle \\left[ \\left\\{ C_{1} : T_{0} - T_{a}\\right\\}\\right]$"
      ],
      "text/plain": [
       "[{C₁: T₀ - Tₐ}]"
      ]
     },
     "execution_count": 53,
     "metadata": {},
     "output_type": "execute_result"
    }
   ],
   "source": [
    "# Resolvemos apra T1\n",
    "C_sol = sympy.solve(C_eq)\n",
    "C_sol"
   ]
  },
  {
   "cell_type": "code",
   "execution_count": 54,
   "metadata": {},
   "outputs": [
    {
     "data": {
      "image/png": "[encoded data removed]",
      "text/latex": [
       "$\\displaystyle T{\\left(t \\right)} = T_{a} + \\left(T_{0} - T_{a}\\right) e^{- k t}$"
      ],
      "text/plain": [
       "                       -k⋅t\n",
       "T(t) = Tₐ + (T₀ - Tₐ)⋅ℯ    "
      ]
     },
     "execution_count": 54,
     "metadata": {},
     "output_type": "execute_result"
    }
   ],
   "source": [
    "# ponemos el valor de C1 devuelta a la solucion de la edo\n",
    "ode_solution.subs(C_sol[0])"
   ]
  },
  {
   "cell_type": "code",
   "execution_count": 55,
   "metadata": {},
   "outputs": [
    {
     "ename": "ModuleNotFoundError",
     "evalue": "No module named 'odes'",
     "output_type": "error",
     "traceback": [
      "\u001b[0;31m---------------------------------------------------------------------------\u001b[0m",
      "\u001b[0;31mModuleNotFoundError\u001b[0m                       Traceback (most recent call last)",
      "\u001b[1;32m/mnt/c/Users/MSI Gf65/Documents/GitHub/PDEs/symbolic.ipynb Cell 28'\u001b[0m in \u001b[0;36m<cell line: 1>\u001b[0;34m()\u001b[0m\n\u001b[0;32m----> <a href='vscode-notebook-cell://wsl%2Bubuntu/mnt/c/Users/MSI%20Gf65/Documents/GitHub/PDEs/symbolic.ipynb#ch0000038vscode-remote?line=0'>1</a>\u001b[0m \u001b[39mfrom\u001b[39;00m \u001b[39modes\u001b[39;00m \u001b[39mimport\u001b[39;00m apply_ics\n",
      "\u001b[0;31mModuleNotFoundError\u001b[0m: No module named 'odes'"
     ]
    }
   ],
   "source": [
    "from odes import apply_ics\n",
    "# funcion para hacer lal substitucion"
   ]
  },
  {
   "cell_type": "code",
   "execution_count": null,
   "metadata": {},
   "outputs": [
    {
     "ename": "NameError",
     "evalue": "name 'apply_ics' is not defined",
     "output_type": "error",
     "traceback": [
      "\u001b[0;31m---------------------------------------------------------------------------\u001b[0m",
      "\u001b[0;31mNameError\u001b[0m                                 Traceback (most recent call last)",
      "\u001b[1;32m/mnt/c/Users/MSI Gf65/Documents/GitHub/PDEs/symbolic.ipynb Cell 29'\u001b[0m in \u001b[0;36m<cell line: 2>\u001b[0;34m()\u001b[0m\n\u001b[1;32m      <a href='vscode-notebook-cell://wsl%2Bubuntu/mnt/c/Users/MSI%20Gf65/Documents/GitHub/PDEs/symbolic.ipynb#ch0000036vscode-remote?line=0'>1</a>\u001b[0m \u001b[39m# funcion para hacer lal substitucion\u001b[39;00m\n\u001b[0;32m----> <a href='vscode-notebook-cell://wsl%2Bubuntu/mnt/c/Users/MSI%20Gf65/Documents/GitHub/PDEs/symbolic.ipynb#ch0000036vscode-remote?line=1'>2</a>\u001b[0m apply_ics(ode_solution, ics, t, [k,Ta])\n",
      "\u001b[0;31mNameError\u001b[0m: name 'apply_ics' is not defined"
     ]
    }
   ],
   "source": [
    "apply_ics(ode_solution, ics, t, [k,Ta])"
   ]
  },
  {
   "cell_type": "code",
   "execution_count": null,
   "metadata": {},
   "outputs": [
    {
     "ename": "TypeError",
     "evalue": "expecting string or Symbol for name",
     "output_type": "error",
     "traceback": [
      "\u001b[0;31m---------------------------------------------------------------------------\u001b[0m",
      "\u001b[0;31mTypeError\u001b[0m                                 Traceback (most recent call last)",
      "File \u001b[0;32m/usr/lib/python3/dist-packages/sympy/core/cache.py:94\u001b[0m, in \u001b[0;36m__cacheit.<locals>.func_wrapper.<locals>.wrapper\u001b[0;34m(*args, **kwargs)\u001b[0m\n\u001b[1;32m     93\u001b[0m \u001b[39mtry\u001b[39;00m:\n\u001b[0;32m---> 94\u001b[0m     retval \u001b[39m=\u001b[39m cfunc(\u001b[39m*\u001b[39;49margs, \u001b[39m*\u001b[39;49m\u001b[39m*\u001b[39;49mkwargs)\n\u001b[1;32m     95\u001b[0m \u001b[39mexcept\u001b[39;00m \u001b[39mTypeError\u001b[39;00m:\n",
      "File \u001b[0;32m/usr/lib/python3/dist-packages/sympy/core/function.py:454\u001b[0m, in \u001b[0;36mFunction.__new__\u001b[0;34m(cls, *args, **options)\u001b[0m\n\u001b[1;32m    453\u001b[0m \u001b[39mif\u001b[39;00m \u001b[39mcls\u001b[39m \u001b[39mis\u001b[39;00m Function:\n\u001b[0;32m--> 454\u001b[0m     \u001b[39mreturn\u001b[39;00m UndefinedFunction(\u001b[39m*\u001b[39;49margs, \u001b[39m*\u001b[39;49m\u001b[39m*\u001b[39;49moptions)\n\u001b[1;32m    456\u001b[0m n \u001b[39m=\u001b[39m \u001b[39mlen\u001b[39m(args)\n",
      "File \u001b[0;32m/usr/lib/python3/dist-packages/sympy/core/function.py:902\u001b[0m, in \u001b[0;36mUndefinedFunction.__new__\u001b[0;34m(mcl, name, bases, __dict__, **kwargs)\u001b[0m\n\u001b[1;32m    901\u001b[0m \u001b[39melif\u001b[39;00m \u001b[39mnot\u001b[39;00m \u001b[39misinstance\u001b[39m(name, string_types):\n\u001b[0;32m--> 902\u001b[0m     \u001b[39mraise\u001b[39;00m \u001b[39mTypeError\u001b[39;00m(\u001b[39m'\u001b[39m\u001b[39mexpecting string or Symbol for name\u001b[39m\u001b[39m'\u001b[39m)\n\u001b[1;32m    903\u001b[0m \u001b[39melse\u001b[39;00m:\n",
      "\u001b[0;31mTypeError\u001b[0m: expecting string or Symbol for name",
      "\nDuring handling of the above exception, another exception occurred:\n",
      "\u001b[0;31mTypeError\u001b[0m                                 Traceback (most recent call last)",
      "\u001b[1;32m/mnt/c/Users/MSI Gf65/Documents/GitHub/PDEs/symbolic.ipynb Cell 30'\u001b[0m in \u001b[0;36m<cell line: 3>\u001b[0;34m()\u001b[0m\n\u001b[1;32m      <a href='vscode-notebook-cell://wsl%2Bubuntu/mnt/c/Users/MSI%20Gf65/Documents/GitHub/PDEs/symbolic.ipynb#ch0000037vscode-remote?line=0'>1</a>\u001b[0m \u001b[39m# Resolvamos una EDO mas compleja: oscilador armonico amortiguado\u001b[39;00m\n\u001b[1;32m      <a href='vscode-notebook-cell://wsl%2Bubuntu/mnt/c/Users/MSI%20Gf65/Documents/GitHub/PDEs/symbolic.ipynb#ch0000037vscode-remote?line=1'>2</a>\u001b[0m t, omega0, gamma \u001b[39m=\u001b[39m sympy\u001b[39m.\u001b[39msymbols(\u001b[39m'\u001b[39m\u001b[39mt, omega_0, gamma\u001b[39m\u001b[39m'\u001b[39m, positive\u001b[39m=\u001b[39m\u001b[39mTrue\u001b[39;00m)\n\u001b[0;32m----> <a href='vscode-notebook-cell://wsl%2Bubuntu/mnt/c/Users/MSI%20Gf65/Documents/GitHub/PDEs/symbolic.ipynb#ch0000037vscode-remote?line=2'>3</a>\u001b[0m x \u001b[39m=\u001b[39m sympy\u001b[39m.\u001b[39;49mFunction(x)\n\u001b[1;32m      <a href='vscode-notebook-cell://wsl%2Bubuntu/mnt/c/Users/MSI%20Gf65/Documents/GitHub/PDEs/symbolic.ipynb#ch0000037vscode-remote?line=3'>4</a>\u001b[0m ode \u001b[39m=\u001b[39m x(t)\u001b[39m.\u001b[39mdiff(t,\u001b[39m2\u001b[39m) \u001b[39m+\u001b[39m \u001b[39m2\u001b[39m\u001b[39m*\u001b[39mgamma\u001b[39m*\u001b[39momega0\u001b[39m*\u001b[39mx(t)\u001b[39m.\u001b[39mdiff(t) \u001b[39m+\u001b[39m omega0\u001b[39m*\u001b[39m\u001b[39m*\u001b[39m\u001b[39m2\u001b[39m\u001b[39m*\u001b[39mx(t)\n\u001b[1;32m      <a href='vscode-notebook-cell://wsl%2Bubuntu/mnt/c/Users/MSI%20Gf65/Documents/GitHub/PDEs/symbolic.ipynb#ch0000037vscode-remote?line=4'>5</a>\u001b[0m sympy\u001b[39m.\u001b[39mEq(ode,\u001b[39m0\u001b[39m)\n",
      "File \u001b[0;32m/usr/lib/python3/dist-packages/sympy/core/cache.py:96\u001b[0m, in \u001b[0;36m__cacheit.<locals>.func_wrapper.<locals>.wrapper\u001b[0;34m(*args, **kwargs)\u001b[0m\n\u001b[1;32m     94\u001b[0m     retval \u001b[39m=\u001b[39m cfunc(\u001b[39m*\u001b[39margs, \u001b[39m*\u001b[39m\u001b[39m*\u001b[39mkwargs)\n\u001b[1;32m     95\u001b[0m \u001b[39mexcept\u001b[39;00m \u001b[39mTypeError\u001b[39;00m:\n\u001b[0;32m---> 96\u001b[0m     retval \u001b[39m=\u001b[39m func(\u001b[39m*\u001b[39;49margs, \u001b[39m*\u001b[39;49m\u001b[39m*\u001b[39;49mkwargs)\n\u001b[1;32m     97\u001b[0m \u001b[39mreturn\u001b[39;00m retval\n",
      "File \u001b[0;32m/usr/lib/python3/dist-packages/sympy/core/function.py:454\u001b[0m, in \u001b[0;36mFunction.__new__\u001b[0;34m(cls, *args, **options)\u001b[0m\n\u001b[1;32m    450\u001b[0m \u001b[39m@cacheit\u001b[39m\n\u001b[1;32m    451\u001b[0m \u001b[39mdef\u001b[39;00m \u001b[39m__new__\u001b[39m(\u001b[39mcls\u001b[39m, \u001b[39m*\u001b[39margs, \u001b[39m*\u001b[39m\u001b[39m*\u001b[39moptions):\n\u001b[1;32m    452\u001b[0m     \u001b[39m# Handle calls like Function('f')\u001b[39;00m\n\u001b[1;32m    453\u001b[0m     \u001b[39mif\u001b[39;00m \u001b[39mcls\u001b[39m \u001b[39mis\u001b[39;00m Function:\n\u001b[0;32m--> 454\u001b[0m         \u001b[39mreturn\u001b[39;00m UndefinedFunction(\u001b[39m*\u001b[39;49margs, \u001b[39m*\u001b[39;49m\u001b[39m*\u001b[39;49moptions)\n\u001b[1;32m    456\u001b[0m     n \u001b[39m=\u001b[39m \u001b[39mlen\u001b[39m(args)\n\u001b[1;32m    457\u001b[0m     \u001b[39mif\u001b[39;00m n \u001b[39mnot\u001b[39;00m \u001b[39min\u001b[39;00m \u001b[39mcls\u001b[39m\u001b[39m.\u001b[39mnargs:\n\u001b[1;32m    458\u001b[0m         \u001b[39m# XXX: exception message must be in exactly this format to\u001b[39;00m\n\u001b[1;32m    459\u001b[0m         \u001b[39m# make it work with NumPy's functions like vectorize(). See,\u001b[39;00m\n\u001b[1;32m    460\u001b[0m         \u001b[39m# for example, https://github.com/numpy/numpy/issues/1697.\u001b[39;00m\n\u001b[1;32m    461\u001b[0m         \u001b[39m# The ideal solution would be just to attach metadata to\u001b[39;00m\n\u001b[1;32m    462\u001b[0m         \u001b[39m# the exception and change NumPy to take advantage of this.\u001b[39;00m\n",
      "File \u001b[0;32m/usr/lib/python3/dist-packages/sympy/core/function.py:902\u001b[0m, in \u001b[0;36mUndefinedFunction.__new__\u001b[0;34m(mcl, name, bases, __dict__, **kwargs)\u001b[0m\n\u001b[1;32m    900\u001b[0m     name \u001b[39m=\u001b[39m name\u001b[39m.\u001b[39mname\n\u001b[1;32m    901\u001b[0m \u001b[39melif\u001b[39;00m \u001b[39mnot\u001b[39;00m \u001b[39misinstance\u001b[39m(name, string_types):\n\u001b[0;32m--> 902\u001b[0m     \u001b[39mraise\u001b[39;00m \u001b[39mTypeError\u001b[39;00m(\u001b[39m'\u001b[39m\u001b[39mexpecting string or Symbol for name\u001b[39m\u001b[39m'\u001b[39m)\n\u001b[1;32m    903\u001b[0m \u001b[39melse\u001b[39;00m:\n\u001b[1;32m    904\u001b[0m     commutative \u001b[39m=\u001b[39m assumptions\u001b[39m.\u001b[39mget(\u001b[39m'\u001b[39m\u001b[39mcommutative\u001b[39m\u001b[39m'\u001b[39m, \u001b[39mNone\u001b[39;00m)\n",
      "\u001b[0;31mTypeError\u001b[0m: expecting string or Symbol for name"
     ]
    }
   ],
   "source": [
    "# Resolvamos una EDO mas compleja: oscilador armonico amortiguado\n",
    "t, omega0, gamma = sympy.symbols('t, omega_0, gamma', positive=True)\n",
    "x = sympy.Function(x)\n",
    "ode = x(t).diff(t,2) + 2*gamma*omega0*x(t).diff(t) + omega0**2*x(t)\n",
    "sympy.Eq(ode,0)"
   ]
  },
  {
   "cell_type": "code",
   "execution_count": 56,
   "metadata": {},
   "outputs": [
    {
     "data": {
      "image/png": "[encoded data removed]",
      "text/latex": [
       "$\\displaystyle T{\\left(t \\right)} = C_{1} e^{- k t} + T_{a}$"
      ],
      "text/plain": [
       "           -k⋅t     \n",
       "T(t) = C₁⋅ℯ     + Tₐ"
      ]
     },
     "execution_count": 56,
     "metadata": {},
     "output_type": "execute_result"
    }
   ],
   "source": [
    "harmonic_solution = sympy.dsolve(ode)\n",
    "harmonic_solution"
   ]
  },
  {
   "cell_type": "code",
   "execution_count": 57,
   "metadata": {},
   "outputs": [
    {
     "ename": "TypeError",
     "evalue": "'Symbol' object is not callable",
     "output_type": "error",
     "traceback": [
      "\u001b[0;31m---------------------------------------------------------------------------\u001b[0m",
      "\u001b[0;31mTypeError\u001b[0m                                 Traceback (most recent call last)",
      "\u001b[1;32m/mnt/c/Users/MSI Gf65/Documents/GitHub/PDEs/symbolic.ipynb Cell 32'\u001b[0m in \u001b[0;36m<cell line: 1>\u001b[0;34m()\u001b[0m\n\u001b[0;32m----> <a href='vscode-notebook-cell://wsl%2Bubuntu/mnt/c/Users/MSI%20Gf65/Documents/GitHub/PDEs/symbolic.ipynb#ch0000040vscode-remote?line=0'>1</a>\u001b[0m ics \u001b[39m=\u001b[39m {x(\u001b[39m0\u001b[39;49m): \u001b[39m1\u001b[39m, x(t)\u001b[39m.\u001b[39mdiff(t)\u001b[39m.\u001b[39msubs(t,\u001b[39m0\u001b[39m): \u001b[39m0\u001b[39m}\n\u001b[1;32m      <a href='vscode-notebook-cell://wsl%2Bubuntu/mnt/c/Users/MSI%20Gf65/Documents/GitHub/PDEs/symbolic.ipynb#ch0000040vscode-remote?line=1'>2</a>\u001b[0m ics\n",
      "\u001b[0;31mTypeError\u001b[0m: 'Symbol' object is not callable"
     ]
    }
   ],
   "source": [
    "ics = {x(0): 1, x(t).diff(t).subs(t,0): 0}\n",
    "ics"
   ]
  },
  {
   "cell_type": "code",
   "execution_count": 58,
   "metadata": {},
   "outputs": [
    {
     "ename": "NameError",
     "evalue": "name 'apply_ics' is not defined",
     "output_type": "error",
     "traceback": [
      "\u001b[0;31m---------------------------------------------------------------------------\u001b[0m",
      "\u001b[0;31mNameError\u001b[0m                                 Traceback (most recent call last)",
      "\u001b[1;32m/mnt/c/Users/MSI Gf65/Documents/GitHub/PDEs/symbolic.ipynb Cell 33'\u001b[0m in \u001b[0;36m<cell line: 1>\u001b[0;34m()\u001b[0m\n\u001b[0;32m----> <a href='vscode-notebook-cell://wsl%2Bubuntu/mnt/c/Users/MSI%20Gf65/Documents/GitHub/PDEs/symbolic.ipynb#ch0000041vscode-remote?line=0'>1</a>\u001b[0m x_t_sol \u001b[39m=\u001b[39m apply_ics(harmonic_solution, ics, t, [omega0,gamma])\n\u001b[1;32m      <a href='vscode-notebook-cell://wsl%2Bubuntu/mnt/c/Users/MSI%20Gf65/Documents/GitHub/PDEs/symbolic.ipynb#ch0000041vscode-remote?line=1'>2</a>\u001b[0m x_t_sol\n",
      "\u001b[0;31mNameError\u001b[0m: name 'apply_ics' is not defined"
     ]
    }
   ],
   "source": [
    "x_t_sol = apply_ics(harmonic_solution, ics, t, [omega0,gamma])\n",
    "x_t_sol"
   ]
  },
  {
   "cell_type": "code",
   "execution_count": 59,
   "metadata": {},
   "outputs": [
    {
     "ename": "NameError",
     "evalue": "name 'x_t_sol' is not defined",
     "output_type": "error",
     "traceback": [
      "\u001b[0;31m---------------------------------------------------------------------------\u001b[0m",
      "\u001b[0;31mNameError\u001b[0m                                 Traceback (most recent call last)",
      "\u001b[1;32m/mnt/c/Users/MSI Gf65/Documents/GitHub/PDEs/symbolic.ipynb Cell 34'\u001b[0m in \u001b[0;36m<cell line: 1>\u001b[0;34m()\u001b[0m\n\u001b[0;32m----> <a href='vscode-notebook-cell://wsl%2Bubuntu/mnt/c/Users/MSI%20Gf65/Documents/GitHub/PDEs/symbolic.ipynb#ch0000042vscode-remote?line=0'>1</a>\u001b[0m x_t_critical \u001b[39m=\u001b[39m sympy\u001b[39m.\u001b[39mlimit(x_t_sol\u001b[39m.\u001b[39mrhs, gamma, \u001b[39m1\u001b[39m)\n\u001b[1;32m      <a href='vscode-notebook-cell://wsl%2Bubuntu/mnt/c/Users/MSI%20Gf65/Documents/GitHub/PDEs/symbolic.ipynb#ch0000042vscode-remote?line=1'>2</a>\u001b[0m x_t_critical\n",
      "\u001b[0;31mNameError\u001b[0m: name 'x_t_sol' is not defined"
     ]
    }
   ],
   "source": [
    "x_t_critical = sympy.limit(x_t_sol.rhs, gamma, 1)\n",
    "x_t_critical"
   ]
  },
  {
   "cell_type": "code",
   "execution_count": 60,
   "metadata": {},
   "outputs": [
    {
     "ename": "NameError",
     "evalue": "name 'x_t_sol' is not defined",
     "output_type": "error",
     "traceback": [
      "\u001b[0;31m---------------------------------------------------------------------------\u001b[0m",
      "\u001b[0;31mNameError\u001b[0m                                 Traceback (most recent call last)",
      "\u001b[1;32m/mnt/c/Users/MSI Gf65/Documents/GitHub/PDEs/symbolic.ipynb Cell 35'\u001b[0m in \u001b[0;36m<cell line: 7>\u001b[0;34m()\u001b[0m\n\u001b[1;32m      <a href='vscode-notebook-cell://wsl%2Bubuntu/mnt/c/Users/MSI%20Gf65/Documents/GitHub/PDEs/symbolic.ipynb#ch0000043vscode-remote?line=8'>9</a>\u001b[0m         x_t \u001b[39m=\u001b[39m sympy\u001b[39m.\u001b[39mlambdify(t,x_t_critical\u001b[39m.\u001b[39msubs({omega0: w0}), \u001b[39m'\u001b[39m\u001b[39mnumpy\u001b[39m\u001b[39m'\u001b[39m)\n\u001b[1;32m     <a href='vscode-notebook-cell://wsl%2Bubuntu/mnt/c/Users/MSI%20Gf65/Documents/GitHub/PDEs/symbolic.ipynb#ch0000043vscode-remote?line=9'>10</a>\u001b[0m     \u001b[39melse\u001b[39;00m:\n\u001b[0;32m---> <a href='vscode-notebook-cell://wsl%2Bubuntu/mnt/c/Users/MSI%20Gf65/Documents/GitHub/PDEs/symbolic.ipynb#ch0000043vscode-remote?line=10'>11</a>\u001b[0m         x_t \u001b[39m=\u001b[39m sympy\u001b[39m.\u001b[39mlambdify(t,x_t_sol\u001b[39m.\u001b[39mrhs\u001b[39m.\u001b[39msubs({omega0: w0, gamma: g}), \u001b[39m'\u001b[39m\u001b[39mnumpy\u001b[39m\u001b[39m'\u001b[39m)\n\u001b[1;32m     <a href='vscode-notebook-cell://wsl%2Bubuntu/mnt/c/Users/MSI%20Gf65/Documents/GitHub/PDEs/symbolic.ipynb#ch0000043vscode-remote?line=11'>12</a>\u001b[0m     ax\u001b[39m.\u001b[39mplot(tt, x_t(tt)\u001b[39m.\u001b[39mreal, label\u001b[39m=\u001b[39m\u001b[39mr\u001b[39m\u001b[39m'\u001b[39m\u001b[39m$γ = \u001b[39m\u001b[39m%.1f\u001b[39;00m\u001b[39m$\u001b[39m\u001b[39m'\u001b[39m \u001b[39m%\u001b[39m g)\n\u001b[1;32m     <a href='vscode-notebook-cell://wsl%2Bubuntu/mnt/c/Users/MSI%20Gf65/Documents/GitHub/PDEs/symbolic.ipynb#ch0000043vscode-remote?line=13'>14</a>\u001b[0m ax\u001b[39m.\u001b[39mset_xlabel(\u001b[39mr\u001b[39m\u001b[39m'\u001b[39m\u001b[39m$t$\u001b[39m\u001b[39m'\u001b[39m, fontsize\u001b[39m=\u001b[39m\u001b[39m18\u001b[39m)\n",
      "\u001b[0;31mNameError\u001b[0m: name 'x_t_sol' is not defined"
     ]
    },
    {
     "data": {
      "image/png": "[encoded data removed]",
      "text/plain": [
       "<Figure size 576x288 with 1 Axes>"
      ]
     },
     "metadata": {
      "needs_background": "light"
     },
     "output_type": "display_data"
    }
   ],
   "source": [
    "import numpy as np\n",
    "import matplotlib.pyplot as plt\n",
    "\n",
    "fig,ax = plt.subplots(figsize=(8,4))\n",
    "tt = np.linspace(0,3,250)\n",
    "w0 = 2*sympy.pi\n",
    "for g in [0.1, 0.5, 1, 2.0, 5.0]:\n",
    "    if g == 1:\n",
    "        x_t = sympy.lambdify(t,x_t_critical.subs({omega0: w0}), 'numpy')\n",
    "    else:\n",
    "        x_t = sympy.lambdify(t,x_t_sol.rhs.subs({omega0: w0, gamma: g}), 'numpy')\n",
    "    ax.plot(tt, x_t(tt).real, label=r'$γ = %.1f$' % g)\n",
    "\n",
    "ax.set_xlabel(r'$t$', fontsize=18)\n",
    "ax.set_ylabel(r'$x(t)$', fontsize=18)\n",
    "ax.legend()"
   ]
  },
  {
   "cell_type": "code",
   "execution_count": 61,
   "metadata": {},
   "outputs": [
    {
     "data": {
      "image/png": "[encoded data removed]",
      "text/latex": [
       "$\\displaystyle \\frac{d}{d x} y{\\left(x \\right)} = x + y^{2}{\\left(x \\right)}$"
      ],
      "text/plain": [
       "d               2   \n",
       "──(y(x)) = x + y (x)\n",
       "dx                  "
      ]
     },
     "execution_count": 61,
     "metadata": {},
     "output_type": "execute_result"
    }
   ],
   "source": [
    "# En este ejemplo, sympy solo puede encontrar una aproximacion\n",
    "x = sympy.symbols('x')\n",
    "y = sympy.Function('y')\n",
    "f = y(x)**2+x\n",
    "sympy.Eq(y(x).diff(x), f)"
   ]
  },
  {
   "cell_type": "code",
   "execution_count": 62,
   "metadata": {},
   "outputs": [
    {
     "data": {
      "image/png": "[encoded data removed]",
      "text/latex": [
       "$\\displaystyle y{\\left(x \\right)} = \\frac{x^{2} \\left(2 C_{1}^{3} + 1\\right)}{2} + \\frac{x^{5} \\left(10 C_{1}^{3} \\left(6 C_{1}^{3} + 1\\right) + 20 C_{1}^{3} + 3\\right)}{60} + C_{1} + \\frac{C_{1} x^{3} \\left(3 C_{1}^{3} + 1\\right)}{3} + C_{1}^{2} x + \\frac{C_{1}^{2} x^{4} \\left(12 C_{1}^{3} + 5\\right)}{12} + O\\left(x^{6}\\right)$"
      ],
      "text/plain": [
       "        2 ⎛    3    ⎞    5 ⎛     3 ⎛    3    ⎞        3    ⎞            3 ⎛   \n",
       "       x ⋅⎝2⋅C₁  + 1⎠   x ⋅⎝10⋅C₁ ⋅⎝6⋅C₁  + 1⎠ + 20⋅C₁  + 3⎠        C₁⋅x ⋅⎝3⋅C\n",
       "y(x) = ────────────── + ──────────────────────────────────── + C₁ + ──────────\n",
       "             2                           60                                 3 \n",
       "\n",
       " 3    ⎞             2  4 ⎛     3    ⎞        \n",
       "₁  + 1⎠     2     C₁ ⋅x ⋅⎝12⋅C₁  + 5⎠    ⎛ 6⎞\n",
       "─────── + C₁ ⋅x + ─────────────────── + O⎝x ⎠\n",
       "                           12                "
      ]
     },
     "execution_count": 62,
     "metadata": {},
     "output_type": "execute_result"
    }
   ],
   "source": [
    "sympy.dsolve(y(x).diff(x) - f)"
   ]
  },
  {
   "cell_type": "code",
   "execution_count": 63,
   "metadata": {},
   "outputs": [
    {
     "ename": "NotImplementedError",
     "evalue": "solve: Cannot solve -x - y(x)**2 + Derivative(y(x), (x, 2))",
     "output_type": "error",
     "traceback": [
      "\u001b[0;31m---------------------------------------------------------------------------\u001b[0m",
      "\u001b[0;31mNotImplementedError\u001b[0m                       Traceback (most recent call last)",
      "\u001b[1;32m/mnt/c/Users/MSI Gf65/Documents/GitHub/PDEs/symbolic.ipynb Cell 38'\u001b[0m in \u001b[0;36m<cell line: 2>\u001b[0;34m()\u001b[0m\n\u001b[1;32m      <a href='vscode-notebook-cell://wsl%2Bubuntu/mnt/c/Users/MSI%20Gf65/Documents/GitHub/PDEs/symbolic.ipynb#ch0000046vscode-remote?line=0'>1</a>\u001b[0m \u001b[39m# En este ejemplo, sympy no [uede encontrar nada\u001b[39;00m\n\u001b[0;32m----> <a href='vscode-notebook-cell://wsl%2Bubuntu/mnt/c/Users/MSI%20Gf65/Documents/GitHub/PDEs/symbolic.ipynb#ch0000046vscode-remote?line=1'>2</a>\u001b[0m sympy\u001b[39m.\u001b[39;49mdsolve(y(x)\u001b[39m.\u001b[39;49mdiff(x,\u001b[39m2\u001b[39;49m) \u001b[39m-\u001b[39;49m f)\n",
      "File \u001b[0;32m/usr/lib/python3/dist-packages/sympy/solvers/ode.py:644\u001b[0m, in \u001b[0;36mdsolve\u001b[0;34m(eq, func, hint, simplify, ics, xi, eta, x0, n, **kwargs)\u001b[0m\n\u001b[1;32m    641\u001b[0m given_hint \u001b[39m=\u001b[39m hint  \u001b[39m# hint given by the user\u001b[39;00m\n\u001b[1;32m    643\u001b[0m \u001b[39m# See the docstring of _desolve for more details.\u001b[39;00m\n\u001b[0;32m--> 644\u001b[0m hints \u001b[39m=\u001b[39m _desolve(eq, func\u001b[39m=\u001b[39;49mfunc,\n\u001b[1;32m    645\u001b[0m     hint\u001b[39m=\u001b[39;49mhint, simplify\u001b[39m=\u001b[39;49m\u001b[39mTrue\u001b[39;49;00m, xi\u001b[39m=\u001b[39;49mxi, eta\u001b[39m=\u001b[39;49meta, \u001b[39mtype\u001b[39;49m\u001b[39m=\u001b[39;49m\u001b[39m'\u001b[39;49m\u001b[39mode\u001b[39;49m\u001b[39m'\u001b[39;49m, ics\u001b[39m=\u001b[39;49mics,\n\u001b[1;32m    646\u001b[0m     x0\u001b[39m=\u001b[39;49mx0, n\u001b[39m=\u001b[39;49mn, \u001b[39m*\u001b[39;49m\u001b[39m*\u001b[39;49mkwargs)\n\u001b[1;32m    647\u001b[0m eq \u001b[39m=\u001b[39m hints\u001b[39m.\u001b[39mpop(\u001b[39m'\u001b[39m\u001b[39meq\u001b[39m\u001b[39m'\u001b[39m, eq)\n\u001b[1;32m    648\u001b[0m all_ \u001b[39m=\u001b[39m hints\u001b[39m.\u001b[39mpop(\u001b[39m'\u001b[39m\u001b[39mall\u001b[39m\u001b[39m'\u001b[39m, \u001b[39mFalse\u001b[39;00m)\n",
      "File \u001b[0;32m/usr/lib/python3/dist-packages/sympy/solvers/deutils.py:244\u001b[0m, in \u001b[0;36m_desolve\u001b[0;34m(eq, func, hint, ics, simplify, **kwargs)\u001b[0m\n\u001b[1;32m    241\u001b[0m         \u001b[39mraise\u001b[39;00m \u001b[39mValueError\u001b[39;00m(\n\u001b[1;32m    242\u001b[0m             \u001b[39mstr\u001b[39m(eq) \u001b[39m+\u001b[39m \u001b[39m\"\u001b[39m\u001b[39m is not a solvable differential equation in \u001b[39m\u001b[39m\"\u001b[39m \u001b[39m+\u001b[39m \u001b[39mstr\u001b[39m(func))\n\u001b[1;32m    243\u001b[0m     \u001b[39melse\u001b[39;00m:\n\u001b[0;32m--> 244\u001b[0m         \u001b[39mraise\u001b[39;00m \u001b[39mNotImplementedError\u001b[39;00m(dummy \u001b[39m+\u001b[39m \u001b[39m\"\u001b[39m\u001b[39msolve\u001b[39m\u001b[39m\"\u001b[39m \u001b[39m+\u001b[39m \u001b[39m\"\u001b[39m\u001b[39m: Cannot solve \u001b[39m\u001b[39m\"\u001b[39m \u001b[39m+\u001b[39m \u001b[39mstr\u001b[39m(eq))\n\u001b[1;32m    245\u001b[0m \u001b[39mif\u001b[39;00m hint \u001b[39m==\u001b[39m \u001b[39m'\u001b[39m\u001b[39mdefault\u001b[39m\u001b[39m'\u001b[39m:\n\u001b[1;32m    246\u001b[0m     \u001b[39mreturn\u001b[39;00m _desolve(eq, func, ics\u001b[39m=\u001b[39mics, hint\u001b[39m=\u001b[39mhints[\u001b[39m'\u001b[39m\u001b[39mdefault\u001b[39m\u001b[39m'\u001b[39m], simplify\u001b[39m=\u001b[39msimplify,\n\u001b[1;32m    247\u001b[0m                   prep\u001b[39m=\u001b[39mprep, x0\u001b[39m=\u001b[39mx0, classify\u001b[39m=\u001b[39m\u001b[39mFalse\u001b[39;00m, order\u001b[39m=\u001b[39mhints[\u001b[39m'\u001b[39m\u001b[39morder\u001b[39m\u001b[39m'\u001b[39m],\n\u001b[1;32m    248\u001b[0m                   match\u001b[39m=\u001b[39mhints[hints[\u001b[39m'\u001b[39m\u001b[39mdefault\u001b[39m\u001b[39m'\u001b[39m]], xi\u001b[39m=\u001b[39mxi, eta\u001b[39m=\u001b[39meta, n\u001b[39m=\u001b[39mterms, \u001b[39mtype\u001b[39m\u001b[39m=\u001b[39m\u001b[39mtype\u001b[39m)\n",
      "\u001b[0;31mNotImplementedError\u001b[0m: solve: Cannot solve -x - y(x)**2 + Derivative(y(x), (x, 2))"
     ]
    }
   ],
   "source": [
    "# En este ejemplo, sympy no [uede encontrar nada\n",
    "sympy.dsolve(y(x).diff(x,2) - f)"
   ]
  },
  {
   "cell_type": "markdown",
   "metadata": {},
   "source": [
    "## Parsing"
   ]
  },
  {
   "cell_type": "code",
   "execution_count": 64,
   "metadata": {},
   "outputs": [],
   "source": [
    "from sympy.parsing.sympy_parser import parse_expr"
   ]
  },
  {
   "cell_type": "code",
   "execution_count": 65,
   "metadata": {},
   "outputs": [
    {
     "data": {
      "image/png": "[encoded data removed]",
      "text/latex": [
       "$\\displaystyle X^{2} + 1$"
      ],
      "text/plain": [
       " 2    \n",
       "X  + 1"
      ]
     },
     "execution_count": 65,
     "metadata": {},
     "output_type": "execute_result"
    }
   ],
   "source": [
    "f = parse_expr(\"X**2+1\")\n",
    "f"
   ]
  },
  {
   "cell_type": "code",
   "execution_count": 66,
   "metadata": {},
   "outputs": [],
   "source": [
    "# Volvemos la expresion en una funcion\n",
    "from sympy import symbols, lambdify\n",
    "\n",
    "X = symbols('X')\n",
    "F = lambdify(X, f, 'numpy')"
   ]
  },
  {
   "cell_type": "code",
   "execution_count": 67,
   "metadata": {},
   "outputs": [
    {
     "name": "stdout",
     "output_type": "stream",
     "text": [
      "[0.  0.2 0.4 0.6 0.8 1. ]\n"
     ]
    }
   ],
   "source": [
    "x = np.linspace(0, 1, 6)\n",
    "print(x)"
   ]
  },
  {
   "cell_type": "code",
   "execution_count": 68,
   "metadata": {},
   "outputs": [
    {
     "name": "stdout",
     "output_type": "stream",
     "text": [
      "[1.   1.04 1.16 1.36 1.64 2.  ]\n"
     ]
    }
   ],
   "source": [
    "# Evaluemos la funcion\n",
    "print(F(x))"
   ]
  }
 ],
 "metadata": {
  "kernelspec": {
   "display_name": "Python 3.8.10 64-bit",
   "language": "python",
   "name": "python3"
  },
  "language_info": {
   "codemirror_mode": {
    "name": "ipython",
    "version": 3
   },
   "file_extension": ".py",
   "mimetype": "text/x-python",
   "name": "python",
   "nbconvert_exporter": "python",
   "pygments_lexer": "ipython3",
   "version": "3.8.10"
  },
  "orig_nbformat": 4,
  "vscode": {
   "interpreter": {
    "hash": "31f2aee4e71d21fbe5cf8b01ff0e069b9275f58929596ceb00d14d90e3e16cd6"
   }
  }
 },
 "nbformat": 4,
 "nbformat_minor": 2
}
