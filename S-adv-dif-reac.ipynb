{
 "cells": [
  {
   "cell_type": "markdown",
   "metadata": {},
   "source": [
    "# Sistema de ecuaciones diferenciales parcials de adveccion-difusion-reaccion\n",
    "\n",
    "El problema es el siguiente sistema de EDPs:\n",
    "$$\\begin{cases} \\dfrac{\\partial u_1}{\\partial t}+w\\cdot\\nabla u_1-\\nabla\\cdot(\\epsilon\\nabla u_1)=f_1-Ku_1u_2, \\\\ \\dfrac{\\partial u_2}{\\partial t}+w\\cdot\\nabla u_2-\\nabla\\cdot(\\epsilon\\nabla u_2)=f_2-Ku_1u_2  \\\\ \\dfrac{\\partial u_3}{\\partial t}+w\\cdot\\nabla u_3-\\nabla\\cdot(\\epsilon\\nabla u_3)=f_2+Ku_1u_2-Ku_3\\end{cases}.$$\n",
    "\n",
    "\\Este sistema modela la reaccion quimica entre dos sustancias $A$ y $B$ en algun dominio $\\Omega$:$$A+B\\rightarrow C.$$\n",
    "\n",
    "Asumimos que la reaccion es de primer orden (i.e., las concentraciones de $[A]$ y $[B]$ son proporcionales de las dos sustancias $A$ y $B$):$$\\dfrac{d}{dt}[C]=K[A][B].$$\n",
    "\n",
    "Tambien asumimos que la sustancia formada $C$  espontaneamente decae   con una tasa proporcional debido a la concentracion de $C$. En la EDP anterior denotamos las concentraciones $u_1=[A]$, $u_2=[B]$ y $u_3=[C]$.\n",
    "\n",
    "La reaccion quimica se produce en cada punto del dominio $\\Omega$. Ademas, asumimos que las sustancias $A$, $B$ y $C$ se difunden enn el dominio $\\Omega$ con constante de fidusion $\\epsilon$ (los terminos $-\\nabla(\\epsilon\\nabla u_i)$) y son transportados con velocidad $w$ (los terminos $w\\cdot\\nabla u_i$).\n",
    "\n",
    "Para hacer las cosas mas interesantes y ponernos en un problema \"real\", dejaremos que la reacción química tenga lugar en el campo de velocidad calculado a partir de la solución de las ecuaciones incompresibles de Navier-Stokes alrededor de un cilindro. En resumen, estaremos resolviendo así el siguiente sistema acoplado de EPDs no lineales:\n",
    "$$\\begin{cases} \\varsigma\\left(\\dfrac{\\partial}{\\partial t}+w\\cdot\\nabla w\\right)=\\nabla\\cdot\\varsigma(w,p)+f \\\\ \\nabla\\cdot w=0 \\\\ \\dfrac{\\partial u_1}{\\partial t}+w\\cdot\\nabla u_1-\\nabla\\cdot(\\epsilon\\nabla u_1)=f_1-Ku_1u_2, \\\\ \\dfrac{\\partial u_2}{\\partial t}+w\\cdot\\nabla u_2-\\nabla\\cdot(\\epsilon\\nabla u_2)=f_2-Ku_1u_2  \\\\ \\dfrac{\\partial u_3}{\\partial t}+w\\cdot\\nabla u_3-\\nabla\\cdot(\\epsilon\\nabla u_3)=f_2+Ku_1u_2-Ku_3.\\end{cases}$$\n",
    "\n",
    "Suponemos que Las cocnentraciones en $t=0$ son cero e introducimos las sustancias $A$ y $B$ en el sistema mediantes las fuentes no nulas $f_1$ y $F_2$"
   ]
  },
  {
   "cell_type": "code",
   "execution_count": null,
   "metadata": {},
   "outputs": [],
   "source": []
  }
 ],
 "metadata": {
  "kernelspec": {
   "display_name": "Python 3.8.10 64-bit",
   "language": "python",
   "name": "python3"
  },
  "language_info": {
   "name": "python",
   "version": "3.8.10"
  },
  "orig_nbformat": 4,
  "vscode": {
   "interpreter": {
    "hash": "31f2aee4e71d21fbe5cf8b01ff0e069b9275f58929596ceb00d14d90e3e16cd6"
   }
  }
 },
 "nbformat": 4,
 "nbformat_minor": 2
}
