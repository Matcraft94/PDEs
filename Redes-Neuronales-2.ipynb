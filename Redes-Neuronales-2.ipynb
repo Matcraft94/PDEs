{
 "cells": [
  {
   "cell_type": "markdown",
   "metadata": {},
   "source": [
    "# Redes Neuronales (solo con numpy)"
   ]
  },
  {
   "cell_type": "code",
   "execution_count": 1,
   "metadata": {},
   "outputs": [],
   "source": [
    "import numpy as np\n",
    "\n",
    "import matplotlib.pyplot as plt\n",
    "import matplotlib\n",
    "\n",
    "matplotlib.rcParams['figure.dpi']=300\n",
    "\n",
    "from mpl_toolkits.axes_grid1.inset_locator import inset_axes"
   ]
  },
  {
   "cell_type": "markdown",
   "metadata": {},
   "source": [
    "## Funciones"
   ]
  },
  {
   "cell_type": "code",
   "execution_count": 2,
   "metadata": {},
   "outputs": [],
   "source": [
    "def apply_layer(y_in,w,b,activation):\n",
    "    \"\"\"\n",
    "    Calcula el paso de una capa a la siguiente, dados\n",
    "    una matriz de pesos w (tamano [n_neurons_in,n_neurons_out])\n",
    "    un vector bias b (longitud n_neurons_out)\n",
    "    y los valores de la neurona de entrada y_in \n",
    "    (tamano [batchsize,n_neurons_in])\n",
    "    \n",
    "    retorna los valores de las neuronas de salida en la siguiente capa\n",
    "    (tamano [batchsize, n_neurons_out])\n",
    "    \"\"\"\n",
    "    z=np.dot(y_in, w) + b # proceso en lote: y_in es de tamano [batchsize,num_neurons_in]\n",
    "\n",
    "    if activation=='sigmoid':\n",
    "        return(1/(1 + np.exp(-z)))\n",
    "    elif activation=='jump':\n",
    "        return(np.array(z>0, dtype='float'))\n",
    "    elif activation=='linear':\n",
    "        return(z)\n",
    "    elif activation=='reLU':\n",
    "        return((z>0)*z)"
   ]
  },
  {
   "cell_type": "code",
   "execution_count": 3,
   "metadata": {},
   "outputs": [],
   "source": [
    "def apply_net(y_in,weights,biases,activations):\n",
    "    \"\"\"\n",
    "    Aplica toda una red neuronal de multiples capas\n",
    "    \"\"\"\n",
    "    y = y_in\n",
    "    for j in range(len(biases)):\n",
    "        y = apply_layer(y, weights[j], biases[j], activations[j])\n",
    "    return(y)"
   ]
  },
  {
   "cell_type": "code",
   "execution_count": 4,
   "metadata": {},
   "outputs": [],
   "source": [
    "# algunas rutinas internas para hacer el plot de la red\n",
    "def plot_connection_line(ax, X, Y, W, vmax = 1.0, linewidth = 3):\n",
    "    t = np.linspace(0, 1, 20)\n",
    "    if W>0:\n",
    "        col=[0, 0.4, 0.8]\n",
    "    else:\n",
    "        col=[1, 0.3, 0]\n",
    "    ax.plot(X[0] + (3*t**2 - 2*t**3)*(X[1] - X[0]), Y[0] + t*(Y[1] - Y[0]),\n",
    "           alpha = abs(W) / vmax, color = col,\n",
    "           linewidth = linewidth)"
   ]
  },
  {
   "cell_type": "code",
   "execution_count": 5,
   "metadata": {},
   "outputs": [],
   "source": [
    "def plot_neuron_alpha(ax, X, Y, B, size = 100.0, vmax = 1.0):\n",
    "    if B>0:\n",
    "        col=[0, 0.4, 0.8]\n",
    "    else:\n",
    "        col=[1, 0.3, 0]\n",
    "    ax.scatter([X], [Y], marker = 'o', c = col, alpha = abs(B) / vmax, s = size, zorder = 10)"
   ]
  },
  {
   "cell_type": "code",
   "execution_count": 6,
   "metadata": {},
   "outputs": [],
   "source": [
    "def plot_neuron(ax, X, Y, B, size = 100.0, vmax = 1.0):\n",
    "    if B>0:\n",
    "        col=[0, 0.4, 0.8]\n",
    "    else:\n",
    "        col=[1, 0.3, 0]\n",
    "    ax.scatter([X], [Y], marker = 'o', c = col, s = size, zorder = 10)"
   ]
  },
  {
   "cell_type": "code",
   "execution_count": null,
   "metadata": {},
   "outputs": [],
   "source": [
    "def visualize_network(weights, biases, activations,\n",
    "                      M = 100, y0range = [-1, 1], y1range = [-1, 1],\n",
    "                     size = 400.0, linewidth = 5.0):\n",
    "    \"\"\"\n",
    "    Visualize a neural network with 2 input \n",
    "    neurons and 1 output neuron (plot output vs input in a 2D plot)\n",
    "    \n",
    "    weights is a list of the weight matrices for the\n",
    "    layers, where weights[j] is the matrix for the connections\n",
    "    from layer j to layer j+1 (where j==0 is the input)\n",
    "    \n",
    "    weights[j][m,k] is the weight for input neuron k going to output neuron m\n",
    "    (note: internally, m and k are swapped, see the explanation of\n",
    "    batch processing in lecture 2)\n",
    "    \n",
    "    biases[j] is the vector of bias values for obtaining the neurons in layer j+1\n",
    "    biases[j][k] is the bias for neuron k in layer j+1\n",
    "    \n",
    "    activations is a list of the activation functions for\n",
    "    the different layers: choose 'linear','sigmoid',\n",
    "    'jump' (i.e. step-function), and 'reLU'\n",
    "    \n",
    "    M is the resolution (MxM grid)\n",
    "    \n",
    "    y0range is the range of y0 neuron values (horizontal axis)\n",
    "    y1range is the range of y1 neuron values (vertical axis)\n",
    "    \"\"\"\n",
    "    swapped_weights=[]\n",
    "    for j in range(len(weights)):\n",
    "        swapped_weights.append(np.transpose(weights[j]))\n",
    "        \n",
    "    y0,y1=np.meshgrid(np.linspace(y0range[0],y0range[1],M),np.linspace(y1range[0],y1range[1],M))\n",
    "    y_in=np.zeros([M*M,2])\n",
    "    y_in[:,0]=y0.flatten()\n",
    "    y_in[:,1]=y1.flatten()\n",
    "    y_out=apply_net(y_in,swapped_weights,biases,activations)\n",
    "\n",
    "    fig,ax=plt.subplots(ncols=2,nrows=1,figsize=(8,4))\n",
    "    \n",
    "    # plot the network itself:\n",
    "    \n",
    "    # positions of neurons on plot:\n",
    "    posX=[[-0.5,+0.5]]; posY=[[0,0]]\n",
    "    vmax=0.0 # for finding the maximum weight\n",
    "    vmaxB=0.0 # for maximum bias\n",
    "    for j in range(len(biases)):\n",
    "        n_neurons=len(biases[j])\n",
    "        posX.append(np.array(range(n_neurons))-0.5*(n_neurons-1))\n",
    "        posY.append(np.full(n_neurons,j+1))\n",
    "        vmax=np.maximum(vmax,np.max(np.abs(weights[j])))\n",
    "        vmaxB=np.maximum(vmaxB,np.max(np.abs(biases[j])))\n",
    "\n",
    "    # plot connections\n",
    "    for j in range(len(biases)):\n",
    "        for k in range(len(posX[j])):\n",
    "            for m in range(len(posX[j+1])):\n",
    "                plot_connection_line(ax[0],[posX[j][k],posX[j+1][m]],\n",
    "                                     [posY[j][k],posY[j+1][m]],\n",
    "                                     swapped_weights[j][k,m],vmax=vmax,\n",
    "                                    linewidth=linewidth)\n",
    "    \n",
    "    # plot neurons\n",
    "    for k in range(len(posX[0])): # input neurons (have no bias!)\n",
    "        plot_neuron(ax[0],posX[0][k],posY[0][k],\n",
    "                   vmaxB,vmax=vmaxB,size=size)\n",
    "    for j in range(len(biases)): # all other neurons\n",
    "        for k in range(len(posX[j+1])):\n",
    "            plot_neuron(ax[0],posX[j+1][k],posY[j+1][k],\n",
    "                       biases[j][k],vmax=vmaxB,size=size)\n",
    "    \n",
    "    ax[0].axis('off')\n",
    "    \n",
    "    # now: the output of the network\n",
    "    img=ax[1].imshow(np.reshape(y_out,[M,M]),origin='lower',\n",
    "                    extent=[y0range[0],y0range[1],y1range[0],y1range[1]])\n",
    "    ax[1].set_xlabel(r'$y_0$')\n",
    "    ax[1].set_ylabel(r'$y_1$')\n",
    "    \n",
    "    axins1 = inset_axes(ax[1],\n",
    "                    width=\"40%\",  # width = 50% of parent_bbox width\n",
    "                    height=\"5%\",  # height : 5%\n",
    "                    loc='upper right')\n",
    "\n",
    "    imgmin=np.min(y_out)\n",
    "    imgmax=np.max(y_out)\n",
    "    color_bar=fig.colorbar(img, cax=axins1, orientation=\"horizontal\",ticks=np.linspace(imgmin,imgmax,3))\n",
    "    cbxtick_obj = plt.getp(color_bar.ax.axes, 'xticklabels')\n",
    "    plt.setp(cbxtick_obj, color=\"white\")\n",
    "    axins1.xaxis.set_ticks_position(\"bottom\")\n",
    "\n",
    "    plt.show()"
   ]
  }
 ],
 "metadata": {
  "kernelspec": {
   "display_name": "Python 3.8.10 64-bit",
   "language": "python",
   "name": "python3"
  },
  "language_info": {
   "codemirror_mode": {
    "name": "ipython",
    "version": 3
   },
   "file_extension": ".py",
   "mimetype": "text/x-python",
   "name": "python",
   "nbconvert_exporter": "python",
   "pygments_lexer": "ipython3",
   "version": "3.8.10"
  },
  "orig_nbformat": 4,
  "vscode": {
   "interpreter": {
    "hash": "31f2aee4e71d21fbe5cf8b01ff0e069b9275f58929596ceb00d14d90e3e16cd6"
   }
  }
 },
 "nbformat": 4,
 "nbformat_minor": 2
}
