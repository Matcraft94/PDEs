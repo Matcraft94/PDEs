{
 "cells": [
  {
   "cell_type": "markdown",
   "metadata": {},
   "source": [
    "# Eliminación de ruido de imagen\n",
    "\n",
    "\n"
   ]
  },
  {
   "cell_type": "markdown",
   "metadata": {},
   "source": [
    "## Configuracion"
   ]
  },
  {
   "cell_type": "code",
   "execution_count": 7,
   "metadata": {},
   "outputs": [],
   "source": [
    "from __future__ import print_function, division, absolute_import\n",
    "\n",
    "import matplotlib.pyplot as plt\n",
    "%matplotlib inline\n",
    "\n",
    "import dolfin as dl\n",
    "\n",
    "from hippylib import nb\n",
    "\n",
    "import math\n",
    "import numpy as np\n",
    "import logging\n",
    "\n",
    "from unconstrainedMinimization import InexactNewtonCG"
   ]
  },
  {
   "cell_type": "code",
   "execution_count": 8,
   "metadata": {},
   "outputs": [],
   "source": [
    "\n",
    "logging.getLogger('FFC').setLevel(logging.WARNING)\n",
    "logging.getLogger('UFL').setLevel(logging.WARNING)\n",
    "dl.set_log_active(False)"
   ]
  },
  {
   "cell_type": "code",
   "execution_count": 9,
   "metadata": {},
   "outputs": [],
   "source": [
    "data = np.loadtxt('image.dat', delimiter=',')\n",
    "np.random.seed(seed=1)\n",
    "noise_std_dev = .3\n",
    "noise = noise_std_dev*np.random.randn(data.shape[0], data.shape[1])\n",
    "Lx = float(data.shape[1])/float(data.shape[0])\n",
    "Ly = 1."
   ]
  },
  {
   "cell_type": "code",
   "execution_count": 10,
   "metadata": {},
   "outputs": [],
   "source": [
    "class Image(dl.Expression):\n",
    "    def __init__(self, Lx, Ly, data, **kwargs):\n",
    "        self.data = data\n",
    "        self.hx = Lx/float(data.shape[1]-1)\n",
    "        self.hy = Ly/float(data.shape[0]-1)\n",
    "        \n",
    "    def eval(self, values, x):\n",
    "        j = int(math.floor(x[0]/self.hx))\n",
    "        i = int(math.floor(x[1]/self.hy))\n",
    "        values[0] = self.data[i,j]"
   ]
  },
  {
   "cell_type": "code",
   "execution_count": 11,
   "metadata": {},
   "outputs": [
    {
     "ename": "RecursionError",
     "evalue": "maximum recursion depth exceeded in comparison",
     "output_type": "error",
     "traceback": [
      "\u001b[0;31m---------------------------------------------------------------------------\u001b[0m",
      "\u001b[0;31mRecursionError\u001b[0m                            Traceback (most recent call last)",
      "\u001b[1;32m/mnt/c/Users/MSI Gf65/Documents/GitHub/PDEs/Image-Denoising.ipynb Cell 7'\u001b[0m in \u001b[0;36m<cell line: 3>\u001b[0;34m()\u001b[0m\n\u001b[1;32m      <a href='vscode-notebook-cell://wsl%2Bubuntu/mnt/c/Users/MSI%20Gf65/Documents/GitHub/PDEs/Image-Denoising.ipynb#ch0000006vscode-remote?line=0'>1</a>\u001b[0m mesh \u001b[39m=\u001b[39m dl\u001b[39m.\u001b[39mRectangleMesh(dl\u001b[39m.\u001b[39mPoint(\u001b[39m0\u001b[39m,\u001b[39m0\u001b[39m),dl\u001b[39m.\u001b[39mPoint(Lx,Ly),\u001b[39m200\u001b[39m, \u001b[39m100\u001b[39m)\n\u001b[1;32m      <a href='vscode-notebook-cell://wsl%2Bubuntu/mnt/c/Users/MSI%20Gf65/Documents/GitHub/PDEs/Image-Denoising.ipynb#ch0000006vscode-remote?line=1'>2</a>\u001b[0m V \u001b[39m=\u001b[39m dl\u001b[39m.\u001b[39mFunctionSpace(mesh, \u001b[39m\"\u001b[39m\u001b[39mLagrange\u001b[39m\u001b[39m\"\u001b[39m,\u001b[39m1\u001b[39m)\n\u001b[0;32m----> <a href='vscode-notebook-cell://wsl%2Bubuntu/mnt/c/Users/MSI%20Gf65/Documents/GitHub/PDEs/Image-Denoising.ipynb#ch0000006vscode-remote?line=2'>3</a>\u001b[0m trueImage \u001b[39m=\u001b[39m Image(Lx,Ly,data,degree \u001b[39m=\u001b[39;49m \u001b[39m1\u001b[39;49m)\n\u001b[1;32m      <a href='vscode-notebook-cell://wsl%2Bubuntu/mnt/c/Users/MSI%20Gf65/Documents/GitHub/PDEs/Image-Denoising.ipynb#ch0000006vscode-remote?line=3'>4</a>\u001b[0m noisyImage \u001b[39m=\u001b[39m Image(Lx,Ly,data\u001b[39m+\u001b[39mnoise, degree \u001b[39m=\u001b[39m \u001b[39m1\u001b[39m)\n\u001b[1;32m      <a href='vscode-notebook-cell://wsl%2Bubuntu/mnt/c/Users/MSI%20Gf65/Documents/GitHub/PDEs/Image-Denoising.ipynb#ch0000006vscode-remote?line=4'>5</a>\u001b[0m u_true  \u001b[39m=\u001b[39m dl\u001b[39m.\u001b[39minterpolate(trueImage, V)\n",
      "\u001b[1;32m/mnt/c/Users/MSI Gf65/Documents/GitHub/PDEs/Image-Denoising.ipynb Cell 6'\u001b[0m in \u001b[0;36mImage.__init__\u001b[0;34m(self, Lx, Ly, data, **kwargs)\u001b[0m\n\u001b[1;32m      <a href='vscode-notebook-cell://wsl%2Bubuntu/mnt/c/Users/MSI%20Gf65/Documents/GitHub/PDEs/Image-Denoising.ipynb#ch0000005vscode-remote?line=1'>2</a>\u001b[0m \u001b[39mdef\u001b[39;00m \u001b[39m__init__\u001b[39m(\u001b[39mself\u001b[39m, Lx, Ly, data, \u001b[39m*\u001b[39m\u001b[39m*\u001b[39mkwargs):\n\u001b[0;32m----> <a href='vscode-notebook-cell://wsl%2Bubuntu/mnt/c/Users/MSI%20Gf65/Documents/GitHub/PDEs/Image-Denoising.ipynb#ch0000005vscode-remote?line=2'>3</a>\u001b[0m     \u001b[39mself\u001b[39m\u001b[39m.\u001b[39mdata \u001b[39m=\u001b[39m data\n\u001b[1;32m      <a href='vscode-notebook-cell://wsl%2Bubuntu/mnt/c/Users/MSI%20Gf65/Documents/GitHub/PDEs/Image-Denoising.ipynb#ch0000005vscode-remote?line=3'>4</a>\u001b[0m     \u001b[39mself\u001b[39m\u001b[39m.\u001b[39mhx \u001b[39m=\u001b[39m Lx\u001b[39m/\u001b[39m\u001b[39mfloat\u001b[39m(data\u001b[39m.\u001b[39mshape[\u001b[39m1\u001b[39m]\u001b[39m-\u001b[39m\u001b[39m1\u001b[39m)\n\u001b[1;32m      <a href='vscode-notebook-cell://wsl%2Bubuntu/mnt/c/Users/MSI%20Gf65/Documents/GitHub/PDEs/Image-Denoising.ipynb#ch0000005vscode-remote?line=4'>5</a>\u001b[0m     \u001b[39mself\u001b[39m\u001b[39m.\u001b[39mhy \u001b[39m=\u001b[39m Ly\u001b[39m/\u001b[39m\u001b[39mfloat\u001b[39m(data\u001b[39m.\u001b[39mshape[\u001b[39m0\u001b[39m]\u001b[39m-\u001b[39m\u001b[39m1\u001b[39m)\n",
      "File \u001b[0;32m/usr/lib/petsc/lib/python3/dist-packages/dolfin/function/expression.py:438\u001b[0m, in \u001b[0;36mExpression.__setattr__\u001b[0;34m(self, name, value)\u001b[0m\n\u001b[1;32m    436\u001b[0m \u001b[39mif\u001b[39;00m name\u001b[39m.\u001b[39mstartswith(\u001b[39m\"\u001b[39m\u001b[39m_\u001b[39m\u001b[39m\"\u001b[39m):\n\u001b[1;32m    437\u001b[0m     \u001b[39msuper\u001b[39m()\u001b[39m.\u001b[39m\u001b[39m__setattr__\u001b[39m(name, value)\n\u001b[0;32m--> 438\u001b[0m \u001b[39melif\u001b[39;00m name \u001b[39min\u001b[39;00m \u001b[39mself\u001b[39;49m\u001b[39m.\u001b[39;49m_parameters:\n\u001b[1;32m    439\u001b[0m     \u001b[39mself\u001b[39m\u001b[39m.\u001b[39m_parameters[name] \u001b[39m=\u001b[39m value\n",
      "File \u001b[0;32m/usr/lib/petsc/lib/python3/dist-packages/dolfin/function/expression.py:432\u001b[0m, in \u001b[0;36mExpression.__getattr__\u001b[0;34m(self, name)\u001b[0m\n\u001b[1;32m    430\u001b[0m     \u001b[39mreturn\u001b[39;00m \u001b[39mself\u001b[39m\u001b[39m.\u001b[39m_parameters\n\u001b[1;32m    431\u001b[0m \u001b[39melse\u001b[39;00m:\n\u001b[0;32m--> 432\u001b[0m     \u001b[39mreturn\u001b[39;00m \u001b[39mself\u001b[39;49m\u001b[39m.\u001b[39;49m_parameters[name]\n",
      "File \u001b[0;32m/usr/lib/petsc/lib/python3/dist-packages/dolfin/function/expression.py:432\u001b[0m, in \u001b[0;36mExpression.__getattr__\u001b[0;34m(self, name)\u001b[0m\n\u001b[1;32m    430\u001b[0m     \u001b[39mreturn\u001b[39;00m \u001b[39mself\u001b[39m\u001b[39m.\u001b[39m_parameters\n\u001b[1;32m    431\u001b[0m \u001b[39melse\u001b[39;00m:\n\u001b[0;32m--> 432\u001b[0m     \u001b[39mreturn\u001b[39;00m \u001b[39mself\u001b[39;49m\u001b[39m.\u001b[39;49m_parameters[name]\n",
      "    \u001b[0;31m[... skipping similar frames: Expression.__getattr__ at line 432 (2966 times)]\u001b[0m\n",
      "File \u001b[0;32m/usr/lib/petsc/lib/python3/dist-packages/dolfin/function/expression.py:432\u001b[0m, in \u001b[0;36mExpression.__getattr__\u001b[0;34m(self, name)\u001b[0m\n\u001b[1;32m    430\u001b[0m     \u001b[39mreturn\u001b[39;00m \u001b[39mself\u001b[39m\u001b[39m.\u001b[39m_parameters\n\u001b[1;32m    431\u001b[0m \u001b[39melse\u001b[39;00m:\n\u001b[0;32m--> 432\u001b[0m     \u001b[39mreturn\u001b[39;00m \u001b[39mself\u001b[39;49m\u001b[39m.\u001b[39;49m_parameters[name]\n",
      "File \u001b[0;32m/usr/lib/petsc/lib/python3/dist-packages/dolfin/function/expression.py:429\u001b[0m, in \u001b[0;36mExpression.__getattr__\u001b[0;34m(self, name)\u001b[0m\n\u001b[1;32m    427\u001b[0m \u001b[39mdef\u001b[39;00m \u001b[39m__getattr__\u001b[39m(\u001b[39mself\u001b[39m, name):\n\u001b[1;32m    428\u001b[0m     \u001b[39m\"\u001b[39m\u001b[39mPass attributes through to (JIT compiled) Expression object\u001b[39m\u001b[39m\"\u001b[39m\n\u001b[0;32m--> 429\u001b[0m     \u001b[39mif\u001b[39;00m name \u001b[39m==\u001b[39;49m \u001b[39m'\u001b[39;49m\u001b[39muser_parameters\u001b[39;49m\u001b[39m'\u001b[39;49m:\n\u001b[1;32m    430\u001b[0m         \u001b[39mreturn\u001b[39;00m \u001b[39mself\u001b[39m\u001b[39m.\u001b[39m_parameters\n\u001b[1;32m    431\u001b[0m     \u001b[39melse\u001b[39;00m:\n",
      "\u001b[0;31mRecursionError\u001b[0m: maximum recursion depth exceeded in comparison"
     ]
    }
   ],
   "source": [
    "mesh = dl.RectangleMesh(dl.Point(0,0),dl.Point(Lx,Ly),200, 100)\n",
    "V = dl.FunctionSpace(mesh, \"Lagrange\",1)\n",
    "\n",
    "trueImage = Image(Lx, Ly, data, degree = 1)\n",
    "noisyImage = Image(Lx,Ly,data+noise, degree = 1)\n",
    "u_true  = dl.interpolate(trueImage, V)\n",
    "u_0 = dl.interpolate(noisyImage, V)"
   ]
  },
  {
   "cell_type": "code",
   "execution_count": null,
   "metadata": {},
   "outputs": [],
   "source": [
    "# Get min/max of noisy image, so that we can show all plots in the same scale\n",
    "vmin = np.min(u_0.vector().get_local())\n",
    "vmax = np.max(u_0.vector().get_local())\n",
    "\n",
    "plt.figure(figsize=(15,5))\n",
    "nb.plot(u_true, subplot_loc=121, mytitle=\"True Image\", vmin=vmin, vmax = vmax)\n",
    "nb.plot(u_0, subplot_loc=122, mytitle=\"Noisy Image\", vmin=vmin, vmax = vmax)\n",
    "plt.show()"
   ]
  }
 ],
 "metadata": {
  "kernelspec": {
   "display_name": "Python 3.8.10 64-bit",
   "language": "python",
   "name": "python3"
  },
  "language_info": {
   "codemirror_mode": {
    "name": "ipython",
    "version": 3
   },
   "file_extension": ".py",
   "mimetype": "text/x-python",
   "name": "python",
   "nbconvert_exporter": "python",
   "pygments_lexer": "ipython3",
   "version": "3.8.10"
  },
  "orig_nbformat": 4,
  "vscode": {
   "interpreter": {
    "hash": "916dbcbb3f70747c44a77c7bcd40155683ae19c65e1c03b4aa3499c5328201f1"
   }
  }
 },
 "nbformat": 4,
 "nbformat_minor": 2
}
