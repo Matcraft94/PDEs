{
 "cells": [
  {
   "cell_type": "code",
   "execution_count": 2,
   "metadata": {},
   "outputs": [],
   "source": [
    "import warnings\n",
    "warnings.filterwarnings('ignore')"
   ]
  },
  {
   "cell_type": "code",
   "execution_count": null,
   "metadata": {},
   "outputs": [],
   "source": [
    "import torch\n",
    "import matplotlib.pyplot as plt"
   ]
  },
  {
   "cell_type": "code",
   "execution_count": 6,
   "metadata": {},
   "outputs": [
    {
     "name": "stdout",
     "output_type": "stream",
     "text": [
      "Usaremos  cuda\n"
     ]
    }
   ],
   "source": [
    "import torch\n",
    "device = 'cuda' if torch.cuda.is_available() else 'cpu'\n",
    "print('Usaremos ',device)"
   ]
  },
  {
   "cell_type": "code",
   "execution_count": 3,
   "metadata": {},
   "outputs": [
    {
     "data": {
      "image/png": "[encoded data removed]",
      "text/plain": [
       "<Figure size 640x480 with 1 Axes>"
      ]
     },
     "metadata": {},
     "output_type": "display_data"
    }
   ],
   "source": [
    "def gradient_descent(u, f, alpha=0.01, epsilon=1e-6, max_iter=10000):\n",
    "    iteration = 0\n",
    "    while iteration < max_iter:\n",
    "        du = laplacian(u) - f(u)\n",
    "        u = u - alpha * du\n",
    "        norm = torch.norm(du)\n",
    "        if norm < epsilon:\n",
    "            break\n",
    "        iteration += 1\n",
    "    return u\n",
    "\n",
    "def laplacian(u):\n",
    "    lap = torch.zeros_like(u)\n",
    "    lap[1:-1, 1:-1] = (u[:-2, 1:-1] + u[2:, 1:-1] + u[1:-1, :-2] + u[1:-1, 2:] - 4 * u[1:-1, 1:-1]) / (dx**2)\n",
    "    return lap\n",
    "\n",
    "def f(u):\n",
    "    return torch.sin(u)\n",
    "\n",
    "# Definimos los límites del dominio\n",
    "x_min, x_max = -5, 5\n",
    "y_min, y_max = -5, 5\n",
    "\n",
    "# Definimos la malla\n",
    "nx, ny = 100, 100\n",
    "dx, dy = (x_max - x_min) / (nx - 1), (y_max - y_min) / (ny - 1)\n",
    "x = torch.linspace(x_min, x_max, nx)\n",
    "y = torch.linspace(y_min, y_max, ny)\n",
    "X, Y = torch.meshgrid(x, y)\n",
    "\n",
    "# Inicializamos la solución numérica\n",
    "U = torch.tensor(X**2 + Y**2, dtype=torch.float32, requires_grad=True)\n",
    "\n",
    "# Realizamos el descenso gradiente\n",
    "U = gradient_descent(U, f)\n",
    "\n",
    "# Mostramos la solución numérica\n",
    "plt.imshow(U.detach().numpy())\n",
    "plt.show()\n"
   ]
  },
  {
   "cell_type": "code",
   "execution_count": 8,
   "metadata": {},
   "outputs": [
    {
     "data": {
      "image/png": "[encoded data removed]",
      "text/plain": [
       "<Figure size 640x480 with 1 Axes>"
      ]
     },
     "metadata": {},
     "output_type": "display_data"
    }
   ],
   "source": [
    "import torch\n",
    "import matplotlib.pyplot as plt\n",
    "\n",
    "def gradient_descent(u, f, alpha=0.01, epsilon=1e-6, max_iter=10000):\n",
    "    device = u.device\n",
    "    iteration = 0\n",
    "    while iteration < max_iter:\n",
    "        du = laplacian(u).to(device) - f(u).to(device)\n",
    "        u = u - alpha * du\n",
    "        norm = torch.norm(du)\n",
    "        if norm < epsilon:\n",
    "            break\n",
    "        iteration += 1\n",
    "    return u\n",
    "\n",
    "def laplacian(u):\n",
    "    device = u.device\n",
    "    lap = torch.zeros_like(u, device=device)\n",
    "    lap[1:-1, 1:-1] = (u[:-2, 1:-1] + u[2:, 1:-1] + u[1:-1, :-2] + u[1:-1, 2:] - 4 * u[1:-1, 1:-1]) / (dx**2)\n",
    "    return lap\n",
    "\n",
    "def f(u):\n",
    "    device = u.device\n",
    "    return torch.sin(u).to(device)\n",
    "\n",
    "# Definimos los límites del dominio\n",
    "x_min, x_max = -5, 5\n",
    "y_min, y_max = -5, 5\n",
    "\n",
    "# Definimos la malla\n",
    "nx, ny = 100, 100\n",
    "dx, dy = (x_max - x_min) / (nx - 1), (y_max - y_min) / (ny - 1)\n",
    "x = torch.linspace(x_min, x_max, nx)\n",
    "y = torch.linspace(y_min, y_max, ny)\n",
    "X, Y = torch.meshgrid(x, y)\n",
    "\n",
    "# Inicializamos la solución numérica\n",
    "device = torch.device(\"cuda\" if torch.cuda.is_available() else \"cpu\")\n",
    "U = torch.tensor(X**2 + Y**2, dtype=torch.float32, device=device, requires_grad=True)\n",
    "\n",
    "# Realizamos el descenso gradiente\n",
    "U = gradient_descent(U, f)\n",
    "\n",
    "# Movemos el resultado a la CPU para su visualización\n",
    "plt.imshow(U.detach().cpu().numpy())\n",
    "plt.show()\n"
   ]
  },
  {
   "cell_type": "code",
   "execution_count": 1,
   "metadata": {},
   "outputs": [],
   "source": [
    "import numpy as np\n",
    "import scipy.sparse as sparse\n",
    "import scipy.sparse.linalg as splinalg\n",
    "import matplotlib.pyplot as plt"
   ]
  },
  {
   "cell_type": "code",
   "execution_count": 2,
   "metadata": {},
   "outputs": [],
   "source": [
    "# Define el dominio como un cuadrado de tamaño (L, L)\n",
    "L = 1\n",
    "nx = 10\n",
    "ny = 10"
   ]
  },
  {
   "cell_type": "code",
   "execution_count": 3,
   "metadata": {},
   "outputs": [],
   "source": [
    "# Crea una malla para el dominio\n",
    "x = np.linspace(0, L, nx+1)\n",
    "y = np.linspace(0, L, ny+1)\n",
    "X, Y = np.meshgrid(x, y)"
   ]
  },
  {
   "cell_type": "code",
   "execution_count": 4,
   "metadata": {},
   "outputs": [],
   "source": [
    "# Define la función f(u)\n",
    "def f(u):\n",
    "    return np.sin(u)"
   ]
  },
  {
   "cell_type": "code",
   "execution_count": 5,
   "metadata": {},
   "outputs": [],
   "source": [
    "# Crea una matriz para la forma bilineal\n",
    "def laplacian_matrix(nx, ny):\n",
    "    hx = 1./nx\n",
    "    hy = 1./ny\n",
    "    diagonals = np.array([-4., 1., 1., 1., 1.])\n",
    "    offsets = np.array([0, -nx, nx, -1, 1])\n",
    "    return (1./hx**2) * sparse.diags(diagonals, offsets)"
   ]
  },
  {
   "cell_type": "code",
   "execution_count": 7,
   "metadata": {},
   "outputs": [],
   "source": [
    "def laplacian_matrix_kron(n_r, n_theta):\n",
    "    dr = 1.0 / n_r\n",
    "    dtheta = 2 * np.pi / n_theta\n",
    "    r = np.linspace(dr, 1.0, n_r)\n",
    "    theta = np.linspace(0, 2*np.pi, n_theta+1)[:-1]\n",
    "    D_r = sparse.diags([-2.0, 1.0, 1.0], [-1, 0, 1], shape=(n_r, n_r)) / (dr ** 2)\n",
    "    I_r = sparse.identity(n_r)\n",
    "    L_theta = sparse.diags([-0.5 * np.ones(n_theta), 0.5 * np.ones(n_theta)], [-1, 1], shape=(n_theta, n_theta)) / (r[:, np.newaxis] * dtheta)\n",
    "    I_theta = sparse.identity(n_theta)\n",
    "    A = sparse.kron(D_r, I_theta) + sparse.kron(I_r, L_theta)\n",
    "    return A"
   ]
  },
  {
   "cell_type": "code",
   "execution_count": 8,
   "metadata": {},
   "outputs": [],
   "source": [
    "# Resuelve el problema de Laplace usando el método de gradiente conjugado\n",
    "A = laplacian_matrix_kron(nx, ny)\n",
    "u = np.zeros((nx+1) * (ny+1))\n",
    "r = np.ones_like(u)\n",
    "p = r\n",
    "tol = 1e-8\n",
    "maxiter = 100"
   ]
  },
  {
   "cell_type": "code",
   "execution_count": 9,
   "metadata": {},
   "outputs": [
    {
     "ename": "ValueError",
     "evalue": "dimension mismatch",
     "output_type": "error",
     "traceback": [
      "\u001b[1;31m---------------------------------------------------------------------------\u001b[0m",
      "\u001b[1;31mValueError\u001b[0m                                Traceback (most recent call last)",
      "Cell \u001b[1;32mIn [9], line 2\u001b[0m\n\u001b[0;32m      1\u001b[0m \u001b[39mfor\u001b[39;00m i \u001b[39min\u001b[39;00m \u001b[39mrange\u001b[39m(maxiter):\n\u001b[1;32m----> 2\u001b[0m     Ap \u001b[39m=\u001b[39m A \u001b[39m@\u001b[39;49m p\n\u001b[0;32m      3\u001b[0m     alpha \u001b[39m=\u001b[39m np\u001b[39m.\u001b[39mdot(r, r) \u001b[39m/\u001b[39m np\u001b[39m.\u001b[39mdot(p, Ap)\n\u001b[0;32m      4\u001b[0m     u \u001b[39m+\u001b[39m\u001b[39m=\u001b[39m alpha \u001b[39m*\u001b[39m p\n",
      "File \u001b[1;32mc:\\Users\\Det-Pc\\anaconda3\\envs\\pytorch-C-DL\\lib\\site-packages\\scipy\\sparse\\_base.py:630\u001b[0m, in \u001b[0;36mspmatrix.__matmul__\u001b[1;34m(self, other)\u001b[0m\n\u001b[0;32m    627\u001b[0m \u001b[39mif\u001b[39;00m isscalarlike(other):\n\u001b[0;32m    628\u001b[0m     \u001b[39mraise\u001b[39;00m \u001b[39mValueError\u001b[39;00m(\u001b[39m\"\u001b[39m\u001b[39mScalar operands are not allowed, \u001b[39m\u001b[39m\"\u001b[39m\n\u001b[0;32m    629\u001b[0m                      \u001b[39m\"\u001b[39m\u001b[39muse \u001b[39m\u001b[39m'\u001b[39m\u001b[39m*\u001b[39m\u001b[39m'\u001b[39m\u001b[39m instead\u001b[39m\u001b[39m\"\u001b[39m)\n\u001b[1;32m--> 630\u001b[0m \u001b[39mreturn\u001b[39;00m \u001b[39mself\u001b[39;49m\u001b[39m.\u001b[39;49m_mul_dispatch(other)\n",
      "File \u001b[1;32mc:\\Users\\Det-Pc\\anaconda3\\envs\\pytorch-C-DL\\lib\\site-packages\\scipy\\sparse\\_base.py:559\u001b[0m, in \u001b[0;36mspmatrix._mul_dispatch\u001b[1;34m(self, other)\u001b[0m\n\u001b[0;32m    556\u001b[0m \u001b[39mif\u001b[39;00m other\u001b[39m.\u001b[39mndim \u001b[39m==\u001b[39m \u001b[39m1\u001b[39m \u001b[39mor\u001b[39;00m other\u001b[39m.\u001b[39mndim \u001b[39m==\u001b[39m \u001b[39m2\u001b[39m \u001b[39mand\u001b[39;00m other\u001b[39m.\u001b[39mshape[\u001b[39m1\u001b[39m] \u001b[39m==\u001b[39m \u001b[39m1\u001b[39m:\n\u001b[0;32m    557\u001b[0m     \u001b[39m# dense row or column vector\u001b[39;00m\n\u001b[0;32m    558\u001b[0m     \u001b[39mif\u001b[39;00m other\u001b[39m.\u001b[39mshape \u001b[39m!=\u001b[39m (N,) \u001b[39mand\u001b[39;00m other\u001b[39m.\u001b[39mshape \u001b[39m!=\u001b[39m (N, \u001b[39m1\u001b[39m):\n\u001b[1;32m--> 559\u001b[0m         \u001b[39mraise\u001b[39;00m \u001b[39mValueError\u001b[39;00m(\u001b[39m'\u001b[39m\u001b[39mdimension mismatch\u001b[39m\u001b[39m'\u001b[39m)\n\u001b[0;32m    561\u001b[0m     result \u001b[39m=\u001b[39m \u001b[39mself\u001b[39m\u001b[39m.\u001b[39m_mul_vector(np\u001b[39m.\u001b[39mravel(other))\n\u001b[0;32m    563\u001b[0m     \u001b[39mif\u001b[39;00m \u001b[39misinstance\u001b[39m(other, np\u001b[39m.\u001b[39mmatrix):\n",
      "\u001b[1;31mValueError\u001b[0m: dimension mismatch"
     ]
    }
   ],
   "source": [
    "for i in range(maxiter):\n",
    "    Ap = A @ p\n",
    "    alpha = np.dot(r, r) / np.dot(p, Ap)\n",
    "    u += alpha * p\n",
    "    r_new = r - alpha * Ap\n",
    "    beta = np.dot(r_new, r_new) / np.dot(r, r)\n",
    "    p = r_new + beta * p\n",
    "    r = r_new\n",
    "    if np.linalg.norm(r) < tol:\n",
    "        break"
   ]
  },
  {
   "cell_type": "code",
   "execution_count": null,
   "metadata": {},
   "outputs": [],
   "source": [
    "# Reordena la solución en una matriz\n",
    "u = np.reshape(u, (ny+1, nx+1))"
   ]
  },
  {
   "cell_type": "code",
   "execution_count": null,
   "metadata": {},
   "outputs": [],
   "source": [
    "# Grafica la solución\n",
    "plt.imshow(u)\n",
    "plt.colorbar()\n",
    "plt.show()"
   ]
  },
  {
   "cell_type": "code",
   "execution_count": null,
   "metadata": {},
   "outputs": [],
   "source": []
  },
  {
   "cell_type": "code",
   "execution_count": null,
   "metadata": {},
   "outputs": [],
   "source": []
  },
  {
   "cell_type": "code",
   "execution_count": null,
   "metadata": {},
   "outputs": [],
   "source": []
  },
  {
   "cell_type": "code",
   "execution_count": null,
   "metadata": {},
   "outputs": [],
   "source": []
  },
  {
   "cell_type": "code",
   "execution_count": 11,
   "metadata": {},
   "outputs": [
    {
     "ename": "ValueError",
     "evalue": "operands could not be broadcast together with shapes (2500,) (50,) ",
     "output_type": "error",
     "traceback": [
      "\u001b[1;31m---------------------------------------------------------------------------\u001b[0m",
      "\u001b[1;31mValueError\u001b[0m                                Traceback (most recent call last)",
      "Cell \u001b[1;32mIn [11], line 28\u001b[0m\n\u001b[0;32m     26\u001b[0m n_r \u001b[39m=\u001b[39m \u001b[39m50\u001b[39m\n\u001b[0;32m     27\u001b[0m n_theta \u001b[39m=\u001b[39m \u001b[39m50\u001b[39m\n\u001b[1;32m---> 28\u001b[0m u \u001b[39m=\u001b[39m solve_laplace(n_r, n_theta)\n",
      "Cell \u001b[1;32mIn [11], line 18\u001b[0m, in \u001b[0;36msolve_laplace\u001b[1;34m(n_r, n_theta)\u001b[0m\n\u001b[0;32m     17\u001b[0m \u001b[39mdef\u001b[39;00m \u001b[39msolve_laplace\u001b[39m(n_r, n_theta):\n\u001b[1;32m---> 18\u001b[0m     A \u001b[39m=\u001b[39m laplacian_matrix(n_r, n_theta)\n\u001b[0;32m     19\u001b[0m     u \u001b[39m=\u001b[39m np\u001b[39m.\u001b[39mzeros(n_r \u001b[39m*\u001b[39m n_theta \u001b[39m*\u001b[39m n_theta)\n\u001b[0;32m     20\u001b[0m     r \u001b[39m=\u001b[39m np\u001b[39m.\u001b[39mones_like(u)\n",
      "Cell \u001b[1;32mIn [11], line 9\u001b[0m, in \u001b[0;36mlaplacian_matrix\u001b[1;34m(n_r, n_theta)\u001b[0m\n\u001b[0;32m      7\u001b[0m dtheta \u001b[39m=\u001b[39m \u001b[39m2\u001b[39m \u001b[39m*\u001b[39m np\u001b[39m.\u001b[39mpi \u001b[39m/\u001b[39m n_theta\n\u001b[0;32m      8\u001b[0m r \u001b[39m=\u001b[39m np\u001b[39m.\u001b[39mlinspace(\u001b[39m0\u001b[39m, \u001b[39m1\u001b[39m, n_r\u001b[39m+\u001b[39m\u001b[39m1\u001b[39m)\n\u001b[1;32m----> 9\u001b[0m diag_values \u001b[39m=\u001b[39m np\u001b[39m.\u001b[39mones(n_r \u001b[39m*\u001b[39m n_theta) \u001b[39m/\u001b[39m (dr\u001b[39m*\u001b[39m\u001b[39m*\u001b[39m\u001b[39m2\u001b[39m) \u001b[39m+\u001b[39m np\u001b[39m.\u001b[39;49mones(n_r \u001b[39m*\u001b[39;49m n_theta) \u001b[39m/\u001b[39;49m (r[:\u001b[39m-\u001b[39;49m\u001b[39m1\u001b[39;49m] \u001b[39m*\u001b[39;49m dtheta\u001b[39m*\u001b[39;49m\u001b[39m*\u001b[39;49m\u001b[39m2\u001b[39;49m)\n\u001b[0;32m     10\u001b[0m off_diag_values \u001b[39m=\u001b[39m np\u001b[39m.\u001b[39mones(n_r \u001b[39m*\u001b[39m (n_theta\u001b[39m-\u001b[39m\u001b[39m1\u001b[39m)) \u001b[39m/\u001b[39m (\u001b[39m2.\u001b[39m \u001b[39m*\u001b[39m r[:\u001b[39m-\u001b[39m\u001b[39m1\u001b[39m] \u001b[39m*\u001b[39m dr)\n\u001b[0;32m     11\u001b[0m diagonals \u001b[39m=\u001b[39m [diag_values, \u001b[39m-\u001b[39m\u001b[39m0.5\u001b[39m \u001b[39m*\u001b[39m off_diag_values, \u001b[39m-\u001b[39m\u001b[39m0.5\u001b[39m \u001b[39m*\u001b[39m off_diag_values]\n",
      "\u001b[1;31mValueError\u001b[0m: operands could not be broadcast together with shapes (2500,) (50,) "
     ]
    }
   ],
   "source": [
    "import numpy as np\n",
    "from scipy.sparse import csr_matrix\n",
    "from scipy.sparse.linalg import spsolve\n",
    "\n",
    "def laplacian_matrix(n_r, n_theta):\n",
    "    dr = 1. / n_r\n",
    "    dtheta = 2 * np.pi / n_theta\n",
    "    r = np.linspace(0, 1, n_r+1)\n",
    "    diag_values = np.ones(n_r * n_theta) / (dr**2) + np.ones(n_r * n_theta) / (r[:-1] * dtheta**2)\n",
    "    off_diag_values = np.ones(n_r * (n_theta-1)) / (2. * r[:-1] * dr)\n",
    "    diagonals = [diag_values, -0.5 * off_diag_values, -0.5 * off_diag_values]\n",
    "    offsets = [0, n_theta, -n_theta]\n",
    "    A = sparse.diags(diagonals, offsets)\n",
    "    return A\n",
    "\n",
    "\n",
    "def solve_laplace(n_r, n_theta):\n",
    "    A = laplacian_matrix(n_r, n_theta)\n",
    "    u = np.zeros(n_r * n_theta * n_theta)\n",
    "    r = np.ones_like(u)\n",
    "    b = np.zeros_like(u)\n",
    "    b[0:n_theta] = 1.\n",
    "    u[:] = spsolve(A, b)\n",
    "    return u.reshape(n_theta, n_theta, n_r)\n",
    "\n",
    "n_r = 50\n",
    "n_theta = 50\n",
    "u = solve_laplace(n_r, n_theta)\n"
   ]
  },
  {
   "cell_type": "code",
   "execution_count": 12,
   "metadata": {},
   "outputs": [],
   "source": [
    "import numpy as np\n",
    "import matplotlib.pyplot as plt\n",
    "\n",
    "# Definimos la función f(u)\n",
    "def f(u):\n",
    "    return np.sin(u)\n",
    "\n",
    "# Definimos el operador Laplaciano\n",
    "def laplacian(u):\n",
    "    return np.gradient(np.gradient(u))[0]\n",
    "\n",
    "# Definimos el método de descenso gradiente\n",
    "def gradient_descent(u, f, alpha=0.01, epsilon=1e-6, max_iter=1000):\n",
    "    iteration = 0\n",
    "    while iteration < max_iter:\n",
    "        du = laplacian(u) - f(u)\n",
    "        u = u - alpha * du\n",
    "        norm = np.linalg.norm(du)\n",
    "        if norm < epsilon:\n",
    "            break\n",
    "        iteration += 1\n",
    "    return u\n",
    "\n",
    "# Definimos los tamaños del dominio y la malla\n",
    "nx, ny = 50, 50\n",
    "x = np.linspace(0, 1, nx)\n",
    "y = np.linspace(0, 1, ny)\n",
    "X, Y = np.meshgrid(x, y)\n",
    "\n",
    "# Definimos las condiciones de borde tipo Dirichlet\n",
    "u = np.zeros((nx, ny))\n",
    "u[0, :] = np.sin(2 * np.pi * x)\n",
    "u[-1, :] = np.sin(2 * np.pi * x)\n",
    "u[:, 0] = np.sin(2 * np.pi * y)\n",
    "u[:, -1] = np.sin(2 * np.pi * y)\n",
    "\n",
    "# Resolvemos el problema utilizando el método de descenso gradiente\n",
    "u = gradient_descent(u, f)\n",
    "\n",
    "# Graficamos la solución\n",
    "plt.imshow(u)\n",
    "plt.colorbar()\n",
    "plt.show()\n"
   ]
  },
  {
   "cell_type": "code",
   "execution_count": null,
   "metadata": {},
   "outputs": [],
   "source": []
  },
  {
   "cell_type": "code",
   "execution_count": null,
   "metadata": {},
   "outputs": [],
   "source": []
  },
  {
   "cell_type": "code",
   "execution_count": null,
   "metadata": {},
   "outputs": [],
   "source": []
  },
  {
   "cell_type": "code",
   "execution_count": null,
   "metadata": {},
   "outputs": [],
   "source": []
  },
  {
   "cell_type": "code",
   "execution_count": null,
   "metadata": {},
   "outputs": [],
   "source": [
    "import torch\n",
    "import matplotlib.pyplot as plt\n",
    "\n",
    "# Definimos la función f(u) = sin(u)\n",
    "def f(u):\n",
    "    return torch.sin(u)\n",
    "\n",
    "# Definimos el método de descenso gradiente\n",
    "def gradient_descent(u, f, alpha, epsilon, max_iter):\n",
    "    iteration = 0\n",
    "    while iteration < max_iter:\n",
    "        du = laplacian(u) - f(u)\n",
    "        u = u - alpha * du\n",
    "        norm = torch.norm(du)\n",
    "        iteration += 1\n",
    "        if norm < epsilon:\n",
    "            break\n",
    "    return u\n",
    "\n",
    "# Definimos el laplaciano\n",
    "def laplacian(u):\n",
    "    gradient = torch.autograd.grad(u.sum(), u, create_graph=True, retain_graph=True)[0]\n",
    "    return gradient[0, 1:-1, 1:-1] + gradient[0, :-2, 1:-1] + gradient[0, 2:, 1:-1] + gradient[0, 1:-1, :-2] + gradient[0, 1:-1, 2:]\n",
    "\n",
    "\n",
    "\n",
    "\n",
    "# Definimos el tamaño del dominio\n",
    "m, n = 100, 100\n",
    "\n",
    "# Definimos los puntos de malla\n",
    "x = torch.linspace(-1, 1, m)\n",
    "y = torch.linspace(-1, 1, n)\n",
    "X, Y = torch.meshgrid(x, y)\n",
    "\n",
    "# Definimos las condiciones iniciales\n",
    "U = torch.tensor(X**2 + Y**2, dtype=torch.float32, requires_grad=True)\n",
    "\n",
    "# Realizamos el descenso gradiente\n",
    "U = gradient_descent(U, f, alpha=0.1, epsilon=1e-6, max_iter=100)\n",
    "\n",
    "# Mostramos solo los bordes de la solución numérica\n",
    "plt.imshow(U[0, 0, :].detach().numpy(), cmap='hot', extent=[-1, 1, -1, 1])\n",
    "plt.imshow(U[0, -1, :].detach().numpy(), cmap='hot', extent=[-1, 1, -1, 1])\n",
    "plt.imshow(U[-1, 0, :].detach().numpy(), cmap='hot', extent=[-1, 1, -1, 1])\n",
    "plt.imshow(U[-1, -1, :].detach().numpy(), cmap='hot', extent=[-1, 1, -1, 1])\n",
    "plt.show()\n"
   ]
  }
 ],
 "metadata": {
  "kernelspec": {
   "display_name": "pytorch-C-DL",
   "language": "python",
   "name": "python3"
  },
  "language_info": {
   "codemirror_mode": {
    "name": "ipython",
    "version": 3
   },
   "file_extension": ".py",
   "mimetype": "text/x-python",
   "name": "python",
   "nbconvert_exporter": "python",
   "pygments_lexer": "ipython3",
   "version": "3.10.6"
  },
  "orig_nbformat": 4,
  "vscode": {
   "interpreter": {
    "hash": "85b52fbe45fd3d3f6426508f2b1ceb63e7294645d1a7097c9a6e2bd314b42ccf"
   }
  }
 },
 "nbformat": 4,
 "nbformat_minor": 2
}
