{
 "cells": [
  {
   "cell_type": "code",
   "execution_count": 1,
   "metadata": {},
   "outputs": [],
   "source": [
    "import warnings\n",
    "warnings.filterwarnings('ignore')"
   ]
  },
  {
   "cell_type": "code",
   "execution_count": 2,
   "metadata": {},
   "outputs": [],
   "source": [
    "import torch\n",
    "import matplotlib.pyplot as plt"
   ]
  },
  {
   "cell_type": "code",
   "execution_count": 3,
   "metadata": {},
   "outputs": [
    {
     "name": "stdout",
     "output_type": "stream",
     "text": [
      "Usaremos  cuda\n"
     ]
    }
   ],
   "source": [
    "import torch\n",
    "device = 'cuda' if torch.cuda.is_available() else 'cpu'\n",
    "print('Usaremos ',device)"
   ]
  },
  {
   "cell_type": "code",
   "execution_count": 4,
   "metadata": {},
   "outputs": [
    {
     "data": {
      "image/png": "[encoded data removed]",
      "text/plain": [
       "<Figure size 640x480 with 1 Axes>"
      ]
     },
     "metadata": {},
     "output_type": "display_data"
    }
   ],
   "source": [
    "def gradient_descent(u, f, alpha=0.01, epsilon=1e-6, max_iter=10000):\n",
    "    iteration = 0\n",
    "    while iteration < max_iter:\n",
    "        du = laplacian(u) - f(u)\n",
    "        u = u - alpha * du\n",
    "        norm = torch.norm(du)\n",
    "        if norm < epsilon:\n",
    "            break\n",
    "        iteration += 1\n",
    "    return u\n",
    "\n",
    "def laplacian(u):\n",
    "    lap = torch.zeros_like(u)\n",
    "    lap[1:-1, 1:-1] = (u[:-2, 1:-1] + u[2:, 1:-1] + u[1:-1, :-2] + u[1:-1, 2:] - 4 * u[1:-1, 1:-1]) / (dx**2)\n",
    "    return lap\n",
    "\n",
    "def f(u):\n",
    "    return torch.sin(u)\n",
    "\n",
    "# Definimos los límites del dominio\n",
    "x_min, x_max = -5, 5\n",
    "y_min, y_max = -5, 5\n",
    "\n",
    "# Definimos la malla\n",
    "nx, ny = 1000, 1000\n",
    "dx, dy = (x_max - x_min) / (nx - 1), (y_max - y_min) / (ny - 1)\n",
    "x = torch.linspace(x_min, x_max, nx)\n",
    "y = torch.linspace(y_min, y_max, ny)\n",
    "X, Y = torch.meshgrid(x, y)\n",
    "\n",
    "# Inicializamos la solución numérica\n",
    "U = torch.tensor(X**2 + Y**2, dtype=torch.float32, requires_grad=True)\n",
    "\n",
    "# Realizamos el descenso gradiente\n",
    "U = gradient_descent(U, f)\n",
    "\n",
    "# Mostramos la solución numérica\n",
    "plt.imshow(U.detach().numpy())\n",
    "plt.show()\n"
   ]
  },
  {
   "cell_type": "code",
   "execution_count": 5,
   "metadata": {},
   "outputs": [
    {
     "data": {
      "image/png": "[encoded data removed]",
      "text/plain": [
       "<Figure size 640x480 with 1 Axes>"
      ]
     },
     "metadata": {},
     "output_type": "display_data"
    }
   ],
   "source": [
    "import torch\n",
    "import matplotlib.pyplot as plt\n",
    "\n",
    "def gradient_descent(u, f, alpha=0.01, epsilon=1e-6, max_iter=10000):\n",
    "    device = u.device\n",
    "    iteration = 0\n",
    "    while iteration < max_iter:\n",
    "        du = laplacian(u).to(device) - f(u).to(device)\n",
    "        u = u - alpha * du\n",
    "        norm = torch.norm(du)\n",
    "        if norm < epsilon:\n",
    "            break\n",
    "        iteration += 1\n",
    "    return u\n",
    "\n",
    "def laplacian(u):\n",
    "    device = u.device\n",
    "    lap = torch.zeros_like(u, device=device)\n",
    "    lap[1:-1, 1:-1] = (u[:-2, 1:-1] + u[2:, 1:-1] + u[1:-1, :-2] + u[1:-1, 2:] - 4 * u[1:-1, 1:-1]) / (dx**2)\n",
    "    return lap\n",
    "\n",
    "def f(u):\n",
    "    device = u.device\n",
    "    return torch.sin(u).to(device)\n",
    "\n",
    "# Definimos los límites del dominio\n",
    "x_min, x_max = -5, 5\n",
    "y_min, y_max = -5, 5\n",
    "\n",
    "# Definimos la malla\n",
    "nx, ny = 100, 100\n",
    "dx, dy = (x_max - x_min) / (nx - 1), (y_max - y_min) / (ny - 1)\n",
    "x = torch.linspace(x_min, x_max, nx)\n",
    "y = torch.linspace(y_min, y_max, ny)\n",
    "X, Y = torch.meshgrid(x, y)\n",
    "\n",
    "# Inicializamos la solución numérica\n",
    "device = torch.device(\"cuda\" if torch.cuda.is_available() else \"cpu\")\n",
    "U = torch.tensor(X**2 + Y**2, dtype=torch.float32, device=device, requires_grad=True)\n",
    "\n",
    "# Realizamos el descenso gradiente\n",
    "U = gradient_descent(U, f)\n",
    "\n",
    "# Movemos el resultado a la CPU para su visualización\n",
    "plt.imshow(U.detach().cpu().numpy())\n",
    "plt.show()\n"
   ]
  },
  {
   "cell_type": "code",
   "execution_count": null,
   "metadata": {},
   "outputs": [],
   "source": []
  }
 ],
 "metadata": {
  "kernelspec": {
   "display_name": "pytorch-C-DL",
   "language": "python",
   "name": "python3"
  },
  "language_info": {
   "codemirror_mode": {
    "name": "ipython",
    "version": 3
   },
   "file_extension": ".py",
   "mimetype": "text/x-python",
   "name": "python",
   "nbconvert_exporter": "python",
   "pygments_lexer": "ipython3",
   "version": "3.10.6"
  },
  "orig_nbformat": 4,
  "vscode": {
   "interpreter": {
    "hash": "85b52fbe45fd3d3f6426508f2b1ceb63e7294645d1a7097c9a6e2bd314b42ccf"
   }
  }
 },
 "nbformat": 4,
 "nbformat_minor": 2
}
