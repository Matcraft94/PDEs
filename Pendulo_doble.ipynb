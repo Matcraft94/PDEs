{
 "cells": [
  {
   "cell_type": "markdown",
   "metadata": {},
   "source": [
    "# Pendulo doble"
   ]
  },
  {
   "cell_type": "code",
   "execution_count": 1,
   "metadata": {},
   "outputs": [],
   "source": [
    "from scipy.integrate import odeint \n",
    "\n",
    "import time\n",
    "\n",
    "import math\n",
    "\n",
    "import numpy as np\n",
    "\n",
    "import pylab as py"
   ]
  },
  {
   "cell_type": "code",
   "execution_count": 2,
   "metadata": {},
   "outputs": [],
   "source": [
    "#import matplotlib.pyplot as plt\n",
    "\n",
    "from matplotlib import animation, rc\n",
    "from IPython.display import HTML\n",
    "from matplotlib import pyplot as plt"
   ]
  },
  {
   "cell_type": "markdown",
   "metadata": {},
   "source": [
    "Definamos constantes necesarias apra el problema"
   ]
  },
  {
   "cell_type": "code",
   "execution_count": 3,
   "metadata": {},
   "outputs": [],
   "source": [
    "m1 = 2                 # masa del pendulo 1(kg)\n",
    "m2 = 1                 # masa del pendulo 2 (kg)\n",
    "L1 = 1.4               # longitud del pendulo 1(m)\n",
    "L2 = 1                 # longitud del pendulo 2(m)\n",
    "g = 9.8                # constante de aceleracion gravitacional(m/s^2)"
   ]
  },
  {
   "cell_type": "code",
   "execution_count": 4,
   "metadata": {},
   "outputs": [],
   "source": [
    "u0 = [-np.pi/2.2, 0, np.pi/1.8, 0]    # condiciones iniciales\n",
    "# u[0] = angulo del primer pendulo\n",
    "# u[1] = velocidad angular del primer pendulo\n",
    "# u[2] = angulo del segundo pendulo\n",
    "# u[3] = velocidad angular del segundo pendulo"
   ]
  },
  {
   "cell_type": "code",
   "execution_count": 5,
   "metadata": {},
   "outputs": [],
   "source": [
    "tfinal = 25.0       # Tiempo Final\n",
    "Nt = 751            # pasos\n",
    "t = np.linspace(0, tfinal, Nt)"
   ]
  },
  {
   "cell_type": "code",
   "execution_count": 6,
   "metadata": {},
   "outputs": [],
   "source": [
    "# Sistema de edos que describen el problema\n",
    "def double_pendulum(u,t,m1,m2,L1,L2,g):\n",
    "    '''\n",
    "    du = derivadas\n",
    "    u = variables\n",
    "    p = parameteros\n",
    "    t = varaible temporal\n",
    "    '''\n",
    "\n",
    "    du = np.zeros(4)\n",
    "  \n",
    "    \n",
    "    c = np.cos(u[0]-u[2])  # variables intermedias\n",
    "    s = np.sin(u[0]-u[2])  # variables intermedias\n",
    "\n",
    "    \n",
    "    du[0] = u[1]   # d(theta 1)\n",
    "    du[1] = ( m2*g*np.sin(u[2])*c - m2*s*(L1*c*u[1]**2 + L2*u[3]**2) - (m1+m2)*g*np.sin(u[0]) ) /( L1 *(m1+m2*s**2) )\n",
    "    du[2] = u[3]   # d(theta 2)   \n",
    "    du[3] = ((m1+m2)*(L1*u[1]**2*s - g*np.sin(u[2]) + g*np.sin(u[0])*c) + m2*L2*u[3]**2*s*c) / (L2 * (m1 + m2*s**2))\n",
    "    \n",
    "    return du"
   ]
  },
  {
   "cell_type": "code",
   "execution_count": 7,
   "metadata": {},
   "outputs": [],
   "source": [
    "sol = odeint(double_pendulum, u0, t, args=(m1,m2,L1,L2,g))"
   ]
  },
  {
   "cell_type": "code",
   "execution_count": 8,
   "metadata": {},
   "outputs": [],
   "source": [
    "#sol[:,0] = u1 = Θ_1\n",
    "#sol[:,1] = u2 = ω_1\n",
    "#sol[:,2] = u3 = Θ_2\n",
    "#sol[:,3] = u4 = ω_2\n",
    "u0 = sol[:,0]     # theta_1 \n",
    "u1 = sol[:,1]     # omega 1\n",
    "u2 = sol[:,2]     # theta_2 \n",
    "u3 = sol[:,3]     # omega_2 "
   ]
  },
  {
   "cell_type": "code",
   "execution_count": 9,
   "metadata": {},
   "outputs": [],
   "source": [
    "# Grafico de coordenadas Polares a Cartesianas\n",
    "x1 = L1*np.sin(u0)          # primer pendulo\n",
    "y1 = -L1*np.cos(u0)\n",
    "\n",
    "x2 = x1 + L2*np.sin(u2)     # segundo pendulo\n",
    "y2 = y1 - L2*np.cos(u2)"
   ]
  },
  {
   "cell_type": "code",
   "execution_count": 10,
   "metadata": {},
   "outputs": [],
   "source": [
    "# initialization function: plot the background of each frame\n",
    "def init():\n",
    "    line1.set_data([], [])\n",
    "    line2.set_data([], [])\n",
    "    line3.set_data([], [])\n",
    "    line4.set_data([], [])\n",
    "    line5.set_data([], [])\n",
    "    time_string.set_text('')\n",
    "\n",
    "    \n",
    "    return  line3,line4, line5, line1, line2, time_string"
   ]
  },
  {
   "cell_type": "code",
   "execution_count": 11,
   "metadata": {},
   "outputs": [],
   "source": [
    "# animation function.  This is called sequentially\n",
    "def animate(i):\n",
    "    # Motion trail sizes. Defined in terms of indices. Length will vary with the time step, dt. E.g. 5 indices will span a lower distance if the time step is reduced.\n",
    "    trail1 = 6              # length of motion trail of weight 1 \n",
    "    trail2 = 8              # length of motion trail of weight 2\n",
    "    \n",
    "    dt = t[2]-t[1]          # time step\n",
    "    \n",
    "    line1.set_data(x1[i:max(1,i-trail1):-1], y1[i:max(1,i-trail1):-1])   # marker + line of first weight\n",
    "    line2.set_data(x2[i:max(1,i-trail2):-1], y2[i:max(1,i-trail2):-1])   # marker + line of the second weight\n",
    "    \n",
    "    line3.set_data([x1[i], x2[i]], [y1[i], y2[i]])       # line connecting weight 2 to weight 1\n",
    "    line4.set_data([x1[i], 0], [y1[i],0])                # line connecting origin to weight 1\n",
    "    \n",
    "    line5.set_data([0, 0], [0, 0])\n",
    "    time_string.set_text(time_template % (i*dt))\n",
    "    return  line3, line4,line5,line1, line2, time_string\n"
   ]
  },
  {
   "cell_type": "code",
   "execution_count": 12,
   "metadata": {},
   "outputs": [
    {
     "data": {
      "image/png": "[encoded data removed]",
      "text/plain": [
       "<Figure size 432x288 with 1 Axes>"
      ]
     },
     "metadata": {
      "needs_background": "light"
     },
     "output_type": "display_data"
    },
    {
     "data": {
      "image/png": "[encoded data removed]",
      "text/plain": [
       "<Figure size 432x288 with 1 Axes>"
      ]
     },
     "metadata": {},
     "output_type": "display_data"
    }
   ],
   "source": [
    "py.close('all')\n",
    "\n",
    "py.figure(1)\n",
    "#py.plot(t,x1)\n",
    "#py.plot(t,y1)\n",
    "py.plot(x1,y1,'.',color = '#0077BE',label = 'mass 1')\n",
    "py.plot(x2,y2,'.',color = '#f66338',label = 'mass 2' )\n",
    "py.legend()\n",
    "py.xlabel('x (m)')\n",
    "py.ylabel('y (m)')\n",
    "\n",
    "#py.figure(2)\n",
    "#py.plot(t,x2)\n",
    "#py.plot(t,y2)\n",
    "\n",
    "fig = plt.figure()\n",
    "ax = plt.axes(xlim=(-L1-L2-0.5, L1+L2+0.5), ylim=(-2.5, 1.5))\n",
    "#line, = ax.plot([], [], lw=2,,markersize = 9, markerfacecolor = \"#FDB813\",markeredgecolor =\"#FD7813\")\n",
    "line1, = ax.plot([], [], 'o-',color = '#d2eeff',markersize = 12, markerfacecolor = '#0077BE',lw=2, markevery=10000, markeredgecolor = 'k')   # line for Earth\n",
    "line2, = ax.plot([], [], 'o-',color = '#ffebd8',markersize = 12, markerfacecolor = '#f66338',lw=2, markevery=10000, markeredgecolor = 'k')   # line for Jupiter\n",
    "line3, = ax.plot([], [], color='k', linestyle='-', linewidth=2)\n",
    "line4, = ax.plot([], [], color='k', linestyle='-', linewidth=2)\n",
    "line5, = ax.plot([], [], 'o', color='k', markersize = 10)\n",
    "time_template = 'Time = %.1f s'\n",
    "time_string = ax.text(0.05, 0.9, '', transform=ax.transAxes)\n",
    "\n",
    "ax.get_xaxis().set_ticks([])    # enable this to hide x axis ticks\n",
    "ax.get_yaxis().set_ticks([])    # enable this to hide y axis ticks\n",
    "\n",
    "anim = animation.FuncAnimation(fig, animate, init_func=init, frames=Nt, interval=1000*(t[2]-t[1])*0.8, blit=True)\n",
    "\n",
    "#anim.save('double_pendulum_animation.mp4', fps=30, extra_args=['-vcodec', 'libx264'])\n",
    "#anim.save('double_pendulum_animation.gif', fps=1.0/(t[2]-t[1]), writer = 'imagemagick')\n",
    "\n",
    "plt.show()"
   ]
  },
  {
   "cell_type": "code",
   "execution_count": null,
   "metadata": {},
   "outputs": [],
   "source": []
  }
 ],
 "metadata": {
  "kernelspec": {
   "display_name": "Python 3.8.10 64-bit",
   "language": "python",
   "name": "python3"
  },
  "language_info": {
   "codemirror_mode": {
    "name": "ipython",
    "version": 3
   },
   "file_extension": ".py",
   "mimetype": "text/x-python",
   "name": "python",
   "nbconvert_exporter": "python",
   "pygments_lexer": "ipython3",
   "version": "3.8.10"
  },
  "orig_nbformat": 4,
  "vscode": {
   "interpreter": {
    "hash": "916dbcbb3f70747c44a77c7bcd40155683ae19c65e1c03b4aa3499c5328201f1"
   }
  }
 },
 "nbformat": 4,
 "nbformat_minor": 2
}
