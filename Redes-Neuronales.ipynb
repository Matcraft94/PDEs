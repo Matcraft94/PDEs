{
 "cells": [
  {
   "cell_type": "markdown",
   "metadata": {},
   "source": [
    "# Redes Neuronales (pure Pyhton)"
   ]
  },
  {
   "cell_type": "code",
   "execution_count": 1,
   "metadata": {},
   "outputs": [],
   "source": [
    "import numpy as np\n",
    "\n",
    "import matplotlib.pyplot as plt\n",
    "import matplotlib\n",
    "matplotlib.rcParams['figure.dpi'] = 300"
   ]
  },
  {
   "cell_type": "markdown",
   "metadata": {},
   "source": [
    "## Una Red Neuronal Simple (sin capas ocultas)\n",
    "\n",
    "Una red neuronal con $N_0$ neuronas de entrada y $N_1$ neuronas de salida (sin capas ocultas)\n",
    "$$ y_j^{\\text{out}}=f\\left(\\sum_{k}w_{jk}y_k^{\\text{in}}+b_j\\right)$$\n",
    "donde $w$ es la matriz de prdod, $b$ es el vector bias, y $f$ es una funcion de activacion."
   ]
  },
  {
   "cell_type": "code",
   "execution_count": 2,
   "metadata": {},
   "outputs": [],
   "source": [
    "N0 = 3  # tamano de la capa de entrada\n",
    "N1 = 2  # tamano de la capa de salida\n",
    "\n",
    "# Inicializamos peso aleatorios: un array N0 x N1\n",
    "w = np.random.uniform(low = -1, high = +1, size=(N0, N1))\n",
    "\n",
    "# Inicializamos biases alaetorios: vector N1\n",
    "b = np.random.uniform(low = -1, high = +1, size = N1)"
   ]
  },
  {
   "cell_type": "code",
   "execution_count": 10,
   "metadata": {},
   "outputs": [],
   "source": [
    "# Valores de entrada\n",
    "y_in= np.array([0.1 , 0.5, -0.2])"
   ]
  },
  {
   "cell_type": "code",
   "execution_count": 15,
   "metadata": {},
   "outputs": [],
   "source": [
    "# evaluamos la red neuronal a mano, en dos pasos\n",
    "z = np.dot(y_in, w) + b # resultado: el vector de valores 'z', de lpongitud N1\n",
    "y_out = 1/(1+np.exp(-z)) # la funcion sigmoide (aplicada a cada elemento)"
   ]
  },
  {
   "cell_type": "code",
   "execution_count": 16,
   "metadata": {},
   "outputs": [
    {
     "name": "stdout",
     "output_type": "stream",
     "text": [
      "entrada de la red neuronal y_in: [ 0.1  0.5 -0.2]\n",
      "pesos w: [[-0.22558775 -0.02249746]\n",
      " [-0.53728058  0.53608252]\n",
      " [-0.6770265  -0.81065247]]\n",
      "vector bias b: [0.39496003 0.81359627]\n",
      "superposicion lineal z: [0.23916626 1.24151828]\n",
      "salida de la red neuronal y_out: [0.55950818 0.77582818]\n"
     ]
    }
   ],
   "source": [
    "print(\"entrada de la red neuronal y_in:\", y_in)\n",
    "print(\"pesos w:\", w)\n",
    "print(\"vector bias b:\", b)\n",
    "print(\"superposicion lineal z:\", z)\n",
    "print(\"salida de la red neuronal y_out:\", y_out)"
   ]
  },
  {
   "cell_type": "markdown",
   "metadata": {},
   "source": [
    "## Veamos el resultado de la Red Neuronal\n",
    "\n",
    "Definamos una funcion que evalua la red y muestra la salida para varias entradas:"
   ]
  },
  {
   "cell_type": "code",
   "execution_count": 33,
   "metadata": {},
   "outputs": [],
   "source": [
    "# funcion que alpica la red neuronal\n",
    "def apply_simple_net(y_in):\n",
    "    global w, b\n",
    "    z = np.dot(y_in, w) + b  \n",
    "    return (1/(1 + np.exp(-z)))"
   ]
  },
  {
   "cell_type": "code",
   "execution_count": 34,
   "metadata": {},
   "outputs": [],
   "source": [
    "N0 = 2 # tamano de la capa de entrada\n",
    "N1 = 1 # tamano de la capa de salida\n",
    "\n",
    "w = np.random.uniform(low = -10, high = +10, size = (N0, N1)) # pesos aleatorios: N1 x N0\n",
    "b = np.random.uniform(low = -1, high = +1, size = N1) # biases: vector N1"
   ]
  },
  {
   "cell_type": "code",
   "execution_count": 35,
   "metadata": {},
   "outputs": [
    {
     "data": {
      "text/plain": [
       "array([0.36684508])"
      ]
     },
     "execution_count": 35,
     "metadata": {},
     "output_type": "execute_result"
    }
   ],
   "source": [
    "apply_simple_net([0.5, 0.2]) # una prueba simple"
   ]
  },
  {
   "cell_type": "markdown",
   "metadata": {},
   "source": [
    "Este es un metodo simple apra ahcerlo, sin embargo no es eficiente. Despues haremos uso de una sintaxis de arrays eficiente."
   ]
  },
  {
   "cell_type": "code",
   "execution_count": 36,
   "metadata": {},
   "outputs": [],
   "source": [
    "M = 50 # tamano de l aimagen M x M\n",
    "y_out = np.zeros([M,M]) # array M x M, para guardar el resultado"
   ]
  },
  {
   "cell_type": "code",
   "execution_count": 38,
   "metadata": {},
   "outputs": [],
   "source": [
    "for j1 in range(M):\n",
    "    for j2 in range(M):\n",
    "        # out of these integer indices, generate\n",
    "        # two values in the range -0.5...0.5\n",
    "        # and then apply the network to those two\n",
    "        # input values\n",
    "        value0 = float(j1) / M - 0.5\n",
    "        value1 = float(j2) / M - 0.5\n",
    "        y_out[j1,j2] = apply_simple_net([value0,value1])[0]"
   ]
  },
  {
   "cell_type": "code",
   "execution_count": 39,
   "metadata": {},
   "outputs": [
    {
     "data": {
      "image/png": "[encoded data removed]",
      "text/plain": [
       "<Figure size 432x288 with 2 Axes>"
      ]
     },
     "metadata": {
      "needs_background": "light"
     },
     "output_type": "display_data"
    }
   ],
   "source": [
    "# Mostramos la imagen\n",
    "plt.imshow(y_out, origin = 'lower', extent = (-0.5, 0.5, -0.5, 0.5))\n",
    "plt.colorbar()\n",
    "plt.title(\"Salida de la Red Neuronal como una funcion de valores de entrada\")\n",
    "plt.xlabel(\"y_2\")\n",
    "plt.ylabel(\"y_1\")\n",
    "plt.show()"
   ]
  },
  {
   "cell_type": "markdown",
   "metadata": {},
   "source": [
    "## Red Neuronal con  una capa oculta\n",
    "\n",
    "La idea aquí es tener múltiples matrices de peso (para cada par de capas subsiguientes hay una matriz de peso). La función que \"aplica una capa\", es decir, va de una capa a la siguiente, es esencialmente la misma que la función que evalúa la red simple anterior."
   ]
  },
  {
   "cell_type": "code",
   "execution_count": 41,
   "metadata": {},
   "outputs": [],
   "source": [
    "# una funcion que evalua una capa basada en los valores de una neurona en la capa anterior\n",
    "def apply_layer(y_in,w,b): \n",
    "    z = np.dot(w,y_in) + b\n",
    "    return(1/(1 + np.exp(-z)))"
   ]
  },
  {
   "cell_type": "code",
   "execution_count": 42,
   "metadata": {},
   "outputs": [],
   "source": [
    "\n",
    "N0 = 2 # tamano de la capa de entrada\n",
    "N1 = 30 # tamano de la capa oculta\n",
    "N2 = 1 # tamano de la capa de salida"
   ]
  },
  {
   "cell_type": "code",
   "execution_count": 43,
   "metadata": {},
   "outputs": [],
   "source": [
    "# pesos y biases de la cada de entrada a la capa oculta\n",
    "w1 = np.random.uniform(low = -10, high = +10, size = (N1, N0)) # pesos aleatorios: N1 x N0\n",
    "b1 = np.random.uniform(low = -1, high = +1, size = N1) # biases: vector N1\n",
    "\n"
   ]
  },
  {
   "cell_type": "code",
   "execution_count": 45,
   "metadata": {},
   "outputs": [],
   "source": [
    "# pesos y biases de la capa oculta a la capa de salida\n",
    "w2 = np.random.uniform(low = -10, high = +10, size = (N2, N1)) # pesos aleatoreos\n",
    "b2 = np.random.uniform(low = -1, high = +1, size = N2) # biases"
   ]
  },
  {
   "cell_type": "code",
   "execution_count": 46,
   "metadata": {},
   "outputs": [],
   "source": [
    "# Evalua la red neuronal por subsecuencia\n",
    "# evaluacion en dos pasos (entrada a oculta y oculta a salida)\n",
    "def apply_net(y_in):\n",
    "    global w1,b1,w2,b2\n",
    "    \n",
    "    y1=apply_layer(y_in,w1,b1)\n",
    "    y2=apply_layer(y1,w2,b2)\n",
    "    return(y2)"
   ]
  },
  {
   "cell_type": "markdown",
   "metadata": {},
   "source": [
    "Esta no es la manera mas eficiente, pero funciona y es simple."
   ]
  },
  {
   "cell_type": "code",
   "execution_count": 48,
   "metadata": {},
   "outputs": [],
   "source": [
    "# Obtenemos los valores para los rangos de las entradas\n",
    "M = 50 # crea una imgaden de tamano M x M\n",
    "y_out = np.zeros([M, M]) # array M x M, para gaurdar los resultados"
   ]
  },
  {
   "cell_type": "code",
   "execution_count": 49,
   "metadata": {},
   "outputs": [],
   "source": [
    "for j1 in range(M):\n",
    "    for j2 in range(M):\n",
    "        value0=float(j1) / M - 0.5\n",
    "        value1=float(j2) / M - 0.5\n",
    "        y_out[j1, j2] = apply_net([value0, value1])[0]"
   ]
  },
  {
   "cell_type": "code",
   "execution_count": 50,
   "metadata": {},
   "outputs": [
    {
     "data": {
      "image/png": "[encoded data removed]",
      "text/plain": [
       "<Figure size 432x288 with 2 Axes>"
      ]
     },
     "metadata": {
      "needs_background": "light"
     },
     "output_type": "display_data"
    }
   ],
   "source": [
    "# mostramos la imagen\n",
    "plt.imshow(y_out, origin = 'lower', extent = (-0.5, 0.5, -0.5, 0.5))\n",
    "plt.colorbar()\n",
    "plt.title(\"Salida de la Red Neuronal como una funcion de valores de entrada\")\n",
    "plt.xlabel(\"y_2\")\n",
    "plt.ylabel(\"y_1\")\n",
    "plt.show()"
   ]
  },
  {
   "cell_type": "markdown",
   "metadata": {},
   "source": [
    "La forma de la salida ya es más 'compleja' que la de una red simple sin capa oculta.\n",
    "\n",
    "Vayamos más allá en esa dirección..."
   ]
  },
  {
   "cell_type": "markdown",
   "metadata": {},
   "source": [
    "## Aplicar una red a un 'batch' de muestras (trucos de Python)\n",
    "\n",
    "La idea es aplicar la red neuronal a muchas muestras en paralelo (no lazos for).\n",
    "\n",
    "### Pequeno experimento: multiplicación de vector-matriz"
   ]
  },
  {
   "cell_type": "code",
   "execution_count": 52,
   "metadata": {},
   "outputs": [
    {
     "data": {
      "text/plain": [
       "(7, 30)"
      ]
     },
     "execution_count": 52,
     "metadata": {},
     "output_type": "execute_result"
    }
   ],
   "source": [
    "# Veamos que hace el producto dot: \n",
    "W = np.zeros([7, 8])\n",
    "y = np.zeros([8, 30]) \n",
    "# here '30' would stand for the number of samples\n",
    "# in our envisaged network applications\n",
    "np.shape(np.dot(W, y))"
   ]
  },
  {
   "cell_type": "code",
   "execution_count": 54,
   "metadata": {},
   "outputs": [
    {
     "ename": "ValueError",
     "evalue": "operands could not be broadcast together with shapes (7,30) (7,) ",
     "output_type": "error",
     "traceback": [
      "\u001b[0;31m---------------------------------------------------------------------------\u001b[0m",
      "\u001b[0;31mValueError\u001b[0m                                Traceback (most recent call last)",
      "\u001b[1;32m/mnt/c/Users/MSI Gf65/Documents/GitHub/PDEs/Redes-Neuronales.ipynb Cell 29'\u001b[0m in \u001b[0;36m<cell line: 4>\u001b[0;34m()\u001b[0m\n\u001b[1;32m      <a href='vscode-notebook-cell://wsl%2Bubuntu/mnt/c/Users/MSI%20Gf65/Documents/GitHub/PDEs/Redes-Neuronales.ipynb#ch0000041vscode-remote?line=0'>1</a>\u001b[0m \u001b[39m# now try to add the bias vector entries,\u001b[39;00m\n\u001b[1;32m      <a href='vscode-notebook-cell://wsl%2Bubuntu/mnt/c/Users/MSI%20Gf65/Documents/GitHub/PDEs/Redes-Neuronales.ipynb#ch0000041vscode-remote?line=1'>2</a>\u001b[0m \u001b[39m# in the most naive way (beware!)\u001b[39;00m\n\u001b[1;32m      <a href='vscode-notebook-cell://wsl%2Bubuntu/mnt/c/Users/MSI%20Gf65/Documents/GitHub/PDEs/Redes-Neuronales.ipynb#ch0000041vscode-remote?line=2'>3</a>\u001b[0m B \u001b[39m=\u001b[39m np\u001b[39m.\u001b[39mzeros(\u001b[39m7\u001b[39m)\n\u001b[0;32m----> <a href='vscode-notebook-cell://wsl%2Bubuntu/mnt/c/Users/MSI%20Gf65/Documents/GitHub/PDEs/Redes-Neuronales.ipynb#ch0000041vscode-remote?line=3'>4</a>\u001b[0m result \u001b[39m=\u001b[39m np\u001b[39m.\u001b[39;49mdot(W, y) \u001b[39m+\u001b[39;49m B\n",
      "\u001b[0;31mValueError\u001b[0m: operands could not be broadcast together with shapes (7,30) (7,) "
     ]
    }
   ],
   "source": [
    "# ahora tratemos de anadir al vector bias,\n",
    "B = np.zeros(7)\n",
    "result = np.dot(W, y) + B # Producira un error"
   ]
  },
  {
   "cell_type": "code",
   "execution_count": 55,
   "metadata": {},
   "outputs": [
    {
     "data": {
      "text/plain": [
       "(30, 7)"
      ]
     },
     "execution_count": 55,
     "metadata": {},
     "output_type": "execute_result"
    }
   ],
   "source": [
    "# Reordenando lso indices hace que funcione\n",
    "y = np.zeros([30, 8])\n",
    "W = np.zeros([8, 7])\n",
    "np.shape(np.dot(y, W))"
   ]
  },
  {
   "cell_type": "code",
   "execution_count": 56,
   "metadata": {},
   "outputs": [
    {
     "data": {
      "text/plain": [
       "(30, 7)"
      ]
     },
     "execution_count": 56,
     "metadata": {},
     "output_type": "execute_result"
    }
   ],
   "source": [
    "# y ahora tratemos de nuevo anadir el vector bias,\n",
    "B = np.zeros(7)\n",
    "result = np.dot(y, W) + B \n",
    "np.shape(result)"
   ]
  },
  {
   "cell_type": "markdown",
   "metadata": {},
   "source": [
    "### Definamos funciones que evaluen la capa y evalue la red neuronal, con proceso de lotes\n",
    "\n",
    "Configuraion para procesamiento por lotes, es decir, evaluación paralela de muchas muestras de entrada."
   ]
  },
  {
   "cell_type": "code",
   "execution_count": 57,
   "metadata": {},
   "outputs": [],
   "source": [
    "# una funcion que aplica una capa\n",
    "def apply_layer_new(y_in,w,b):\n",
    "    z = np.dot(y_in, w) + b # notemos el orden diferente en la matriz producto\n",
    "    return(1/(1 + np.exp(-z)))"
   ]
  },
  {
   "cell_type": "code",
   "execution_count": 58,
   "metadata": {},
   "outputs": [],
   "source": [
    "# como la anterior, pero con una nueva capa\n",
    "def apply_net_new(y_in):\n",
    "    global w1,b1,w2,b2\n",
    "    \n",
    "    y1 = apply_layer_new(y_in, w1, b1)\n",
    "    y2 = apply_layer_new(y1, w2, b2)\n",
    "    return(y2)"
   ]
  },
  {
   "cell_type": "code",
   "execution_count": 59,
   "metadata": {},
   "outputs": [],
   "source": [
    "N0 = 2 # tamano de la cada de entrada\n",
    "N1 = 5 # tamano de la cada oculta\n",
    "N2 = 1 #  tamano de la cada de salida"
   ]
  },
  {
   "cell_type": "code",
   "execution_count": 60,
   "metadata": {},
   "outputs": [],
   "source": [
    "# de la capa de entrada a la capa oculta\n",
    "w1 = np.random.uniform(low = -10, high = +10, size = (N0, N1)) # nueva ordn N0 x N1\n",
    "b1 = np.random.uniform(low = -1, high = +1, size = N1) # biases: N1 vector"
   ]
  },
  {
   "cell_type": "code",
   "execution_count": 61,
   "metadata": {},
   "outputs": [],
   "source": [
    "# de la capa oculta a la capa de salida\n",
    "w2 = np.random.uniform(low = -10, high = +10, size = (N1, N2)) # nueva orden N1 x N2\n",
    "b2 = np.random.uniform(low = -1, high = +1, size = N2) # biases"
   ]
  },
  {
   "cell_type": "code",
   "execution_count": 62,
   "metadata": {},
   "outputs": [],
   "source": [
    "batchsize = 10000\n",
    "y = np.random.uniform(low = -1, high = 1, size = (batchsize, 2))"
   ]
  },
  {
   "cell_type": "code",
   "execution_count": 63,
   "metadata": {},
   "outputs": [],
   "source": [
    "y_out=apply_net_new(y)"
   ]
  },
  {
   "cell_type": "code",
   "execution_count": 64,
   "metadata": {},
   "outputs": [
    {
     "data": {
      "text/plain": [
       "(10000, 1)"
      ]
     },
     "execution_count": 64,
     "metadata": {},
     "output_type": "execute_result"
    }
   ],
   "source": [
    "np.shape(y_out) \n",
    "# estas son 10000 muestras evalaudas en paralelo"
   ]
  },
  {
   "cell_type": "code",
   "execution_count": null,
   "metadata": {},
   "outputs": [],
   "source": []
  }
 ],
 "metadata": {
  "kernelspec": {
   "display_name": "Python 3.8.10 64-bit",
   "language": "python",
   "name": "python3"
  },
  "language_info": {
   "codemirror_mode": {
    "name": "ipython",
    "version": 3
   },
   "file_extension": ".py",
   "mimetype": "text/x-python",
   "name": "python",
   "nbconvert_exporter": "python",
   "pygments_lexer": "ipython3",
   "version": "3.8.10"
  },
  "orig_nbformat": 4,
  "vscode": {
   "interpreter": {
    "hash": "916dbcbb3f70747c44a77c7bcd40155683ae19c65e1c03b4aa3499c5328201f1"
   }
  }
 },
 "nbformat": 4,
 "nbformat_minor": 2
}
