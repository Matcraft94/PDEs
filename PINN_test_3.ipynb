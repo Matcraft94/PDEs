{
 "cells": [
  {
   "cell_type": "code",
   "execution_count": null,
   "metadata": {},
   "outputs": [],
   "source": []
  },
  {
   "cell_type": "code",
   "execution_count": null,
   "metadata": {},
   "outputs": [],
   "source": []
  },
  {
   "attachments": {},
   "cell_type": "markdown",
   "metadata": {},
   "source": [
    "## PASO 1: Importar librerías y configurar el dispositivo"
   ]
  },
  {
   "cell_type": "code",
   "execution_count": 1,
   "metadata": {},
   "outputs": [],
   "source": [
    "import torch\n",
    "import numpy as np\n",
    "import matplotlib.pyplot as plt\n",
    "from matplotlib.animation import FuncAnimation\n",
    "import os"
   ]
  },
  {
   "cell_type": "code",
   "execution_count": 2,
   "metadata": {},
   "outputs": [],
   "source": [
    "device = torch.device('cuda' if torch.cuda.is_available() else 'cpu')"
   ]
  },
  {
   "cell_type": "code",
   "execution_count": 3,
   "metadata": {},
   "outputs": [],
   "source": [
    "# Parámetros\n",
    "nx = ny = 50   # Número de puntos de malla en x e y\n",
    "n_hidden = 20  # Tamaño de la capa oculta\n",
    "n_layers = 3   # Número de capas ocultas\n",
    "n_epochs = 10000  # Número de épocas de entrenamiento\n",
    "batch_size = 100   # Tamaño del mini-lote"
   ]
  },
  {
   "attachments": {},
   "cell_type": "markdown",
   "metadata": {},
   "source": [
    "## PASO 2: Definir la condición inicial y la solución exacta"
   ]
  },
  {
   "cell_type": "code",
   "execution_count": 4,
   "metadata": {},
   "outputs": [],
   "source": [
    "# # Definir la condición inicial gaussiana\n",
    "# def gaussian(x, y, x0, y0, sigma):\n",
    "#     return np.exp(-((x - x0)**2 + (y - y0)**2)/(2*sigma**2))\n",
    "def gaussian(x, y, x0, y0, sigma):\n",
    "    return torch.exp(-((x - x0)**2 + (y - y0)**2)/(2*sigma**2))"
   ]
  },
  {
   "cell_type": "code",
   "execution_count": 5,
   "metadata": {},
   "outputs": [],
   "source": [
    "x = np.linspace(0, 1, nx)\n",
    "y = np.linspace(0, 1, ny)\n",
    "X, Y = np.meshgrid(x, y)"
   ]
  },
  {
   "cell_type": "code",
   "execution_count": 6,
   "metadata": {},
   "outputs": [],
   "source": [
    "# Parámetros de la condición inicial gaussiana\n",
    "x0, y0 = 0.5, 0.5\n",
    "sigma = 0.1\n",
    "\n",
    "# u_init = gaussian(X, Y, x0, y0, sigma)"
   ]
  },
  {
   "cell_type": "code",
   "execution_count": 7,
   "metadata": {},
   "outputs": [],
   "source": [
    "# Definir la solución exacta de la ecuación de calor en dos dimensiones\n",
    "def exact_solution(x, y, t):\n",
    "    # return torch.exp(-2*t)*gaussian(x, y, x0, y0, np.sqrt(sigma**2 + 4*t))\n",
    "    return torch.from_numpy(np.exp(-2*t))*gaussian(x, y, x0, y0, np.sqrt(sigma**2 + 4*t))"
   ]
  },
  {
   "attachments": {},
   "cell_type": "markdown",
   "metadata": {},
   "source": [
    "## PASO 3: Definir la ecuación de calor y las funciones de pérdida"
   ]
  },
  {
   "cell_type": "code",
   "execution_count": 8,
   "metadata": {},
   "outputs": [],
   "source": [
    "# Definir la ecuación de calor en dos dimensiones\n",
    "def f(x, y, t, u):\n",
    "    # Derivadas parciales de u\n",
    "    ux = torch.autograd.grad(u, x, torch.ones_like(u), create_graph=True)[0]\n",
    "    uxx = torch.autograd.grad(ux, x, torch.ones_like(u), create_graph=True)[0]\n",
    "    uy = torch.autograd.grad(u, y, torch.ones_like(u), create_graph=True)[0]\n",
    "    uyy = torch.autograd.grad(u, y, torch.ones_like(u), create_graph=True)[0]\n",
    "    \n",
    "    # Definir la función de pérdida de la ecuación de calor\n",
    "    u_t = torch.autograd.grad(u.sum(), t, create_graph=True)[0]\n",
    "    # Ecuación de calor en dos dimensiones\n",
    "    return u_t - 0.01*(uxx + uyy)"
   ]
  },
  {
   "cell_type": "code",
   "execution_count": 9,
   "metadata": {},
   "outputs": [],
   "source": [
    "# Definir la función de pérdida de la ecuación de calor\n",
    "def loss_heat(u, x, y, t):\n",
    "    u_t = torch.ones_like(u)*t\n",
    "    f_u = f(x, y, t, u)\n",
    "    return torch.mean((u_t - f_u)**2)"
   ]
  },
  {
   "cell_type": "code",
   "execution_count": 10,
   "metadata": {},
   "outputs": [],
   "source": [
    "# Definir la función de pérdida de las condiciones iniciales\n",
    "def loss_init(u, u_init):\n",
    "    return torch.mean((u - u_init)**2)"
   ]
  },
  {
   "cell_type": "code",
   "execution_count": 11,
   "metadata": {},
   "outputs": [],
   "source": [
    "# Definir la función de pérdida total\n",
    "def loss_total(u, x, y, t, u_init):\n",
    "    return loss_heat(u, x, y, t) + loss_init(u, u_init)"
   ]
  },
  {
   "attachments": {},
   "cell_type": "markdown",
   "metadata": {},
   "source": [
    "## PASO 4: Generar la malla y los datos de entrenamiento"
   ]
  },
  {
   "cell_type": "code",
   "execution_count": 12,
   "metadata": {},
   "outputs": [],
   "source": [
    "# Generar la malla\n",
    "X, Y = np.meshgrid(x, y)\n",
    "X_tensor = torch.from_numpy(X).float().to(device)\n",
    "Y_tensor = torch.from_numpy(Y).float().to(device)"
   ]
  },
  {
   "cell_type": "code",
   "execution_count": 13,
   "metadata": {},
   "outputs": [],
   "source": [
    "# # Convertir la condición inicial a un tensor y enviarla a la GPU\n",
    "# u_init_tensor = torch.from_numpy(u_init).float().to(device)\n",
    "# u_init_tensor = u_init_tensor.requires_grad_(True)\n",
    "u_init = gaussian(X_tensor, Y_tensor, x0, y0, sigma)\n",
    "u_init_tensor = u_init.float().to(device).requires_grad_(True)"
   ]
  },
  {
   "cell_type": "code",
   "execution_count": 14,
   "metadata": {},
   "outputs": [],
   "source": [
    "# def gaussian(x, y, x0, y0, sigma):\n",
    "#     return torch.exp(-((x - x0)**2 + (y - y0)**2)/(2*sigma**2))\n",
    "\n",
    "# u_init = gaussian(X, Y, x0, y0, sigma)\n",
    "# u_init_tensor = torch.from_numpy(u_init).float().to(device)\n",
    "# u_init_tensor = u_init_tensor.requires_grad_(True)\n",
    "X_tensor = torch.from_numpy(X).float().to(device)\n",
    "Y_tensor = torch.from_numpy(Y).float().to(device)\n",
    "x0_tensor = torch.tensor(x0, dtype=torch.float32, device=device)\n",
    "y0_tensor = torch.tensor(y0, dtype=torch.float32, device=device)\n",
    "sigma_tensor = torch.tensor(sigma, dtype=torch.float32, device=device)\n",
    "\n",
    "def gaussian(x, y, x0, y0, sigma):\n",
    "    return torch.exp(-((x - x0)**2 + (y - y0)**2)/(2*sigma**2))\n",
    "\n",
    "u_init = gaussian(X_tensor, Y_tensor, x0_tensor, y0_tensor, sigma_tensor)\n",
    "u_init_tensor = u_init.requires_grad_(True)\n"
   ]
  },
  {
   "cell_type": "code",
   "execution_count": 15,
   "metadata": {},
   "outputs": [],
   "source": [
    "# Crear los datos de entrenamiento\n",
    "t_min, t_max = 0, 0.5\n",
    "t = np.linspace(t_min, t_max, 101)\n",
    "t_tensor = torch.from_numpy(t).float().to(device)"
   ]
  },
  {
   "cell_type": "code",
   "execution_count": 16,
   "metadata": {},
   "outputs": [
    {
     "ename": "TypeError",
     "evalue": "expected np.ndarray (got numpy.float64)",
     "output_type": "error",
     "traceback": [
      "\u001b[1;31m---------------------------------------------------------------------------\u001b[0m",
      "\u001b[1;31mTypeError\u001b[0m                                 Traceback (most recent call last)",
      "Cell \u001b[1;32mIn [16], line 4\u001b[0m\n\u001b[0;32m      2\u001b[0m y_data \u001b[39m=\u001b[39m torch\u001b[39m.\u001b[39mzeros(nx\u001b[39m*\u001b[39mny, \u001b[39mlen\u001b[39m(t))\n\u001b[0;32m      3\u001b[0m \u001b[39mfor\u001b[39;00m i \u001b[39min\u001b[39;00m \u001b[39mrange\u001b[39m(\u001b[39mlen\u001b[39m(t)):\n\u001b[1;32m----> 4\u001b[0m     y_data[:, i] \u001b[39m=\u001b[39m torch\u001b[39m.\u001b[39mfrom_numpy(exact_solution(X, Y, t[i])\u001b[39m.\u001b[39mreshape(\u001b[39m-\u001b[39m\u001b[39m1\u001b[39m))\n",
      "Cell \u001b[1;32mIn [7], line 4\u001b[0m, in \u001b[0;36mexact_solution\u001b[1;34m(x, y, t)\u001b[0m\n\u001b[0;32m      2\u001b[0m \u001b[39mdef\u001b[39;00m \u001b[39mexact_solution\u001b[39m(x, y, t):\n\u001b[0;32m      3\u001b[0m     \u001b[39m# return torch.exp(-2*t)*gaussian(x, y, x0, y0, np.sqrt(sigma**2 + 4*t))\u001b[39;00m\n\u001b[1;32m----> 4\u001b[0m     \u001b[39mreturn\u001b[39;00m torch\u001b[39m.\u001b[39;49mfrom_numpy(np\u001b[39m.\u001b[39;49mexp(\u001b[39m-\u001b[39;49m\u001b[39m2\u001b[39;49m\u001b[39m*\u001b[39;49mt))\u001b[39m*\u001b[39mgaussian(x, y, x0, y0, np\u001b[39m.\u001b[39msqrt(sigma\u001b[39m*\u001b[39m\u001b[39m*\u001b[39m\u001b[39m2\u001b[39m \u001b[39m+\u001b[39m \u001b[39m4\u001b[39m\u001b[39m*\u001b[39mt))\n",
      "\u001b[1;31mTypeError\u001b[0m: expected np.ndarray (got numpy.float64)"
     ]
    }
   ],
   "source": [
    "x_data = torch.cat([X_tensor.reshape(-1, 1), Y_tensor.reshape(-1, 1), torch.zeros(nx*ny, 1).to(device)], dim=1)\n",
    "y_data = torch.zeros(nx*ny, len(t))\n",
    "for i in range(len(t)):\n",
    "    y_data[:, i] = torch.from_numpy(exact_solution(X, Y, t[i]).reshape(-1))"
   ]
  },
  {
   "cell_type": "code",
   "execution_count": null,
   "metadata": {},
   "outputs": [],
   "source": [
    "# Convertir los datos de entrenamiento a tensores y enviarlos a la GPU\n",
    "x_data_tensor = x_data.float().to(device)\n",
    "y_data_tensor = y_data.float().to(device)"
   ]
  },
  {
   "cell_type": "code",
   "execution_count": null,
   "metadata": {},
   "outputs": [],
   "source": [
    "# Definir la red neuronal\n",
    "class Net(torch.nn.Module):\n",
    "    def __init__(self, n_hidden, n_layers):\n",
    "        super(Net, self).__init__()\n",
    "        self.layers = torch.nn.ModuleList()\n",
    "        self.layers.append(torch.nn.Linear(3, n_hidden))\n",
    "        for i in range(n_layers-1):\n",
    "            self.layers.append(torch.nn.Linear(n_hidden, n_hidden))\n",
    "        self.layers.append(torch.nn.Linear(n_hidden, 1))\n",
    "\n",
    "    def forward(self, x):\n",
    "        for i in range(len(self.layers)-1):\n",
    "            x = torch.relu(self.layers[i](x))\n",
    "        x = self.layers[-1](x)\n",
    "        return x"
   ]
  },
  {
   "cell_type": "code",
   "execution_count": null,
   "metadata": {},
   "outputs": [],
   "source": [
    "n_hidden = 100\n",
    "n_layers = 4\n",
    "net = Net(n_hidden, n_layers).to(device)"
   ]
  },
  {
   "cell_type": "code",
   "execution_count": null,
   "metadata": {},
   "outputs": [],
   "source": [
    "optimizer = torch.optim.Adam(net.parameters(), lr=1e-3)\n",
    "mse_loss = torch.nn.MSELoss()"
   ]
  },
  {
   "cell_type": "code",
   "execution_count": null,
   "metadata": {},
   "outputs": [],
   "source": [
    "n_epochs = 10000\n",
    "for epoch in range(n_epochs):\n",
    "    optimizer.zero_grad()\n",
    "    u_pred = net(x_data_tensor).requires_grad_(True)\n",
    "\n",
    "    loss = loss_total(u_pred, X_tensor, Y_tensor, t_tensor, u_init_tensor)\n",
    "    loss.backward()\n",
    "    optimizer.step()\n",
    "    if (epoch+1) % 1000 == 0:\n",
    "        print('Epoch [{}/{}], Loss: {:.4e}'.format(epoch+1, n_epochs, loss.item()))"
   ]
  },
  {
   "cell_type": "code",
   "execution_count": null,
   "metadata": {},
   "outputs": [],
   "source": []
  }
 ],
 "metadata": {
  "kernelspec": {
   "display_name": "pytorch-C-DL",
   "language": "python",
   "name": "python3"
  },
  "language_info": {
   "codemirror_mode": {
    "name": "ipython",
    "version": 3
   },
   "file_extension": ".py",
   "mimetype": "text/x-python",
   "name": "python",
   "nbconvert_exporter": "python",
   "pygments_lexer": "ipython3",
   "version": "3.10.6"
  },
  "orig_nbformat": 4,
  "vscode": {
   "interpreter": {
    "hash": "85b52fbe45fd3d3f6426508f2b1ceb63e7294645d1a7097c9a6e2bd314b42ccf"
   }
  }
 },
 "nbformat": 4,
 "nbformat_minor": 2
}
