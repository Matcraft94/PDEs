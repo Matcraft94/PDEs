{
 "cells": [
  {
   "attachments": {},
   "cell_type": "markdown",
   "metadata": {},
   "source": [
    "# Diferencias finitas en Troch"
   ]
  },
  {
   "cell_type": "code",
   "execution_count": 1,
   "metadata": {},
   "outputs": [],
   "source": [
    "import torch\n",
    "import matplotlib.pyplot as plt"
   ]
  },
  {
   "attachments": {},
   "cell_type": "markdown",
   "metadata": {},
   "source": [
    "Paso 2: Definir la ecuación de calor\n",
    "La ecuación de calor bidimensional se puede expresar como:\n",
    "$$T_{i,j}^{n+1} = T_{i,j}^n + alpha * ( ( T_{i+1,j}^n - 2*T_{i,j}^n + T_{i-1,j}^n ) / dx^2\n",
    "                                      + ( T_{i,j+1}^n - 2*T_{i,j}^n + T_{i,j-1}^n ) / dy^2 )$$\n",
    "Donde $T_{i,j}^{n+1}$ es la temperatura en el punto (i,j) en el tiempo n+1, $T_{i,j}^n$ es la temperatura en el punto (i,j) en el tiempo n,\n",
    "alpha es la constante de difusión térmica, y dx y dy son los tamaños de los pasos en las direcciones x e y, respectivamente."
   ]
  },
  {
   "cell_type": "code",
   "execution_count": 4,
   "metadata": {},
   "outputs": [],
   "source": [
    "def heat_eqn(T, T_prev, alpha, dx, dy, dt):\n",
    "    \"\"\"\n",
    "    Implementa la ecuación de calor bidimensional.\n",
    "    \n",
    "    Parámetros:\n",
    "    T: tensor de tamaño (M, L) que contiene la temperatura en cada punto de la placa en el tiempo actual.\n",
    "    T_prev: tensor de tamaño (M, L) que contiene la temperatura en cada punto de la placa en el tiempo anterior.\n",
    "    alpha: constante de difusión térmica.\n",
    "    dx: tamaño del paso en la dirección x.\n",
    "    dy: tamaño del paso en la dirección y.\n",
    "    dt: tamaño del paso en el tiempo.\n",
    "    \n",
    "    Retorna:\n",
    "    Un tensor de tamaño (M, L) que contiene la temperatura en cada punto de la placa en el tiempo siguiente.\n",
    "    \"\"\"\n",
    "    # Definimos la ecuación de calor bidimensional\n",
    "    T_next = T_prev + alpha * (dt / dx**2 * (T_prev[2:, 1:-1] - 2*T_prev[1:-1, 1:-1] + T_prev[:-2, 1:-1]) +\n",
    "                               dt / dy**2 * (T_prev[1:-1, 2:] - 2*T_prev[1:-1, 1:-1] + T_prev[1:-1, :-2]))\n",
    "    # Aplicamos las condiciones de frontera\n",
    "    T_next[0, :] = T_next[-1, :] = T_next[:, 0] = T_next[:, -1] = Tb\n",
    "    return T_next"
   ]
  },
  {
   "cell_type": "code",
   "execution_count": 7,
   "metadata": {},
   "outputs": [
    {
     "ename": "RuntimeError",
     "evalue": "The size of tensor a (98) must match the size of tensor b (96) at non-singleton dimension 1",
     "output_type": "error",
     "traceback": [
      "\u001b[1;31m---------------------------------------------------------------------------\u001b[0m",
      "\u001b[1;31mRuntimeError\u001b[0m                              Traceback (most recent call last)",
      "Cell \u001b[1;32mIn [7], line 27\u001b[0m\n\u001b[0;32m     24\u001b[0m \u001b[39m# Iteramos N veces\u001b[39;00m\n\u001b[0;32m     25\u001b[0m \u001b[39mfor\u001b[39;00m i \u001b[39min\u001b[39;00m \u001b[39mrange\u001b[39m(N):\n\u001b[0;32m     26\u001b[0m     \u001b[39m# Calculamos la temperatura en el tiempo siguiente\u001b[39;00m\n\u001b[1;32m---> 27\u001b[0m     T_next \u001b[39m=\u001b[39m heat_eqn(T, T_prev, alpha, dx, dy, dt)\n\u001b[0;32m     29\u001b[0m     \u001b[39m# Actualizamos la temperatura en los puntos interiores\u001b[39;00m\n\u001b[0;32m     30\u001b[0m     T[\u001b[39m1\u001b[39m:\u001b[39m-\u001b[39m\u001b[39m1\u001b[39m, \u001b[39m1\u001b[39m:\u001b[39m-\u001b[39m\u001b[39m1\u001b[39m] \u001b[39m=\u001b[39m T_next[\u001b[39m1\u001b[39m:\u001b[39m-\u001b[39m\u001b[39m1\u001b[39m, \u001b[39m1\u001b[39m:\u001b[39m-\u001b[39m\u001b[39m1\u001b[39m]\n",
      "Cell \u001b[1;32mIn [4], line 17\u001b[0m, in \u001b[0;36mheat_eqn\u001b[1;34m(T, T_prev, alpha, dx, dy, dt)\u001b[0m\n\u001b[0;32m      2\u001b[0m \u001b[39m\"\"\"\u001b[39;00m\n\u001b[0;32m      3\u001b[0m \u001b[39mImplementa la ecuación de calor bidimensional.\u001b[39;00m\n\u001b[0;32m      4\u001b[0m \u001b[39m\u001b[39;00m\n\u001b[1;32m   (...)\u001b[0m\n\u001b[0;32m     14\u001b[0m \u001b[39mUn tensor de tamaño (M, L) que contiene la temperatura en cada punto de la placa en el tiempo siguiente.\u001b[39;00m\n\u001b[0;32m     15\u001b[0m \u001b[39m\"\"\"\u001b[39;00m\n\u001b[0;32m     16\u001b[0m \u001b[39m# Definimos la ecuación de calor bidimensional\u001b[39;00m\n\u001b[1;32m---> 17\u001b[0m T_next \u001b[39m=\u001b[39m T_prev \u001b[39m+\u001b[39;49m alpha \u001b[39m*\u001b[39;49m (dt \u001b[39m/\u001b[39;49m dx\u001b[39m*\u001b[39;49m\u001b[39m*\u001b[39;49m\u001b[39m2\u001b[39;49m \u001b[39m*\u001b[39;49m (T_prev[\u001b[39m2\u001b[39;49m:, \u001b[39m1\u001b[39;49m:\u001b[39m-\u001b[39;49m\u001b[39m1\u001b[39;49m] \u001b[39m-\u001b[39;49m \u001b[39m2\u001b[39;49m\u001b[39m*\u001b[39;49mT_prev[\u001b[39m1\u001b[39;49m:\u001b[39m-\u001b[39;49m\u001b[39m1\u001b[39;49m, \u001b[39m1\u001b[39;49m:\u001b[39m-\u001b[39;49m\u001b[39m1\u001b[39;49m] \u001b[39m+\u001b[39;49m T_prev[:\u001b[39m-\u001b[39;49m\u001b[39m2\u001b[39;49m, \u001b[39m1\u001b[39;49m:\u001b[39m-\u001b[39;49m\u001b[39m1\u001b[39;49m]) \u001b[39m+\u001b[39;49m\n\u001b[0;32m     18\u001b[0m                            dt \u001b[39m/\u001b[39;49m dy\u001b[39m*\u001b[39;49m\u001b[39m*\u001b[39;49m\u001b[39m2\u001b[39;49m \u001b[39m*\u001b[39;49m (T_prev[\u001b[39m1\u001b[39;49m:\u001b[39m-\u001b[39;49m\u001b[39m1\u001b[39;49m, \u001b[39m2\u001b[39;49m:] \u001b[39m-\u001b[39;49m \u001b[39m2\u001b[39;49m\u001b[39m*\u001b[39;49mT_prev[\u001b[39m1\u001b[39;49m:\u001b[39m-\u001b[39;49m\u001b[39m1\u001b[39;49m, \u001b[39m1\u001b[39;49m:\u001b[39m-\u001b[39;49m\u001b[39m1\u001b[39;49m] \u001b[39m+\u001b[39;49m T_prev[\u001b[39m1\u001b[39;49m:\u001b[39m-\u001b[39;49m\u001b[39m1\u001b[39;49m, :\u001b[39m-\u001b[39;49m\u001b[39m2\u001b[39;49m]))\n\u001b[0;32m     19\u001b[0m \u001b[39m# Aplicamos las condiciones de frontera\u001b[39;00m\n\u001b[0;32m     20\u001b[0m T_next[\u001b[39m0\u001b[39m, :] \u001b[39m=\u001b[39m T_next[\u001b[39m-\u001b[39m\u001b[39m1\u001b[39m, :] \u001b[39m=\u001b[39m T_next[:, \u001b[39m0\u001b[39m] \u001b[39m=\u001b[39m T_next[:, \u001b[39m-\u001b[39m\u001b[39m1\u001b[39m] \u001b[39m=\u001b[39m Tb\n",
      "\u001b[1;31mRuntimeError\u001b[0m: The size of tensor a (98) must match the size of tensor b (96) at non-singleton dimension 1"
     ]
    },
    {
     "data": {
      "text/plain": [
       "<Figure size 1000x500 with 0 Axes>"
      ]
     },
     "metadata": {},
     "output_type": "display_data"
    }
   ],
   "source": [
    "# Definimos los parámetros del problema\n",
    "M, L = 50, 98 # número de puntos en las direcciones x e y, respectivamente\n",
    "Tb = 100.0 # temperatura en los bordes de la placa\n",
    "alpha = 1.0 # constante de difusión térmica\n",
    "dx = dy = 0.1 # tamaño del paso en las direcciones x e y\n",
    "dt = 0.01 # tamaño del paso en el tiempo\n",
    "N = 5000 # número de pasos de tiempo\n",
    "\n",
    "# Inicializamos la temperatura en cada punto de la placa\n",
    "T = torch.zeros(M, L)\n",
    "T_prev = torch.zeros(M, L)\n",
    "\n",
    "# Establecemos las condiciones iniciales\n",
    "T[25:35, 45:55] = 100.0\n",
    "T[15:25, 65:75] = 50.0\n",
    "T[35:45, 65:75] = -50.0\n",
    "\n",
    "# Aplicamos las condiciones de frontera\n",
    "T[:, 0] = T[:, -1] = T[0, :] = T[-1, :] = Tb\n",
    "\n",
    "# Creamos una figura para visualizar la evolución de la temperatura\n",
    "fig = plt.figure(figsize=(10, 5))\n",
    "\n",
    "# Iteramos N veces\n",
    "for i in range(N):\n",
    "    # Calculamos la temperatura en el tiempo siguiente\n",
    "    T_next = heat_eqn(T, T_prev, alpha, dx, dy, dt)\n",
    "    \n",
    "    # Actualizamos la temperatura en los puntos interiores\n",
    "    T[1:-1, 1:-1] = T_next[1:-1, 1:-1]\n",
    "    \n",
    "    # Actualizamos la temperatura en los bordes\n",
    "    T[:, 0] = T[:, -1] = T[0, :] = T[-1, :] = Tb\n",
    "    \n",
    "    # Guardamos la temperatura en el tiempo actual para la próxima iteración\n",
    "    T_prev = T\n",
    "    \n",
    "    # Visualizamos la temperatura cada 100 iteraciones\n",
    "    if i % 100 == 0:\n",
    "        plt.clf()\n",
    "        plt.imshow(T, cmap='hot', interpolation='nearest')\n",
    "        plt.title(f'Tiempo: {i*dt:.2f} segundos')\n",
    "        plt.colorbar()\n",
    "        plt.pause(0.001)\n"
   ]
  },
  {
   "cell_type": "code",
   "execution_count": 6,
   "metadata": {},
   "outputs": [
    {
     "ename": "RuntimeError",
     "evalue": "The size of tensor a (100) must match the size of tensor b (98) at non-singleton dimension 1",
     "output_type": "error",
     "traceback": [
      "\u001b[1;31m---------------------------------------------------------------------------\u001b[0m",
      "\u001b[1;31mRuntimeError\u001b[0m                              Traceback (most recent call last)",
      "Cell \u001b[1;32mIn [6], line 21\u001b[0m\n\u001b[0;32m     18\u001b[0m fig \u001b[39m=\u001b[39m plt\u001b[39m.\u001b[39mfigure(figsize\u001b[39m=\u001b[39m(\u001b[39m10\u001b[39m, \u001b[39m5\u001b[39m))\n\u001b[0;32m     20\u001b[0m \u001b[39mfor\u001b[39;00m i \u001b[39min\u001b[39;00m \u001b[39mrange\u001b[39m(N):\n\u001b[1;32m---> 21\u001b[0m     T_next \u001b[39m=\u001b[39m heat_eqn(T, T_prev, alpha, dx, dy, dt)\n\u001b[0;32m     22\u001b[0m     T[\u001b[39m1\u001b[39m:\u001b[39m-\u001b[39m\u001b[39m1\u001b[39m, \u001b[39m1\u001b[39m:\u001b[39m-\u001b[39m\u001b[39m1\u001b[39m] \u001b[39m=\u001b[39m T_next[\u001b[39m1\u001b[39m:\u001b[39m-\u001b[39m\u001b[39m1\u001b[39m, \u001b[39m1\u001b[39m:\u001b[39m-\u001b[39m\u001b[39m1\u001b[39m]\n\u001b[0;32m     23\u001b[0m     T[:, \u001b[39m0\u001b[39m] \u001b[39m=\u001b[39m T[:, \u001b[39m-\u001b[39m\u001b[39m1\u001b[39m] \u001b[39m=\u001b[39m T[\u001b[39m0\u001b[39m, :] \u001b[39m=\u001b[39m T[\u001b[39m-\u001b[39m\u001b[39m1\u001b[39m, :] \u001b[39m=\u001b[39m Tb\n",
      "Cell \u001b[1;32mIn [4], line 17\u001b[0m, in \u001b[0;36mheat_eqn\u001b[1;34m(T, T_prev, alpha, dx, dy, dt)\u001b[0m\n\u001b[0;32m      2\u001b[0m \u001b[39m\"\"\"\u001b[39;00m\n\u001b[0;32m      3\u001b[0m \u001b[39mImplementa la ecuación de calor bidimensional.\u001b[39;00m\n\u001b[0;32m      4\u001b[0m \u001b[39m\u001b[39;00m\n\u001b[1;32m   (...)\u001b[0m\n\u001b[0;32m     14\u001b[0m \u001b[39mUn tensor de tamaño (M, L) que contiene la temperatura en cada punto de la placa en el tiempo siguiente.\u001b[39;00m\n\u001b[0;32m     15\u001b[0m \u001b[39m\"\"\"\u001b[39;00m\n\u001b[0;32m     16\u001b[0m \u001b[39m# Definimos la ecuación de calor bidimensional\u001b[39;00m\n\u001b[1;32m---> 17\u001b[0m T_next \u001b[39m=\u001b[39m T_prev \u001b[39m+\u001b[39;49m alpha \u001b[39m*\u001b[39;49m (dt \u001b[39m/\u001b[39;49m dx\u001b[39m*\u001b[39;49m\u001b[39m*\u001b[39;49m\u001b[39m2\u001b[39;49m \u001b[39m*\u001b[39;49m (T_prev[\u001b[39m2\u001b[39;49m:, \u001b[39m1\u001b[39;49m:\u001b[39m-\u001b[39;49m\u001b[39m1\u001b[39;49m] \u001b[39m-\u001b[39;49m \u001b[39m2\u001b[39;49m\u001b[39m*\u001b[39;49mT_prev[\u001b[39m1\u001b[39;49m:\u001b[39m-\u001b[39;49m\u001b[39m1\u001b[39;49m, \u001b[39m1\u001b[39;49m:\u001b[39m-\u001b[39;49m\u001b[39m1\u001b[39;49m] \u001b[39m+\u001b[39;49m T_prev[:\u001b[39m-\u001b[39;49m\u001b[39m2\u001b[39;49m, \u001b[39m1\u001b[39;49m:\u001b[39m-\u001b[39;49m\u001b[39m1\u001b[39;49m]) \u001b[39m+\u001b[39;49m\n\u001b[0;32m     18\u001b[0m                            dt \u001b[39m/\u001b[39;49m dy\u001b[39m*\u001b[39;49m\u001b[39m*\u001b[39;49m\u001b[39m2\u001b[39;49m \u001b[39m*\u001b[39;49m (T_prev[\u001b[39m1\u001b[39;49m:\u001b[39m-\u001b[39;49m\u001b[39m1\u001b[39;49m, \u001b[39m2\u001b[39;49m:] \u001b[39m-\u001b[39;49m \u001b[39m2\u001b[39;49m\u001b[39m*\u001b[39;49mT_prev[\u001b[39m1\u001b[39;49m:\u001b[39m-\u001b[39;49m\u001b[39m1\u001b[39;49m, \u001b[39m1\u001b[39;49m:\u001b[39m-\u001b[39;49m\u001b[39m1\u001b[39;49m] \u001b[39m+\u001b[39;49m T_prev[\u001b[39m1\u001b[39;49m:\u001b[39m-\u001b[39;49m\u001b[39m1\u001b[39;49m, :\u001b[39m-\u001b[39;49m\u001b[39m2\u001b[39;49m]))\n\u001b[0;32m     19\u001b[0m \u001b[39m# Aplicamos las condiciones de frontera\u001b[39;00m\n\u001b[0;32m     20\u001b[0m T_next[\u001b[39m0\u001b[39m, :] \u001b[39m=\u001b[39m T_next[\u001b[39m-\u001b[39m\u001b[39m1\u001b[39m, :] \u001b[39m=\u001b[39m T_next[:, \u001b[39m0\u001b[39m] \u001b[39m=\u001b[39m T_next[:, \u001b[39m-\u001b[39m\u001b[39m1\u001b[39m] \u001b[39m=\u001b[39m Tb\n",
      "\u001b[1;31mRuntimeError\u001b[0m: The size of tensor a (100) must match the size of tensor b (98) at non-singleton dimension 1"
     ]
    },
    {
     "data": {
      "text/plain": [
       "<Figure size 1000x500 with 0 Axes>"
      ]
     },
     "metadata": {},
     "output_type": "display_data"
    }
   ],
   "source": [
    "# Ejecutamos el bucle principal\n",
    "M, L = 50, 100 # número de puntos en las direcciones x e y, respectivamente\n",
    "Tb = 100.0 # temperatura en los bordes de la placa\n",
    "alpha = 1.0 # constante de difusión térmica\n",
    "dx = dy = 0.1 # tamaño del paso en las direcciones x e y\n",
    "dt = 0.01 # tamaño del paso en el tiempo\n",
    "N = 5000 # número de pasos de tiempo\n",
    "\n",
    "T = torch.zeros(M, L)\n",
    "T_prev = torch.zeros(M, L)\n",
    "\n",
    "T[25:35, 45:55] = 100.0\n",
    "T[15:25, 65:75] = 50.0\n",
    "T[35:45, 65:75] = -50.0\n",
    "\n",
    "T[:, 0] = T[:, -1] = T[0, :] = T[-1, :] = Tb\n",
    "\n",
    "fig = plt.figure(figsize=(10, 5))\n",
    "\n",
    "for i in range(N):\n",
    "    T_next = heat_eqn(T, T_prev, alpha, dx, dy, dt)\n",
    "    T[1:-1, 1:-1] = T_next[1:-1, 1:-1]\n",
    "    T[:, 0] = T[:, -1] = T[0, :] = T[-1, :] = Tb\n",
    "    T_prev = T\n",
    "    if i % 100 == 0:\n",
    "        plt.clf()\n",
    "        plt.imshow(T, cmap='hot', interpolation='nearest')\n",
    "        plt.title(f'Tiempo: {i*dt:.2f} segundos')\n",
    "        plt.colorbar()\n",
    "        plt.pause(0.001)\n",
    "\n",
    "# Guardamos la figura como un archivo PNG\n",
    "fig.savefig('placa.png')\n"
   ]
  },
  {
   "cell_type": "code",
   "execution_count": null,
   "metadata": {},
   "outputs": [],
   "source": []
  }
 ],
 "metadata": {
  "kernelspec": {
   "display_name": "pytorch-C-DL",
   "language": "python",
   "name": "python3"
  },
  "language_info": {
   "codemirror_mode": {
    "name": "ipython",
    "version": 3
   },
   "file_extension": ".py",
   "mimetype": "text/x-python",
   "name": "python",
   "nbconvert_exporter": "python",
   "pygments_lexer": "ipython3",
   "version": "3.10.6"
  },
  "orig_nbformat": 4,
  "vscode": {
   "interpreter": {
    "hash": "85b52fbe45fd3d3f6426508f2b1ceb63e7294645d1a7097c9a6e2bd314b42ccf"
   }
  }
 },
 "nbformat": 4,
 "nbformat_minor": 2
}
