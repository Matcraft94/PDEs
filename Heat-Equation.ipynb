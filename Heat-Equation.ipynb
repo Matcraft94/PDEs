{
 "cells": [
  {
   "cell_type": "markdown",
   "metadata": {},
   "source": [
    "# Ecuacion del Calor\n",
    "\n",
    "El problema modelo es el siguiente:\n",
    "$$\\begin{cases} \\dfrac{\\partial u}{\\partial t}=\\Delta u+f \\quad\\text{ en }\\Omega\\times(0,T] \\\\ u=u_D \\qquad\\text{sobre }\\partial\\Omega\\times(0,T] \\\\ u=u_0 \\qquad\\text{en }t=0. \\end{cases}$$\n",
    "Donde $u=u(x,y,t)$ si el dominio espacial $\\Omega$ es de dos dimensiones. La fuente $f$ y los valores de frontere $u_D$ pueden variar con el espacio y tiempo. La condicion inicial $u_0$ es una funcion solo depende del espacio."
   ]
  },
  {
   "cell_type": "markdown",
   "metadata": {},
   "source": [
    "## Formulacion Variacional"
   ]
  },
  {
   "cell_type": "markdown",
   "metadata": {},
   "source": [
    "# Implementacion"
   ]
  },
  {
   "cell_type": "code",
   "execution_count": 1,
   "metadata": {},
   "outputs": [],
   "source": [
    "import numpy as np\n",
    "\n",
    "from mpi4py import MPI\n",
    "from petsc4py import PETSc\n",
    "\n",
    "from dolfin import * #fem, mesh, io, plot"
   ]
  },
  {
   "cell_type": "code",
   "execution_count": 2,
   "metadata": {},
   "outputs": [],
   "source": [
    "# Definimos parametros temporales\n",
    "t = 0 # tiempo de inicio\n",
    "T = 2.0 # tiempo final\n",
    "num_steps = 61     \n",
    "dt = T / num_steps # tamano del paso temporal"
   ]
  },
  {
   "cell_type": "code",
   "execution_count": 9,
   "metadata": {},
   "outputs": [],
   "source": [
    "# Definimos una malla\n",
    "nx, ny = 50, 50\n",
    "domain = RectangleMesh(Point(-2,-2), Point(2,2), nx, ny)\n",
    "V = FunctionSpace(domain, \"CG\", 1)"
   ]
  },
  {
   "cell_type": "code",
   "execution_count": 17,
   "metadata": {},
   "outputs": [
    {
     "name": "stderr",
     "output_type": "stream",
     "text": [
      "------------------- Start compiler output ------------------------\n",
      "/tmp/tmp7qqnvmgf/dolfin_expression_8fb60291b6de1677dcd96ba8b7d7326b.cpp: In member function ‘virtual void dolfin::dolfin_expression_8fb60291b6de1677dcd96ba8b7d7326b::eval(Eigen::Ref<Eigen::Matrix<double, -1, 1> >, Eigen::Ref<const Eigen::Matrix<double, -1, 1> >) const’:\n",
      "/tmp/tmp7qqnvmgf/dolfin_expression_8fb60291b6de1677dcd96ba8b7d7326b.cpp:61:24: error: ‘a’ was not declared in this scope\n",
      "   61 |           values[0] = -a*(x[0]^2 + x[1]^2);\n",
      "      |                        ^\n",
      "/tmp/tmp7qqnvmgf/dolfin_expression_8fb60291b6de1677dcd96ba8b7d7326b.cpp:61:31: error: invalid operands of types ‘Eigen::DenseCoeffsBase<Eigen::Ref<const Eigen::Matrix<double, -1, 1> >, 0>::CoeffReturnType’ {aka ‘double’} and ‘Eigen::DenseCoeffsBase<Eigen::Ref<const Eigen::Matrix<double, -1, 1> >, 0>::CoeffReturnType’ {aka ‘double’} to binary ‘operator^’\n",
      "   61 |           values[0] = -a*(x[0]^2 + x[1]^2);\n",
      "      |                           ~~~~^~~~~~~~~\n",
      "      |                              |   |\n",
      "      |                              |   Eigen::DenseCoeffsBase<Eigen::Ref<const Eigen::Matrix<double, -1, 1> >, 0>::CoeffReturnType {aka double}\n",
      "      |                              Eigen::DenseCoeffsBase<Eigen::Ref<const Eigen::Matrix<double, -1, 1> >, 0>::CoeffReturnType {aka double}\n",
      "/tmp/tmp7qqnvmgf/dolfin_expression_8fb60291b6de1677dcd96ba8b7d7326b.cpp:61:34: warning: suggest parentheses around arithmetic in operand of ‘^’ [-Wparentheses]\n",
      "   61 |           values[0] = -a*(x[0]^2 + x[1]^2);\n",
      "      |                                ~~^~~~~~\n",
      "\n",
      "-------------------  End compiler output  ------------------------\n",
      "Compilation failed! Sources, command, and errors have been written to: /mnt/c/Users/MSI Gf65/Documents/GitHub/PDEs/jitfailure-dolfin_expression_8fb60291b6de1677dcd96ba8b7d7326b\n"
     ]
    },
    {
     "ename": "RuntimeError",
     "evalue": "Unable to compile C++ code with dijitso",
     "output_type": "error",
     "traceback": [
      "\u001b[0;31m---------------------------------------------------------------------------\u001b[0m",
      "\u001b[0;31mDijitsoError\u001b[0m                              Traceback (most recent call last)",
      "File \u001b[0;32m/usr/lib/petsc/lib/python3/dist-packages/dolfin/jit/jit.py:168\u001b[0m, in \u001b[0;36mcompile_class\u001b[0;34m(cpp_data, mpi_comm)\u001b[0m\n\u001b[1;32m    167\u001b[0m \u001b[39mtry\u001b[39;00m:\n\u001b[0;32m--> 168\u001b[0m     module, signature \u001b[39m=\u001b[39m dijitso_jit(cpp_data, module_name, params,\n\u001b[1;32m    169\u001b[0m                                     generate\u001b[39m=\u001b[39;49mcpp_data[\u001b[39m'\u001b[39;49m\u001b[39mjit_generate\u001b[39;49m\u001b[39m'\u001b[39;49m],\n\u001b[1;32m    170\u001b[0m                                     mpi_comm\u001b[39m=\u001b[39;49mmpi_comm)\n\u001b[1;32m    171\u001b[0m     submodule \u001b[39m=\u001b[39m dijitso\u001b[39m.\u001b[39mextract_factory_function(module, \u001b[39m\"\u001b[39m\u001b[39mcreate_\u001b[39m\u001b[39m\"\u001b[39m \u001b[39m+\u001b[39m module_name)()\n",
      "File \u001b[0;32m/usr/lib/petsc/lib/python3/dist-packages/dolfin/jit/jit.py:50\u001b[0m, in \u001b[0;36mmpi_jit_decorator.<locals>.mpi_jit\u001b[0;34m(*args, **kwargs)\u001b[0m\n\u001b[1;32m     49\u001b[0m \u001b[39mif\u001b[39;00m MPI\u001b[39m.\u001b[39msize(mpi_comm) \u001b[39m==\u001b[39m \u001b[39m1\u001b[39m:\n\u001b[0;32m---> 50\u001b[0m     \u001b[39mreturn\u001b[39;00m local_jit(\u001b[39m*\u001b[39;49margs, \u001b[39m*\u001b[39;49m\u001b[39m*\u001b[39;49mkwargs)\n\u001b[1;32m     52\u001b[0m \u001b[39m# Default status (0 == ok, 1 == fail)\u001b[39;00m\n",
      "File \u001b[0;32m/usr/lib/petsc/lib/python3/dist-packages/dolfin/jit/jit.py:106\u001b[0m, in \u001b[0;36mdijitso_jit\u001b[0;34m(*args, **kwargs)\u001b[0m\n\u001b[1;32m    104\u001b[0m \u001b[39m@mpi_jit_decorator\u001b[39m\n\u001b[1;32m    105\u001b[0m \u001b[39mdef\u001b[39;00m \u001b[39mdijitso_jit\u001b[39m(\u001b[39m*\u001b[39margs, \u001b[39m*\u001b[39m\u001b[39m*\u001b[39mkwargs):\n\u001b[0;32m--> 106\u001b[0m     \u001b[39mreturn\u001b[39;00m dijitso\u001b[39m.\u001b[39;49mjit(\u001b[39m*\u001b[39;49margs, \u001b[39m*\u001b[39;49m\u001b[39m*\u001b[39;49mkwargs)\n",
      "File \u001b[0;32m/usr/lib/python3/dist-packages/dijitso/jit.py:216\u001b[0m, in \u001b[0;36mjit\u001b[0;34m(jitable, name, params, generate, send, receive, wait)\u001b[0m\n\u001b[1;32m    214\u001b[0m \u001b[39mif\u001b[39;00m err_info:\n\u001b[1;32m    215\u001b[0m     \u001b[39m# TODO: Parse output to find error(s) for better error messages\u001b[39;00m\n\u001b[0;32m--> 216\u001b[0m     \u001b[39mraise\u001b[39;00m DijitsoError(\u001b[39m\"\u001b[39m\u001b[39mDijitso JIT compilation failed, see \u001b[39m\u001b[39m'\u001b[39m\u001b[39m%s\u001b[39;00m\u001b[39m'\u001b[39m\u001b[39m for details\u001b[39m\u001b[39m\"\u001b[39m\n\u001b[1;32m    217\u001b[0m                        \u001b[39m%\u001b[39m err_info[\u001b[39m'\u001b[39m\u001b[39mfail_dir\u001b[39m\u001b[39m'\u001b[39m], err_info)\n\u001b[1;32m    219\u001b[0m \u001b[39m# Return built library and its signature\u001b[39;00m\n",
      "\u001b[0;31mDijitsoError\u001b[0m: Dijitso JIT compilation failed, see '/mnt/c/Users/MSI Gf65/Documents/GitHub/PDEs/jitfailure-dolfin_expression_8fb60291b6de1677dcd96ba8b7d7326b' for details",
      "\nDuring handling of the above exception, another exception occurred:\n",
      "\u001b[0;31mRuntimeError\u001b[0m                              Traceback (most recent call last)",
      "\u001b[1;32m/mnt/c/Users/MSI Gf65/Documents/GitHub/PDEs/Heat-Equation.ipynb Cell 7'\u001b[0m in \u001b[0;36m<cell line: 5>\u001b[0;34m()\u001b[0m\n\u001b[1;32m      <a href='vscode-notebook-cell://wsl%2Bubuntu/mnt/c/Users/MSI%20Gf65/Documents/GitHub/PDEs/Heat-Equation.ipynb#ch0000008vscode-remote?line=0'>1</a>\u001b[0m \u001b[39m# Creamos una condicion inicial\u001b[39;00m\n\u001b[1;32m      <a href='vscode-notebook-cell://wsl%2Bubuntu/mnt/c/Users/MSI%20Gf65/Documents/GitHub/PDEs/Heat-Equation.ipynb#ch0000008vscode-remote?line=1'>2</a>\u001b[0m \u001b[39m#def initial_condition(x, a=5):\u001b[39;00m\n\u001b[1;32m      <a href='vscode-notebook-cell://wsl%2Bubuntu/mnt/c/Users/MSI%20Gf65/Documents/GitHub/PDEs/Heat-Equation.ipynb#ch0000008vscode-remote?line=2'>3</a>\u001b[0m \u001b[39m#    return np.exp(-a*(x[0]**2 + x[1]**2))\u001b[39;00m\n\u001b[1;32m      <a href='vscode-notebook-cell://wsl%2Bubuntu/mnt/c/Users/MSI%20Gf65/Documents/GitHub/PDEs/Heat-Equation.ipynb#ch0000008vscode-remote?line=3'>4</a>\u001b[0m a \u001b[39m=\u001b[39m Constant(\u001b[39m5\u001b[39m)\n\u001b[0;32m----> <a href='vscode-notebook-cell://wsl%2Bubuntu/mnt/c/Users/MSI%20Gf65/Documents/GitHub/PDEs/Heat-Equation.ipynb#ch0000008vscode-remote?line=4'>5</a>\u001b[0m initial_condition \u001b[39m=\u001b[39m Expression(\u001b[39m'\u001b[39;49m\u001b[39m-a*(x[0]^2 + x[1]^2)\u001b[39;49m\u001b[39m'\u001b[39;49m)\n\u001b[1;32m      <a href='vscode-notebook-cell://wsl%2Bubuntu/mnt/c/Users/MSI%20Gf65/Documents/GitHub/PDEs/Heat-Equation.ipynb#ch0000008vscode-remote?line=6'>7</a>\u001b[0m u_n \u001b[39m=\u001b[39m Function(V)\n\u001b[1;32m      <a href='vscode-notebook-cell://wsl%2Bubuntu/mnt/c/Users/MSI%20Gf65/Documents/GitHub/PDEs/Heat-Equation.ipynb#ch0000008vscode-remote?line=7'>8</a>\u001b[0m u_n\u001b[39m.\u001b[39mname \u001b[39m=\u001b[39m \u001b[39m\"\u001b[39m\u001b[39mu_n\u001b[39m\u001b[39m\"\u001b[39m\n",
      "File \u001b[0;32m/usr/lib/petsc/lib/python3/dist-packages/dolfin/function/expression.py:400\u001b[0m, in \u001b[0;36mExpression.__init__\u001b[0;34m(self, cpp_code, *args, **kwargs)\u001b[0m\n\u001b[1;32m    397\u001b[0m         \u001b[39mif\u001b[39;00m \u001b[39mnot\u001b[39;00m \u001b[39misinstance\u001b[39m(k, \u001b[39mstr\u001b[39m):\n\u001b[1;32m    398\u001b[0m             \u001b[39mraise\u001b[39;00m \u001b[39mKeyError\u001b[39;00m(\u001b[39m\"\u001b[39m\u001b[39mUser parameter key must be a string\u001b[39m\u001b[39m\"\u001b[39m)\n\u001b[0;32m--> 400\u001b[0m     \u001b[39mself\u001b[39m\u001b[39m.\u001b[39m_cpp_object \u001b[39m=\u001b[39m jit\u001b[39m.\u001b[39;49mcompile_expression(cpp_code, params)\n\u001b[1;32m    401\u001b[0m     \u001b[39mself\u001b[39m\u001b[39m.\u001b[39m_parameters \u001b[39m=\u001b[39m ExpressionParameters(\u001b[39mself\u001b[39m\u001b[39m.\u001b[39m_cpp_object, params)\n\u001b[1;32m    403\u001b[0m \u001b[39mif\u001b[39;00m element \u001b[39mand\u001b[39;00m degree:\n",
      "File \u001b[0;32m/usr/lib/petsc/lib/python3/dist-packages/dolfin/function/jit.py:158\u001b[0m, in \u001b[0;36mcompile_expression\u001b[0;34m(statements, properties)\u001b[0m\n\u001b[1;32m    154\u001b[0m mpi_comm \u001b[39m=\u001b[39m properties\u001b[39m.\u001b[39mpop(\u001b[39m\"\u001b[39m\u001b[39mmpi_comm\u001b[39m\u001b[39m\"\u001b[39m, MPI\u001b[39m.\u001b[39mcomm_world)\n\u001b[1;32m    155\u001b[0m cpp_data \u001b[39m=\u001b[39m {\u001b[39m'\u001b[39m\u001b[39mstatements\u001b[39m\u001b[39m'\u001b[39m: statements, \u001b[39m'\u001b[39m\u001b[39mproperties\u001b[39m\u001b[39m'\u001b[39m: properties,\n\u001b[1;32m    156\u001b[0m             \u001b[39m'\u001b[39m\u001b[39mname\u001b[39m\u001b[39m'\u001b[39m: \u001b[39m'\u001b[39m\u001b[39mexpression\u001b[39m\u001b[39m'\u001b[39m, \u001b[39m'\u001b[39m\u001b[39mjit_generate\u001b[39m\u001b[39m'\u001b[39m: jit_generate}\n\u001b[0;32m--> 158\u001b[0m expression \u001b[39m=\u001b[39m compile_class(cpp_data, mpi_comm\u001b[39m=\u001b[39;49mmpi_comm)\n\u001b[1;32m    159\u001b[0m \u001b[39mreturn\u001b[39;00m expression\n",
      "File \u001b[0;32m/usr/lib/petsc/lib/python3/dist-packages/dolfin/jit/jit.py:173\u001b[0m, in \u001b[0;36mcompile_class\u001b[0;34m(cpp_data, mpi_comm)\u001b[0m\n\u001b[1;32m    171\u001b[0m     submodule \u001b[39m=\u001b[39m dijitso\u001b[39m.\u001b[39mextract_factory_function(module, \u001b[39m\"\u001b[39m\u001b[39mcreate_\u001b[39m\u001b[39m\"\u001b[39m \u001b[39m+\u001b[39m module_name)()\n\u001b[1;32m    172\u001b[0m \u001b[39mexcept\u001b[39;00m \u001b[39mException\u001b[39;00m:\n\u001b[0;32m--> 173\u001b[0m     \u001b[39mraise\u001b[39;00m \u001b[39mRuntimeError\u001b[39;00m(\u001b[39m\"\u001b[39m\u001b[39mUnable to compile C++ code with dijitso\u001b[39m\u001b[39m\"\u001b[39m)\n\u001b[1;32m    175\u001b[0m \u001b[39mif\u001b[39;00m name \u001b[39m==\u001b[39m \u001b[39m'\u001b[39m\u001b[39mexpression\u001b[39m\u001b[39m'\u001b[39m:\n\u001b[1;32m    176\u001b[0m     python_object \u001b[39m=\u001b[39m cpp\u001b[39m.\u001b[39mfunction\u001b[39m.\u001b[39mmake_dolfin_expression(submodule)\n",
      "\u001b[0;31mRuntimeError\u001b[0m: Unable to compile C++ code with dijitso"
     ]
    }
   ],
   "source": [
    "# Creamos una condicion inicial\n",
    "#def initial_condition(x, a=5):\n",
    "#    return np.exp(-a*(x[0]**2 + x[1]**2))\n",
    "a = Constant(5)\n",
    "initial_condition = Expression('-a*(x[0]**2 + x[1]**2)')\n",
    "\n",
    "u_n = Function(V)\n",
    "u_n.name = \"u_n\"\n",
    "u_n.interpolate(initial_condition)"
   ]
  },
  {
   "cell_type": "code",
   "execution_count": null,
   "metadata": {},
   "outputs": [],
   "source": []
  }
 ],
 "metadata": {
  "kernelspec": {
   "display_name": "Python 3.8.10 64-bit",
   "language": "python",
   "name": "python3"
  },
  "language_info": {
   "codemirror_mode": {
    "name": "ipython",
    "version": 3
   },
   "file_extension": ".py",
   "mimetype": "text/x-python",
   "name": "python",
   "nbconvert_exporter": "python",
   "pygments_lexer": "ipython3",
   "version": "3.8.10"
  },
  "orig_nbformat": 4,
  "vscode": {
   "interpreter": {
    "hash": "916dbcbb3f70747c44a77c7bcd40155683ae19c65e1c03b4aa3499c5328201f1"
   }
  }
 },
 "nbformat": 4,
 "nbformat_minor": 2
}
