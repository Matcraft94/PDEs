{
 "cells": [
  {
   "cell_type": "code",
   "execution_count": 1,
   "metadata": {},
   "outputs": [],
   "source": [
    "import numpy as np\n",
    "import scipy.sparse as sparse\n",
    "import scipy.sparse.linalg as splinalg\n",
    "import matplotlib.pyplot as plt"
   ]
  },
  {
   "cell_type": "code",
   "execution_count": 2,
   "metadata": {},
   "outputs": [],
   "source": [
    "# Define el dominio circular\n",
    "R = 1\n",
    "n_r = 50\n",
    "n_theta = 50"
   ]
  },
  {
   "cell_type": "code",
   "execution_count": 3,
   "metadata": {},
   "outputs": [],
   "source": [
    "# Crea una malla polar para el dominio\n",
    "r = np.linspace(0, R, n_r+1)\n",
    "theta = np.linspace(0, 2*np.pi, n_theta+1)\n",
    "R, Theta = np.meshgrid(r, theta)"
   ]
  },
  {
   "cell_type": "code",
   "execution_count": 4,
   "metadata": {},
   "outputs": [],
   "source": [
    "# Define la función f(u)\n",
    "def f(u):\n",
    "    return np.sin(u)"
   ]
  },
  {
   "cell_type": "code",
   "execution_count": 14,
   "metadata": {},
   "outputs": [],
   "source": [
    "# Crea una matriz para la forma bilineal\n",
    "def laplacian_matrix(n_r, n_theta):\n",
    "    dr = R[0, 1] - R[0, 0]\n",
    "    dtheta = Theta[1, 0] - Theta[0, 0]\n",
    "    r = R[:, 0]\n",
    "    theta = Theta[0, :]\n",
    "    diag_values = np.zeros((n_r+1) * (n_theta+1))\n",
    "    off_diag_values = np.zeros((n_r+1) * (n_theta+1))\n",
    "    for i in range(1, n_r):\n",
    "        for j in range(n_theta):\n",
    "            idx = i + j * (n_r+1)\n",
    "            diag_values[idx] = (1./dr**2) + (1./(r[i] * dr**2)) + (1./dtheta**2)\n",
    "            off_diag_values[idx] = -0.5 * (1./(r[i] * dr))\n",
    "    # diagonals = [diag_values, -0.5 * (1./(r * dr)) * np.ones(n_r * n_theta), off_diag_values, off_diag_values]\n",
    "    # diagonals = [diag_values, -0.5 * (1./(r[:, np.newaxis] * dr)) * np.ones((n_r, n_theta)), off_diag_values, off_diag_values]\n",
    "    # diagonals = [diag_values, -0.5 * (1./(r[:, np.newaxis] * dr)) * np.ones((n_r, n_theta))[:, np.newaxis]\n",
    "    # diagonals = [diag_values, -0.5 * (1./(r[:, np.newaxis] * dr)) * np.ones((n_r, n_theta)), off_diag_values, off_diag_values]\n",
    "    diagonals = [diag_values, -0.5 * (1./(r[:, np.newaxis] * dr)) * np.ones((n_r, 1)), off_diag_values, off_diag_values]\n",
    "\n",
    "\n",
    "    offsets = [-(n_r+1), -1, 1, n_r+1]\n",
    "    A = sparse.diags(diagonals, offsets)\n",
    "    return A"
   ]
  },
  {
   "cell_type": "code",
   "execution_count": 15,
   "metadata": {},
   "outputs": [
    {
     "name": "stderr",
     "output_type": "stream",
     "text": [
      "C:\\Users\\Det-Pc\\AppData\\Local\\Temp\\ipykernel_14956\\4204223660.py:12: RuntimeWarning: divide by zero encountered in double_scalars\n",
      "  diag_values[idx] = (1./dr**2) + (1./(r[i] * dr**2)) + (1./dtheta**2)\n",
      "C:\\Users\\Det-Pc\\AppData\\Local\\Temp\\ipykernel_14956\\4204223660.py:13: RuntimeWarning: divide by zero encountered in double_scalars\n",
      "  off_diag_values[idx] = -0.5 * (1./(r[i] * dr))\n",
      "C:\\Users\\Det-Pc\\AppData\\Local\\Temp\\ipykernel_14956\\4204223660.py:18: RuntimeWarning: divide by zero encountered in divide\n",
      "  diagonals = [diag_values, -0.5 * (1./(r[:, np.newaxis] * dr)) * np.ones((n_r, 1)), off_diag_values, off_diag_values]\n"
     ]
    },
    {
     "ename": "ValueError",
     "evalue": "operands could not be broadcast together with shapes (51,1) (50,1) ",
     "output_type": "error",
     "traceback": [
      "\u001b[1;31m---------------------------------------------------------------------------\u001b[0m",
      "\u001b[1;31mValueError\u001b[0m                                Traceback (most recent call last)",
      "Cell \u001b[1;32mIn [15], line 2\u001b[0m\n\u001b[0;32m      1\u001b[0m \u001b[39m# Resuelve el problema de Laplace usando el método de gradiente conjugado\u001b[39;00m\n\u001b[1;32m----> 2\u001b[0m A \u001b[39m=\u001b[39m laplacian_matrix(n_r, n_theta)\n\u001b[0;32m      3\u001b[0m u \u001b[39m=\u001b[39m np\u001b[39m.\u001b[39mzeros((n_r\u001b[39m+\u001b[39m\u001b[39m1\u001b[39m) \u001b[39m*\u001b[39m (n_theta\u001b[39m+\u001b[39m\u001b[39m1\u001b[39m))\n\u001b[0;32m      4\u001b[0m r \u001b[39m=\u001b[39m np\u001b[39m.\u001b[39mones_like(u)\n",
      "Cell \u001b[1;32mIn [14], line 18\u001b[0m, in \u001b[0;36mlaplacian_matrix\u001b[1;34m(n_r, n_theta)\u001b[0m\n\u001b[0;32m     13\u001b[0m         off_diag_values[idx] \u001b[39m=\u001b[39m \u001b[39m-\u001b[39m\u001b[39m0.5\u001b[39m \u001b[39m*\u001b[39m (\u001b[39m1.\u001b[39m\u001b[39m/\u001b[39m(r[i] \u001b[39m*\u001b[39m dr))\n\u001b[0;32m     14\u001b[0m \u001b[39m# diagonals = [diag_values, -0.5 * (1./(r * dr)) * np.ones(n_r * n_theta), off_diag_values, off_diag_values]\u001b[39;00m\n\u001b[0;32m     15\u001b[0m \u001b[39m# diagonals = [diag_values, -0.5 * (1./(r[:, np.newaxis] * dr)) * np.ones((n_r, n_theta)), off_diag_values, off_diag_values]\u001b[39;00m\n\u001b[0;32m     16\u001b[0m \u001b[39m# diagonals = [diag_values, -0.5 * (1./(r[:, np.newaxis] * dr)) * np.ones((n_r, n_theta))[:, np.newaxis]\u001b[39;00m\n\u001b[0;32m     17\u001b[0m \u001b[39m# diagonals = [diag_values, -0.5 * (1./(r[:, np.newaxis] * dr)) * np.ones((n_r, n_theta)), off_diag_values, off_diag_values]\u001b[39;00m\n\u001b[1;32m---> 18\u001b[0m diagonals \u001b[39m=\u001b[39m [diag_values, \u001b[39m-\u001b[39;49m\u001b[39m0.5\u001b[39;49m \u001b[39m*\u001b[39;49m (\u001b[39m1.\u001b[39;49m\u001b[39m/\u001b[39;49m(r[:, np\u001b[39m.\u001b[39;49mnewaxis] \u001b[39m*\u001b[39;49m dr)) \u001b[39m*\u001b[39;49m np\u001b[39m.\u001b[39;49mones((n_r, \u001b[39m1\u001b[39;49m)), off_diag_values, off_diag_values]\n\u001b[0;32m     21\u001b[0m offsets \u001b[39m=\u001b[39m [\u001b[39m-\u001b[39m(n_r\u001b[39m+\u001b[39m\u001b[39m1\u001b[39m), \u001b[39m-\u001b[39m\u001b[39m1\u001b[39m, \u001b[39m1\u001b[39m, n_r\u001b[39m+\u001b[39m\u001b[39m1\u001b[39m]\n\u001b[0;32m     22\u001b[0m A \u001b[39m=\u001b[39m sparse\u001b[39m.\u001b[39mdiags(diagonals, offsets)\n",
      "\u001b[1;31mValueError\u001b[0m: operands could not be broadcast together with shapes (51,1) (50,1) "
     ]
    }
   ],
   "source": [
    " # Resuelve el problema de Laplace usando el método de gradiente conjugado\n",
    "A = laplacian_matrix(n_r, n_theta)\n",
    "u = np.zeros((n_r+1) * (n_theta+1))\n",
    "r = np.ones_like(u)\n",
    "tol = 1e-6\n",
    "max_iter = 1000\n",
    "for i in range(max_iter):\n",
    "    r = f(u) - A @ u\n",
    "    alpha = np.inner(r, r) / np.inner(A @ r, r)\n",
    "    u = u + alpha * r\n",
    "    if np.linalg.norm(r) < tol:\n",
    "        break"
   ]
  },
  {
   "cell_type": "code",
   "execution_count": null,
   "metadata": {},
   "outputs": [],
   "source": [
    "U = u.reshape(n_r+1, n_theta+1)\n",
    "fig, ax = plt.subplots()\n",
    "pcm = ax.pcolormesh(Theta, R, U)\n",
    "fig.colorbar(pcm, ax=ax)\n",
    "plt.show()\n",
    "\n"
   ]
  }
 ],
 "metadata": {
  "kernelspec": {
   "display_name": "pytorch-C-DL",
   "language": "python",
   "name": "python3"
  },
  "language_info": {
   "codemirror_mode": {
    "name": "ipython",
    "version": 3
   },
   "file_extension": ".py",
   "mimetype": "text/x-python",
   "name": "python",
   "nbconvert_exporter": "python",
   "pygments_lexer": "ipython3",
   "version": "3.10.6"
  },
  "orig_nbformat": 4,
  "vscode": {
   "interpreter": {
    "hash": "85b52fbe45fd3d3f6426508f2b1ceb63e7294645d1a7097c9a6e2bd314b42ccf"
   }
  }
 },
 "nbformat": 4,
 "nbformat_minor": 2
}
